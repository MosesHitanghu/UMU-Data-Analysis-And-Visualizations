{
 "cells": [
  {
   "cell_type": "markdown",
   "id": "5bba5c94-4765-4263-aefc-9b8ba903a3b6",
   "metadata": {},
   "source": [
    "<img src=\"logo.png\" alt=\"UMU logo\" height=\"10px\" width=\"200px\"  style=\"display:block; margin-left:auto; margin-right:auto;\">\n",
    "<h2> UMU Data Analysis and Visualization </h2>\n",
    "<h4> Hitanghu Moses Mulongo - 2024-M132-20791 </h4>\n"
   ]
  },
  {
   "cell_type": "markdown",
   "id": "a3d5e1ab-8a89-4a1a-9fdc-2c0734b85f54",
   "metadata": {},
   "source": [
    "<h2> Assignment 4 - R Version </h2>"
   ]
  },
  {
   "cell_type": "code",
   "execution_count": null,
   "id": "a9cd486a-96b1-4502-afc8-013b4b9a6c3d",
   "metadata": {},
   "outputs": [],
   "source": [
    "install.packages(\"tidyr\")\n",
    "install.packages(\"dplyr\")"
   ]
  },
  {
   "cell_type": "code",
   "execution_count": 79,
   "id": "d760ab70-c7e2-4da7-8411-076d7f5bc8cb",
   "metadata": {},
   "outputs": [
    {
     "data": {
      "text/html": [
       "<table class=\"dataframe\">\n",
       "<caption>A data.frame: 6 × 12</caption>\n",
       "<thead>\n",
       "\t<tr><th></th><th scope=col>fixed.acidity</th><th scope=col>volatile.acidity</th><th scope=col>citric.acid</th><th scope=col>residual.sugar</th><th scope=col>chlorides</th><th scope=col>free.sulfur.dioxide</th><th scope=col>total.sulfur.dioxide</th><th scope=col>density</th><th scope=col>pH</th><th scope=col>sulphates</th><th scope=col>alcohol</th><th scope=col>quality</th></tr>\n",
       "\t<tr><th></th><th scope=col>&lt;dbl&gt;</th><th scope=col>&lt;dbl&gt;</th><th scope=col>&lt;dbl&gt;</th><th scope=col>&lt;dbl&gt;</th><th scope=col>&lt;dbl&gt;</th><th scope=col>&lt;dbl&gt;</th><th scope=col>&lt;dbl&gt;</th><th scope=col>&lt;dbl&gt;</th><th scope=col>&lt;dbl&gt;</th><th scope=col>&lt;dbl&gt;</th><th scope=col>&lt;dbl&gt;</th><th scope=col>&lt;int&gt;</th></tr>\n",
       "</thead>\n",
       "<tbody>\n",
       "\t<tr><th scope=row>1</th><td>7.0</td><td>0.27</td><td>0.36</td><td>20.7</td><td>0.045</td><td>45</td><td>170</td><td>1.0010</td><td>3.00</td><td>0.45</td><td> 8.8</td><td>6</td></tr>\n",
       "\t<tr><th scope=row>2</th><td>6.3</td><td>0.30</td><td>0.34</td><td> 1.6</td><td>0.049</td><td>14</td><td>132</td><td>0.9940</td><td>3.30</td><td>0.49</td><td> 9.5</td><td>6</td></tr>\n",
       "\t<tr><th scope=row>3</th><td>8.1</td><td>0.28</td><td>0.40</td><td> 6.9</td><td>0.050</td><td>30</td><td> 97</td><td>0.9951</td><td>3.26</td><td>0.44</td><td>10.1</td><td>6</td></tr>\n",
       "\t<tr><th scope=row>4</th><td>7.2</td><td>0.23</td><td>0.32</td><td> 8.5</td><td>0.058</td><td>47</td><td>186</td><td>0.9956</td><td>3.19</td><td>0.40</td><td> 9.9</td><td>6</td></tr>\n",
       "\t<tr><th scope=row>5</th><td>7.2</td><td>0.23</td><td>0.32</td><td> 8.5</td><td>0.058</td><td>47</td><td>186</td><td>0.9956</td><td>3.19</td><td>0.40</td><td> 9.9</td><td>6</td></tr>\n",
       "\t<tr><th scope=row>6</th><td>8.1</td><td>0.28</td><td>0.40</td><td> 6.9</td><td>0.050</td><td>30</td><td> 97</td><td>0.9951</td><td>3.26</td><td>0.44</td><td>10.1</td><td>6</td></tr>\n",
       "</tbody>\n",
       "</table>\n"
      ],
      "text/latex": [
       "A data.frame: 6 × 12\n",
       "\\begin{tabular}{r|llllllllllll}\n",
       "  & fixed.acidity & volatile.acidity & citric.acid & residual.sugar & chlorides & free.sulfur.dioxide & total.sulfur.dioxide & density & pH & sulphates & alcohol & quality\\\\\n",
       "  & <dbl> & <dbl> & <dbl> & <dbl> & <dbl> & <dbl> & <dbl> & <dbl> & <dbl> & <dbl> & <dbl> & <int>\\\\\n",
       "\\hline\n",
       "\t1 & 7.0 & 0.27 & 0.36 & 20.7 & 0.045 & 45 & 170 & 1.0010 & 3.00 & 0.45 &  8.8 & 6\\\\\n",
       "\t2 & 6.3 & 0.30 & 0.34 &  1.6 & 0.049 & 14 & 132 & 0.9940 & 3.30 & 0.49 &  9.5 & 6\\\\\n",
       "\t3 & 8.1 & 0.28 & 0.40 &  6.9 & 0.050 & 30 &  97 & 0.9951 & 3.26 & 0.44 & 10.1 & 6\\\\\n",
       "\t4 & 7.2 & 0.23 & 0.32 &  8.5 & 0.058 & 47 & 186 & 0.9956 & 3.19 & 0.40 &  9.9 & 6\\\\\n",
       "\t5 & 7.2 & 0.23 & 0.32 &  8.5 & 0.058 & 47 & 186 & 0.9956 & 3.19 & 0.40 &  9.9 & 6\\\\\n",
       "\t6 & 8.1 & 0.28 & 0.40 &  6.9 & 0.050 & 30 &  97 & 0.9951 & 3.26 & 0.44 & 10.1 & 6\\\\\n",
       "\\end{tabular}\n"
      ],
      "text/markdown": [
       "\n",
       "A data.frame: 6 × 12\n",
       "\n",
       "| <!--/--> | fixed.acidity &lt;dbl&gt; | volatile.acidity &lt;dbl&gt; | citric.acid &lt;dbl&gt; | residual.sugar &lt;dbl&gt; | chlorides &lt;dbl&gt; | free.sulfur.dioxide &lt;dbl&gt; | total.sulfur.dioxide &lt;dbl&gt; | density &lt;dbl&gt; | pH &lt;dbl&gt; | sulphates &lt;dbl&gt; | alcohol &lt;dbl&gt; | quality &lt;int&gt; |\n",
       "|---|---|---|---|---|---|---|---|---|---|---|---|---|\n",
       "| 1 | 7.0 | 0.27 | 0.36 | 20.7 | 0.045 | 45 | 170 | 1.0010 | 3.00 | 0.45 |  8.8 | 6 |\n",
       "| 2 | 6.3 | 0.30 | 0.34 |  1.6 | 0.049 | 14 | 132 | 0.9940 | 3.30 | 0.49 |  9.5 | 6 |\n",
       "| 3 | 8.1 | 0.28 | 0.40 |  6.9 | 0.050 | 30 |  97 | 0.9951 | 3.26 | 0.44 | 10.1 | 6 |\n",
       "| 4 | 7.2 | 0.23 | 0.32 |  8.5 | 0.058 | 47 | 186 | 0.9956 | 3.19 | 0.40 |  9.9 | 6 |\n",
       "| 5 | 7.2 | 0.23 | 0.32 |  8.5 | 0.058 | 47 | 186 | 0.9956 | 3.19 | 0.40 |  9.9 | 6 |\n",
       "| 6 | 8.1 | 0.28 | 0.40 |  6.9 | 0.050 | 30 |  97 | 0.9951 | 3.26 | 0.44 | 10.1 | 6 |\n",
       "\n"
      ],
      "text/plain": [
       "  fixed.acidity volatile.acidity citric.acid residual.sugar chlorides\n",
       "1 7.0           0.27             0.36        20.7           0.045    \n",
       "2 6.3           0.30             0.34         1.6           0.049    \n",
       "3 8.1           0.28             0.40         6.9           0.050    \n",
       "4 7.2           0.23             0.32         8.5           0.058    \n",
       "5 7.2           0.23             0.32         8.5           0.058    \n",
       "6 8.1           0.28             0.40         6.9           0.050    \n",
       "  free.sulfur.dioxide total.sulfur.dioxide density pH   sulphates alcohol\n",
       "1 45                  170                  1.0010  3.00 0.45       8.8   \n",
       "2 14                  132                  0.9940  3.30 0.49       9.5   \n",
       "3 30                   97                  0.9951  3.26 0.44      10.1   \n",
       "4 47                  186                  0.9956  3.19 0.40       9.9   \n",
       "5 47                  186                  0.9956  3.19 0.40       9.9   \n",
       "6 30                   97                  0.9951  3.26 0.44      10.1   \n",
       "  quality\n",
       "1 6      \n",
       "2 6      \n",
       "3 6      \n",
       "4 6      \n",
       "5 6      \n",
       "6 6      "
      ]
     },
     "metadata": {},
     "output_type": "display_data"
    }
   ],
   "source": [
    "\n",
    "# Load CSV file\n",
    "data <- read.csv(\"winequality-white.csv\",header = TRUE, sep = \";\", stringsAsFactors = FALSE)\n",
    "\n",
    "head(data)\n",
    "#data_tbl <- as_tibble(data)\n",
    "#data_tbl"
   ]
  },
  {
   "cell_type": "markdown",
   "id": "4ebf103e-6266-4a3a-82b0-9ad4a9501490",
   "metadata": {},
   "source": [
    "<h1> 1.0 Data Cleaning </h1>"
   ]
  },
  {
   "cell_type": "markdown",
   "id": "67057741-42e6-4ce9-8d5d-7938ddfe0f97",
   "metadata": {},
   "source": [
    "<h4> Task 1.1: Checking and handling missing values </h4>"
   ]
  },
  {
   "cell_type": "code",
   "execution_count": 15,
   "id": "fe88750b-d1a0-4d21-94fe-240359349bdc",
   "metadata": {},
   "outputs": [
    {
     "data": {
      "text/html": [
       "<table class=\"dataframe\">\n",
       "<caption>A data.frame: 12 × 1</caption>\n",
       "<thead>\n",
       "\t<tr><th></th><th scope=col>missing_values</th></tr>\n",
       "\t<tr><th></th><th scope=col>&lt;dbl&gt;</th></tr>\n",
       "</thead>\n",
       "<tbody>\n",
       "\t<tr><th scope=row>fixed.acidity</th><td>0</td></tr>\n",
       "\t<tr><th scope=row>volatile.acidity</th><td>0</td></tr>\n",
       "\t<tr><th scope=row>citric.acid</th><td>0</td></tr>\n",
       "\t<tr><th scope=row>residual.sugar</th><td>0</td></tr>\n",
       "\t<tr><th scope=row>chlorides</th><td>0</td></tr>\n",
       "\t<tr><th scope=row>free.sulfur.dioxide</th><td>0</td></tr>\n",
       "\t<tr><th scope=row>total.sulfur.dioxide</th><td>0</td></tr>\n",
       "\t<tr><th scope=row>density</th><td>0</td></tr>\n",
       "\t<tr><th scope=row>pH</th><td>0</td></tr>\n",
       "\t<tr><th scope=row>sulphates</th><td>0</td></tr>\n",
       "\t<tr><th scope=row>alcohol</th><td>0</td></tr>\n",
       "\t<tr><th scope=row>quality</th><td>0</td></tr>\n",
       "</tbody>\n",
       "</table>\n"
      ],
      "text/latex": [
       "A data.frame: 12 × 1\n",
       "\\begin{tabular}{r|l}\n",
       "  & missing\\_values\\\\\n",
       "  & <dbl>\\\\\n",
       "\\hline\n",
       "\tfixed.acidity & 0\\\\\n",
       "\tvolatile.acidity & 0\\\\\n",
       "\tcitric.acid & 0\\\\\n",
       "\tresidual.sugar & 0\\\\\n",
       "\tchlorides & 0\\\\\n",
       "\tfree.sulfur.dioxide & 0\\\\\n",
       "\ttotal.sulfur.dioxide & 0\\\\\n",
       "\tdensity & 0\\\\\n",
       "\tpH & 0\\\\\n",
       "\tsulphates & 0\\\\\n",
       "\talcohol & 0\\\\\n",
       "\tquality & 0\\\\\n",
       "\\end{tabular}\n"
      ],
      "text/markdown": [
       "\n",
       "A data.frame: 12 × 1\n",
       "\n",
       "| <!--/--> | missing_values &lt;dbl&gt; |\n",
       "|---|---|\n",
       "| fixed.acidity | 0 |\n",
       "| volatile.acidity | 0 |\n",
       "| citric.acid | 0 |\n",
       "| residual.sugar | 0 |\n",
       "| chlorides | 0 |\n",
       "| free.sulfur.dioxide | 0 |\n",
       "| total.sulfur.dioxide | 0 |\n",
       "| density | 0 |\n",
       "| pH | 0 |\n",
       "| sulphates | 0 |\n",
       "| alcohol | 0 |\n",
       "| quality | 0 |\n",
       "\n"
      ],
      "text/plain": [
       "                     missing_values\n",
       "fixed.acidity        0             \n",
       "volatile.acidity     0             \n",
       "citric.acid          0             \n",
       "residual.sugar       0             \n",
       "chlorides            0             \n",
       "free.sulfur.dioxide  0             \n",
       "total.sulfur.dioxide 0             \n",
       "density              0             \n",
       "pH                   0             \n",
       "sulphates            0             \n",
       "alcohol              0             \n",
       "quality              0             "
      ]
     },
     "metadata": {},
     "output_type": "display_data"
    }
   ],
   "source": [
    "#checks for missing values using colsums(is.na(data)) and stores them as a df\n",
    "missing_table <- data.frame(\n",
    "\n",
    "  missing_values = colSums(is.na(data))\n",
    ")\n",
    "\n",
    "missing_table\n",
    "\n"
   ]
  },
  {
   "cell_type": "markdown",
   "id": "3a0a6656-1b91-4fcd-bb15-4861f3654fcf",
   "metadata": {},
   "source": [
    "<h6> As we can see there are no missing values in the dataset </h6>"
   ]
  },
  {
   "cell_type": "markdown",
   "id": "d807ab6f-6313-42db-afb2-7eaa99131a3e",
   "metadata": {},
   "source": [
    "<h2> Task 1.2: Checking  and handling outliers </h2>"
   ]
  },
  {
   "cell_type": "code",
   "execution_count": 17,
   "id": "2a8f7a63-b176-4898-b854-9ac749420bf2",
   "metadata": {},
   "outputs": [],
   "source": [
    "# Finction for checking for outliers\n",
    "check_for_outliers <- function(df){\n",
    "outlier_summary <- df %>%\n",
    "  summarise(across(\n",
    "    where(is.numeric), \n",
    "    ~ sum(. < (quantile(., 0.25, na.rm = TRUE) - 1.5 * IQR(., na.rm = TRUE)) |\n",
    "          . > (quantile(., 0.75, na.rm = TRUE) + 1.5 * IQR(., na.rm = TRUE))),\n",
    "    .names = \"outliers_in_{.col}\"\n",
    "  ))\n",
    "\n",
    "outlier_summary_long <- outlier_summary %>%\n",
    "  pivot_longer(\n",
    "    cols = everything(),\n",
    "    names_to = \"variable\",\n",
    "    values_to = \"outlier_count\"\n",
    "  )\n",
    "\n",
    "# Optional: clean variable names\n",
    "outlier_summary_long$variable <- gsub(\"outliers_in_\", \"\", outlier_summary_long$variable)\n",
    "\n",
    "# Display the result\n",
    "outlier_summary_long\n",
    "}"
   ]
  },
  {
   "cell_type": "markdown",
   "id": "761df49a-4293-47c3-a22e-1eba1e14a15e",
   "metadata": {},
   "source": [
    "<h2> 1.2.1 displaying outliers </p>"
   ]
  },
  {
   "cell_type": "code",
   "execution_count": 21,
   "id": "afe16b92-8d3f-4053-87ce-e7bd4b5cd8dd",
   "metadata": {},
   "outputs": [
    {
     "name": "stderr",
     "output_type": "stream",
     "text": [
      "\n",
      "Attaching package: 'dplyr'\n",
      "\n",
      "\n",
      "The following objects are masked from 'package:stats':\n",
      "\n",
      "    filter, lag\n",
      "\n",
      "\n",
      "The following objects are masked from 'package:base':\n",
      "\n",
      "    intersect, setdiff, setequal, union\n",
      "\n",
      "\n"
     ]
    },
    {
     "data": {
      "text/html": [
       "<table class=\"dataframe\">\n",
       "<caption>A tibble: 12 × 2</caption>\n",
       "<thead>\n",
       "\t<tr><th scope=col>variable</th><th scope=col>outlier_count</th></tr>\n",
       "\t<tr><th scope=col>&lt;chr&gt;</th><th scope=col>&lt;int&gt;</th></tr>\n",
       "</thead>\n",
       "<tbody>\n",
       "\t<tr><td>fixed.acidity       </td><td>119</td></tr>\n",
       "\t<tr><td>volatile.acidity    </td><td>186</td></tr>\n",
       "\t<tr><td>citric.acid         </td><td>270</td></tr>\n",
       "\t<tr><td>residual.sugar      </td><td>  7</td></tr>\n",
       "\t<tr><td>chlorides           </td><td>208</td></tr>\n",
       "\t<tr><td>free.sulfur.dioxide </td><td> 50</td></tr>\n",
       "\t<tr><td>total.sulfur.dioxide</td><td> 19</td></tr>\n",
       "\t<tr><td>density             </td><td>  5</td></tr>\n",
       "\t<tr><td>pH                  </td><td> 75</td></tr>\n",
       "\t<tr><td>sulphates           </td><td>124</td></tr>\n",
       "\t<tr><td>alcohol             </td><td>  0</td></tr>\n",
       "\t<tr><td>quality             </td><td>200</td></tr>\n",
       "</tbody>\n",
       "</table>\n"
      ],
      "text/latex": [
       "A tibble: 12 × 2\n",
       "\\begin{tabular}{ll}\n",
       " variable & outlier\\_count\\\\\n",
       " <chr> & <int>\\\\\n",
       "\\hline\n",
       "\t fixed.acidity        & 119\\\\\n",
       "\t volatile.acidity     & 186\\\\\n",
       "\t citric.acid          & 270\\\\\n",
       "\t residual.sugar       &   7\\\\\n",
       "\t chlorides            & 208\\\\\n",
       "\t free.sulfur.dioxide  &  50\\\\\n",
       "\t total.sulfur.dioxide &  19\\\\\n",
       "\t density              &   5\\\\\n",
       "\t pH                   &  75\\\\\n",
       "\t sulphates            & 124\\\\\n",
       "\t alcohol              &   0\\\\\n",
       "\t quality              & 200\\\\\n",
       "\\end{tabular}\n"
      ],
      "text/markdown": [
       "\n",
       "A tibble: 12 × 2\n",
       "\n",
       "| variable &lt;chr&gt; | outlier_count &lt;int&gt; |\n",
       "|---|---|\n",
       "| fixed.acidity        | 119 |\n",
       "| volatile.acidity     | 186 |\n",
       "| citric.acid          | 270 |\n",
       "| residual.sugar       |   7 |\n",
       "| chlorides            | 208 |\n",
       "| free.sulfur.dioxide  |  50 |\n",
       "| total.sulfur.dioxide |  19 |\n",
       "| density              |   5 |\n",
       "| pH                   |  75 |\n",
       "| sulphates            | 124 |\n",
       "| alcohol              |   0 |\n",
       "| quality              | 200 |\n",
       "\n"
      ],
      "text/plain": [
       "   variable             outlier_count\n",
       "1  fixed.acidity        119          \n",
       "2  volatile.acidity     186          \n",
       "3  citric.acid          270          \n",
       "4  residual.sugar         7          \n",
       "5  chlorides            208          \n",
       "6  free.sulfur.dioxide   50          \n",
       "7  total.sulfur.dioxide  19          \n",
       "8  density                5          \n",
       "9  pH                    75          \n",
       "10 sulphates            124          \n",
       "11 alcohol                0          \n",
       "12 quality              200          "
      ]
     },
     "metadata": {},
     "output_type": "display_data"
    }
   ],
   "source": [
    "library(tidyr)\n",
    "library(dplyr)\n",
    "check_for_outliers(data) # display  outliers\n"
   ]
  },
  {
   "cell_type": "markdown",
   "id": "95975f43-b6aa-437c-bd36-04c9c5a47cfe",
   "metadata": {},
   "source": [
    "<h2>1.2.2 Replace outliers with median</h2>"
   ]
  },
  {
   "cell_type": "code",
   "execution_count": 23,
   "id": "79e6caea-d02f-478b-845f-d1149a32dc7b",
   "metadata": {},
   "outputs": [],
   "source": [
    "#library(dplyr)\n",
    "\n",
    "# Function to replace outliers with mean\n",
    "replace_outlier_with_median <- function(x) {\n",
    "  Q1 <- quantile(x, 0.25, na.rm = TRUE)\n",
    "  Q3 <- quantile(x, 0.75, na.rm = TRUE)\n",
    "  IQR <- Q3 - Q1\n",
    "  lower <- Q1 - 1.5 * IQR\n",
    "  upper <- Q3 + 1.5 * IQR\n",
    "  \n",
    "  median_no_outlier <- median(x[x >= lower & x <= upper], na.rm = TRUE)\n",
    "  \n",
    "  x[x < lower | x > upper] <- median_no_outlier\n",
    "  return(x)\n",
    "}\n",
    "\n",
    "# Apply to all numeric columns\n",
    "data_clean <- data %>%\n",
    "  mutate(across(where(is.numeric), replace_outlier_with_median))\n"
   ]
  },
  {
   "cell_type": "markdown",
   "id": "90d638ec-c7ef-4cfe-89ab-9a0691286bd4",
   "metadata": {},
   "source": [
    "<h4> Explanation </h4>\n",
    "\n",
    "1. Compute Q1, Q3, and IQR for each numeric column.\n",
    "\n",
    "2. Define lower and upper bounds for outliers.\n",
    "\n",
    "3. Calculate the mean of values within the bounds (ignoring outliers).\n",
    "\n",
    "4. Replace all values outside the bounds with this mean.\n",
    "\n",
    "5. Use mutate(across(...)) to apply it to all numeric columns in the dataframe."
   ]
  },
  {
   "cell_type": "markdown",
   "id": "6656c780-cf98-477d-94d5-7c7441ddf91b",
   "metadata": {},
   "source": [
    "<h2>1.2.3 Checking for outliers again </h2>"
   ]
  },
  {
   "cell_type": "code",
   "execution_count": 25,
   "id": "e361afac-4a06-43d8-b94c-5041afc01a1b",
   "metadata": {},
   "outputs": [
    {
     "data": {
      "text/html": [
       "<table class=\"dataframe\">\n",
       "<caption>A tibble: 12 × 2</caption>\n",
       "<thead>\n",
       "\t<tr><th scope=col>variable</th><th scope=col>outlier_count</th></tr>\n",
       "\t<tr><th scope=col>&lt;chr&gt;</th><th scope=col>&lt;int&gt;</th></tr>\n",
       "</thead>\n",
       "<tbody>\n",
       "\t<tr><td>fixed.acidity       </td><td>  0</td></tr>\n",
       "\t<tr><td>volatile.acidity    </td><td> 38</td></tr>\n",
       "\t<tr><td>citric.acid         </td><td>115</td></tr>\n",
       "\t<tr><td>residual.sugar      </td><td>  0</td></tr>\n",
       "\t<tr><td>chlorides           </td><td> 38</td></tr>\n",
       "\t<tr><td>free.sulfur.dioxide </td><td>  7</td></tr>\n",
       "\t<tr><td>total.sulfur.dioxide</td><td>  0</td></tr>\n",
       "\t<tr><td>density             </td><td>  0</td></tr>\n",
       "\t<tr><td>pH                  </td><td> 17</td></tr>\n",
       "\t<tr><td>sulphates           </td><td> 60</td></tr>\n",
       "\t<tr><td>alcohol             </td><td>  0</td></tr>\n",
       "\t<tr><td>quality             </td><td>  0</td></tr>\n",
       "</tbody>\n",
       "</table>\n"
      ],
      "text/latex": [
       "A tibble: 12 × 2\n",
       "\\begin{tabular}{ll}\n",
       " variable & outlier\\_count\\\\\n",
       " <chr> & <int>\\\\\n",
       "\\hline\n",
       "\t fixed.acidity        &   0\\\\\n",
       "\t volatile.acidity     &  38\\\\\n",
       "\t citric.acid          & 115\\\\\n",
       "\t residual.sugar       &   0\\\\\n",
       "\t chlorides            &  38\\\\\n",
       "\t free.sulfur.dioxide  &   7\\\\\n",
       "\t total.sulfur.dioxide &   0\\\\\n",
       "\t density              &   0\\\\\n",
       "\t pH                   &  17\\\\\n",
       "\t sulphates            &  60\\\\\n",
       "\t alcohol              &   0\\\\\n",
       "\t quality              &   0\\\\\n",
       "\\end{tabular}\n"
      ],
      "text/markdown": [
       "\n",
       "A tibble: 12 × 2\n",
       "\n",
       "| variable &lt;chr&gt; | outlier_count &lt;int&gt; |\n",
       "|---|---|\n",
       "| fixed.acidity        |   0 |\n",
       "| volatile.acidity     |  38 |\n",
       "| citric.acid          | 115 |\n",
       "| residual.sugar       |   0 |\n",
       "| chlorides            |  38 |\n",
       "| free.sulfur.dioxide  |   7 |\n",
       "| total.sulfur.dioxide |   0 |\n",
       "| density              |   0 |\n",
       "| pH                   |  17 |\n",
       "| sulphates            |  60 |\n",
       "| alcohol              |   0 |\n",
       "| quality              |   0 |\n",
       "\n"
      ],
      "text/plain": [
       "   variable             outlier_count\n",
       "1  fixed.acidity          0          \n",
       "2  volatile.acidity      38          \n",
       "3  citric.acid          115          \n",
       "4  residual.sugar         0          \n",
       "5  chlorides             38          \n",
       "6  free.sulfur.dioxide    7          \n",
       "7  total.sulfur.dioxide   0          \n",
       "8  density                0          \n",
       "9  pH                    17          \n",
       "10 sulphates             60          \n",
       "11 alcohol                0          \n",
       "12 quality                0          "
      ]
     },
     "metadata": {},
     "output_type": "display_data"
    }
   ],
   "source": [
    "check_for_outliers(data_clean) # Checking for outliers "
   ]
  },
  {
   "cell_type": "markdown",
   "id": "3f456cc2-094a-4c31-9080-b69f420b6de7",
   "metadata": {},
   "source": [
    "<p> We still have some outliers so we gonna remove them using winsorization which will replace extreme values with nearest “non-outlier” value instead of removing complete rows</p>\n"
   ]
  },
  {
   "cell_type": "code",
   "execution_count": 27,
   "id": "b3729663-33ea-4b34-9a9a-9105f3b48e10",
   "metadata": {},
   "outputs": [],
   "source": [
    "\n",
    "winsorize_outliers <- function(df) {\n",
    "  # Identify numeric columns\n",
    "  num_cols <- sapply(df, is.numeric)\n",
    "  \n",
    "  # Function to Winsorize a single numeric vector\n",
    "  winsorize <- function(x) {\n",
    "    Q1 <- quantile(x, 0.25, na.rm = TRUE)\n",
    "    Q3 <- quantile(x, 0.75, na.rm = TRUE)\n",
    "    IQR <- Q3 - Q1\n",
    "    lower <- Q1 - 1.5 * IQR\n",
    "    upper <- Q3 + 1.5 * IQR\n",
    "    \n",
    "    x[x < lower] <- lower\n",
    "    x[x > upper] <- upper\n",
    "    return(x)\n",
    "  }\n",
    "  \n",
    "  # Apply Winsorization to all numeric columns\n",
    "  df[, num_cols] <- lapply(df[, num_cols, drop = FALSE], winsorize)\n",
    "  \n",
    "  return(df)\n",
    "}\n",
    "\n",
    "df_cleaned <- winsorize_outliers(data_clean)\n"
   ]
  },
  {
   "cell_type": "code",
   "execution_count": 29,
   "id": "e547af65-fa4a-439a-be1c-8ea400bc7e5b",
   "metadata": {},
   "outputs": [
    {
     "data": {
      "text/html": [
       "<table class=\"dataframe\">\n",
       "<caption>A tibble: 12 × 2</caption>\n",
       "<thead>\n",
       "\t<tr><th scope=col>variable</th><th scope=col>outlier_count</th></tr>\n",
       "\t<tr><th scope=col>&lt;chr&gt;</th><th scope=col>&lt;int&gt;</th></tr>\n",
       "</thead>\n",
       "<tbody>\n",
       "\t<tr><td>fixed.acidity       </td><td>0</td></tr>\n",
       "\t<tr><td>volatile.acidity    </td><td>0</td></tr>\n",
       "\t<tr><td>citric.acid         </td><td>0</td></tr>\n",
       "\t<tr><td>residual.sugar      </td><td>0</td></tr>\n",
       "\t<tr><td>chlorides           </td><td>0</td></tr>\n",
       "\t<tr><td>free.sulfur.dioxide </td><td>0</td></tr>\n",
       "\t<tr><td>total.sulfur.dioxide</td><td>0</td></tr>\n",
       "\t<tr><td>density             </td><td>0</td></tr>\n",
       "\t<tr><td>pH                  </td><td>0</td></tr>\n",
       "\t<tr><td>sulphates           </td><td>0</td></tr>\n",
       "\t<tr><td>alcohol             </td><td>0</td></tr>\n",
       "\t<tr><td>quality             </td><td>0</td></tr>\n",
       "</tbody>\n",
       "</table>\n"
      ],
      "text/latex": [
       "A tibble: 12 × 2\n",
       "\\begin{tabular}{ll}\n",
       " variable & outlier\\_count\\\\\n",
       " <chr> & <int>\\\\\n",
       "\\hline\n",
       "\t fixed.acidity        & 0\\\\\n",
       "\t volatile.acidity     & 0\\\\\n",
       "\t citric.acid          & 0\\\\\n",
       "\t residual.sugar       & 0\\\\\n",
       "\t chlorides            & 0\\\\\n",
       "\t free.sulfur.dioxide  & 0\\\\\n",
       "\t total.sulfur.dioxide & 0\\\\\n",
       "\t density              & 0\\\\\n",
       "\t pH                   & 0\\\\\n",
       "\t sulphates            & 0\\\\\n",
       "\t alcohol              & 0\\\\\n",
       "\t quality              & 0\\\\\n",
       "\\end{tabular}\n"
      ],
      "text/markdown": [
       "\n",
       "A tibble: 12 × 2\n",
       "\n",
       "| variable &lt;chr&gt; | outlier_count &lt;int&gt; |\n",
       "|---|---|\n",
       "| fixed.acidity        | 0 |\n",
       "| volatile.acidity     | 0 |\n",
       "| citric.acid          | 0 |\n",
       "| residual.sugar       | 0 |\n",
       "| chlorides            | 0 |\n",
       "| free.sulfur.dioxide  | 0 |\n",
       "| total.sulfur.dioxide | 0 |\n",
       "| density              | 0 |\n",
       "| pH                   | 0 |\n",
       "| sulphates            | 0 |\n",
       "| alcohol              | 0 |\n",
       "| quality              | 0 |\n",
       "\n"
      ],
      "text/plain": [
       "   variable             outlier_count\n",
       "1  fixed.acidity        0            \n",
       "2  volatile.acidity     0            \n",
       "3  citric.acid          0            \n",
       "4  residual.sugar       0            \n",
       "5  chlorides            0            \n",
       "6  free.sulfur.dioxide  0            \n",
       "7  total.sulfur.dioxide 0            \n",
       "8  density              0            \n",
       "9  pH                   0            \n",
       "10 sulphates            0            \n",
       "11 alcohol              0            \n",
       "12 quality              0            "
      ]
     },
     "metadata": {},
     "output_type": "display_data"
    }
   ],
   "source": [
    "# Checking for outliers again\n",
    "check_for_outliers(df_cleaned)"
   ]
  },
  {
   "cell_type": "markdown",
   "id": "4e7fb60f-2b77-4268-9580-7903d7a2c071",
   "metadata": {},
   "source": [
    "<p> --- All outliers have been cleaned --- </p>"
   ]
  },
  {
   "cell_type": "markdown",
   "id": "9b5156b8-f692-406c-92da-e7c886d67d39",
   "metadata": {},
   "source": [
    "<h4> Task 1.3: Checking and handling scales among variable</h4>"
   ]
  },
  {
   "cell_type": "code",
   "execution_count": 31,
   "id": "2fc4eee8-5fd2-477d-85c8-54d0d3e90f1c",
   "metadata": {},
   "outputs": [
    {
     "data": {
      "text/html": [
       "<table class=\"dataframe\">\n",
       "<caption>A data.frame: 12 × 3</caption>\n",
       "<thead>\n",
       "\t<tr><th></th><th scope=col>Min</th><th scope=col>Max</th><th scope=col>Range</th></tr>\n",
       "\t<tr><th></th><th scope=col>&lt;dbl&gt;</th><th scope=col>&lt;dbl&gt;</th><th scope=col>&lt;dbl&gt;</th></tr>\n",
       "</thead>\n",
       "<tbody>\n",
       "\t<tr><th scope=row>fixed.acidity</th><td> 4.80000</td><td>  8.80000</td><td>  4.0000</td></tr>\n",
       "\t<tr><th scope=row>volatile.acidity</th><td> 0.08000</td><td>  0.46000</td><td>  0.3800</td></tr>\n",
       "\t<tr><th scope=row>citric.acid</th><td> 0.12000</td><td>  0.52000</td><td>  0.4000</td></tr>\n",
       "\t<tr><th scope=row>residual.sugar</th><td> 0.60000</td><td> 22.00000</td><td> 21.4000</td></tr>\n",
       "\t<tr><th scope=row>chlorides</th><td> 0.01650</td><td>  0.06850</td><td>  0.0520</td></tr>\n",
       "\t<tr><th scope=row>free.sulfur.dioxide</th><td> 2.00000</td><td> 78.00000</td><td> 76.0000</td></tr>\n",
       "\t<tr><th scope=row>total.sulfur.dioxide</th><td>21.00000</td><td>255.00000</td><td>234.0000</td></tr>\n",
       "\t<tr><th scope=row>density</th><td> 0.98711</td><td>  1.00241</td><td>  0.0153</td></tr>\n",
       "\t<tr><th scope=row>pH</th><td> 2.82000</td><td>  3.54000</td><td>  0.7200</td></tr>\n",
       "\t<tr><th scope=row>sulphates</th><td> 0.22000</td><td>  0.73500</td><td>  0.5150</td></tr>\n",
       "\t<tr><th scope=row>alcohol</th><td> 8.00000</td><td> 14.20000</td><td>  6.2000</td></tr>\n",
       "\t<tr><th scope=row>quality</th><td> 4.00000</td><td>  7.00000</td><td>  3.0000</td></tr>\n",
       "</tbody>\n",
       "</table>\n"
      ],
      "text/latex": [
       "A data.frame: 12 × 3\n",
       "\\begin{tabular}{r|lll}\n",
       "  & Min & Max & Range\\\\\n",
       "  & <dbl> & <dbl> & <dbl>\\\\\n",
       "\\hline\n",
       "\tfixed.acidity &  4.80000 &   8.80000 &   4.0000\\\\\n",
       "\tvolatile.acidity &  0.08000 &   0.46000 &   0.3800\\\\\n",
       "\tcitric.acid &  0.12000 &   0.52000 &   0.4000\\\\\n",
       "\tresidual.sugar &  0.60000 &  22.00000 &  21.4000\\\\\n",
       "\tchlorides &  0.01650 &   0.06850 &   0.0520\\\\\n",
       "\tfree.sulfur.dioxide &  2.00000 &  78.00000 &  76.0000\\\\\n",
       "\ttotal.sulfur.dioxide & 21.00000 & 255.00000 & 234.0000\\\\\n",
       "\tdensity &  0.98711 &   1.00241 &   0.0153\\\\\n",
       "\tpH &  2.82000 &   3.54000 &   0.7200\\\\\n",
       "\tsulphates &  0.22000 &   0.73500 &   0.5150\\\\\n",
       "\talcohol &  8.00000 &  14.20000 &   6.2000\\\\\n",
       "\tquality &  4.00000 &   7.00000 &   3.0000\\\\\n",
       "\\end{tabular}\n"
      ],
      "text/markdown": [
       "\n",
       "A data.frame: 12 × 3\n",
       "\n",
       "| <!--/--> | Min &lt;dbl&gt; | Max &lt;dbl&gt; | Range &lt;dbl&gt; |\n",
       "|---|---|---|---|\n",
       "| fixed.acidity |  4.80000 |   8.80000 |   4.0000 |\n",
       "| volatile.acidity |  0.08000 |   0.46000 |   0.3800 |\n",
       "| citric.acid |  0.12000 |   0.52000 |   0.4000 |\n",
       "| residual.sugar |  0.60000 |  22.00000 |  21.4000 |\n",
       "| chlorides |  0.01650 |   0.06850 |   0.0520 |\n",
       "| free.sulfur.dioxide |  2.00000 |  78.00000 |  76.0000 |\n",
       "| total.sulfur.dioxide | 21.00000 | 255.00000 | 234.0000 |\n",
       "| density |  0.98711 |   1.00241 |   0.0153 |\n",
       "| pH |  2.82000 |   3.54000 |   0.7200 |\n",
       "| sulphates |  0.22000 |   0.73500 |   0.5150 |\n",
       "| alcohol |  8.00000 |  14.20000 |   6.2000 |\n",
       "| quality |  4.00000 |   7.00000 |   3.0000 |\n",
       "\n"
      ],
      "text/plain": [
       "                     Min      Max       Range   \n",
       "fixed.acidity         4.80000   8.80000   4.0000\n",
       "volatile.acidity      0.08000   0.46000   0.3800\n",
       "citric.acid           0.12000   0.52000   0.4000\n",
       "residual.sugar        0.60000  22.00000  21.4000\n",
       "chlorides             0.01650   0.06850   0.0520\n",
       "free.sulfur.dioxide   2.00000  78.00000  76.0000\n",
       "total.sulfur.dioxide 21.00000 255.00000 234.0000\n",
       "density               0.98711   1.00241   0.0153\n",
       "pH                    2.82000   3.54000   0.7200\n",
       "sulphates             0.22000   0.73500   0.5150\n",
       "alcohol               8.00000  14.20000   6.2000\n",
       "quality               4.00000   7.00000   3.0000"
      ]
     },
     "metadata": {},
     "output_type": "display_data"
    }
   ],
   "source": [
    "# Identify numeric columns\n",
    "num_cols <- sapply(df_cleaned, is.numeric)\n",
    "\n",
    "# Get min, max, and range for each numeric column\n",
    "check_for_scale <- function(df_cleaned){\n",
    "scale_summary <- data.frame(\n",
    "  #Column = names(df_cleaned)[num_cols],\n",
    "  Min = sapply(df_cleaned[, num_cols], min, na.rm = TRUE),\n",
    "  Max = sapply(df_cleaned[, num_cols], max, na.rm = TRUE),\n",
    "  Range = sapply(df_cleaned[, num_cols], function(x) max(x, na.rm = TRUE) - min(x, na.rm = TRUE))\n",
    ")\n",
    "\n",
    "scale_summary\n",
    "    }\n",
    "check_for_scale(df_cleaned)"
   ]
  },
  {
   "cell_type": "markdown",
   "id": "330f7b58-e19d-4d81-88f4-c3c348abf528",
   "metadata": {},
   "source": [
    "<p>variables are not on the same scale. we will rescale usin min-max scale</p>"
   ]
  },
  {
   "cell_type": "markdown",
   "id": "d95ec0ad-7467-4627-8933-f1eadfcb54e6",
   "metadata": {},
   "source": [
    "<h2> 1.3.2: Scaling variables using min-max</h2>"
   ]
  },
  {
   "cell_type": "code",
   "execution_count": 33,
   "id": "86eeb5af-30bb-46e7-b0f4-993df162cdb2",
   "metadata": {},
   "outputs": [
    {
     "data": {
      "text/html": [
       "<table class=\"dataframe\">\n",
       "<caption>A data.frame: 12 × 3</caption>\n",
       "<thead>\n",
       "\t<tr><th></th><th scope=col>Min</th><th scope=col>Max</th><th scope=col>Range</th></tr>\n",
       "\t<tr><th></th><th scope=col>&lt;dbl&gt;</th><th scope=col>&lt;dbl&gt;</th><th scope=col>&lt;dbl&gt;</th></tr>\n",
       "</thead>\n",
       "<tbody>\n",
       "\t<tr><th scope=row>fixed.acidity</th><td>0</td><td>1</td><td>1</td></tr>\n",
       "\t<tr><th scope=row>volatile.acidity</th><td>0</td><td>1</td><td>1</td></tr>\n",
       "\t<tr><th scope=row>citric.acid</th><td>0</td><td>1</td><td>1</td></tr>\n",
       "\t<tr><th scope=row>residual.sugar</th><td>0</td><td>1</td><td>1</td></tr>\n",
       "\t<tr><th scope=row>chlorides</th><td>0</td><td>1</td><td>1</td></tr>\n",
       "\t<tr><th scope=row>free.sulfur.dioxide</th><td>0</td><td>1</td><td>1</td></tr>\n",
       "\t<tr><th scope=row>total.sulfur.dioxide</th><td>0</td><td>1</td><td>1</td></tr>\n",
       "\t<tr><th scope=row>density</th><td>0</td><td>1</td><td>1</td></tr>\n",
       "\t<tr><th scope=row>pH</th><td>0</td><td>1</td><td>1</td></tr>\n",
       "\t<tr><th scope=row>sulphates</th><td>0</td><td>1</td><td>1</td></tr>\n",
       "\t<tr><th scope=row>alcohol</th><td>0</td><td>1</td><td>1</td></tr>\n",
       "\t<tr><th scope=row>quality</th><td>0</td><td>1</td><td>1</td></tr>\n",
       "</tbody>\n",
       "</table>\n"
      ],
      "text/latex": [
       "A data.frame: 12 × 3\n",
       "\\begin{tabular}{r|lll}\n",
       "  & Min & Max & Range\\\\\n",
       "  & <dbl> & <dbl> & <dbl>\\\\\n",
       "\\hline\n",
       "\tfixed.acidity & 0 & 1 & 1\\\\\n",
       "\tvolatile.acidity & 0 & 1 & 1\\\\\n",
       "\tcitric.acid & 0 & 1 & 1\\\\\n",
       "\tresidual.sugar & 0 & 1 & 1\\\\\n",
       "\tchlorides & 0 & 1 & 1\\\\\n",
       "\tfree.sulfur.dioxide & 0 & 1 & 1\\\\\n",
       "\ttotal.sulfur.dioxide & 0 & 1 & 1\\\\\n",
       "\tdensity & 0 & 1 & 1\\\\\n",
       "\tpH & 0 & 1 & 1\\\\\n",
       "\tsulphates & 0 & 1 & 1\\\\\n",
       "\talcohol & 0 & 1 & 1\\\\\n",
       "\tquality & 0 & 1 & 1\\\\\n",
       "\\end{tabular}\n"
      ],
      "text/markdown": [
       "\n",
       "A data.frame: 12 × 3\n",
       "\n",
       "| <!--/--> | Min &lt;dbl&gt; | Max &lt;dbl&gt; | Range &lt;dbl&gt; |\n",
       "|---|---|---|---|\n",
       "| fixed.acidity | 0 | 1 | 1 |\n",
       "| volatile.acidity | 0 | 1 | 1 |\n",
       "| citric.acid | 0 | 1 | 1 |\n",
       "| residual.sugar | 0 | 1 | 1 |\n",
       "| chlorides | 0 | 1 | 1 |\n",
       "| free.sulfur.dioxide | 0 | 1 | 1 |\n",
       "| total.sulfur.dioxide | 0 | 1 | 1 |\n",
       "| density | 0 | 1 | 1 |\n",
       "| pH | 0 | 1 | 1 |\n",
       "| sulphates | 0 | 1 | 1 |\n",
       "| alcohol | 0 | 1 | 1 |\n",
       "| quality | 0 | 1 | 1 |\n",
       "\n"
      ],
      "text/plain": [
       "                     Min Max Range\n",
       "fixed.acidity        0   1   1    \n",
       "volatile.acidity     0   1   1    \n",
       "citric.acid          0   1   1    \n",
       "residual.sugar       0   1   1    \n",
       "chlorides            0   1   1    \n",
       "free.sulfur.dioxide  0   1   1    \n",
       "total.sulfur.dioxide 0   1   1    \n",
       "density              0   1   1    \n",
       "pH                   0   1   1    \n",
       "sulphates            0   1   1    \n",
       "alcohol              0   1   1    \n",
       "quality              0   1   1    "
      ]
     },
     "metadata": {},
     "output_type": "display_data"
    }
   ],
   "source": [
    "df_cleaned[, num_cols] <- lapply(df_cleaned[, num_cols], function(x) {\n",
    "  (x - min(x, na.rm = TRUE)) / (max(x, na.rm = TRUE) - min(x, na.rm = TRUE))\n",
    "})\n",
    "check_for_scale(df_cleaned)"
   ]
  },
  {
   "cell_type": "markdown",
   "id": "f4940ff6-78e6-45ff-a420-15a3963df159",
   "metadata": {},
   "source": [
    "<P> All variables has been rescaled and all values follow between 0 and 1 </p>"
   ]
  },
  {
   "cell_type": "markdown",
   "id": "ee008caf-c6e9-44d5-ac64-73d414ce9b9d",
   "metadata": {},
   "source": [
    "<h1> Task 2: Feature analysis </h2>"
   ]
  },
  {
   "cell_type": "code",
   "execution_count": 35,
   "id": "a66cabbf-4d15-486d-b845-d72b83c4b64c",
   "metadata": {},
   "outputs": [
    {
     "name": "stderr",
     "output_type": "stream",
     "text": [
      "Loading required package: ggplot2\n",
      "\n",
      "Loading required package: lattice\n",
      "\n",
      "corrplot 0.95 loaded\n",
      "\n"
     ]
    },
    {
     "data": {
      "text/html": [
       "<table class=\"dataframe\">\n",
       "<caption>A data.frame: 12 × 4</caption>\n",
       "<thead>\n",
       "\t<tr><th></th><th scope=col>freqRatio</th><th scope=col>percentUnique</th><th scope=col>zeroVar</th><th scope=col>nzv</th></tr>\n",
       "\t<tr><th></th><th scope=col>&lt;dbl&gt;</th><th scope=col>&lt;dbl&gt;</th><th scope=col>&lt;lgl&gt;</th><th scope=col>&lt;lgl&gt;</th></tr>\n",
       "</thead>\n",
       "<tbody>\n",
       "\t<tr><th scope=row>fixed.acidity</th><td>1.472414</td><td> 0.89832585</td><td>FALSE</td><td>FALSE</td></tr>\n",
       "\t<tr><th scope=row>volatile.acidity</th><td>1.619772</td><td> 1.53123724</td><td>FALSE</td><td>FALSE</td></tr>\n",
       "\t<tr><th scope=row>citric.acid</th><td>1.530945</td><td> 0.83707636</td><td>FALSE</td><td>FALSE</td></tr>\n",
       "\t<tr><th scope=row>residual.sugar</th><td>1.016304</td><td> 6.22703144</td><td>FALSE</td><td>FALSE</td></tr>\n",
       "\t<tr><th scope=row>chlorides</th><td>1.950249</td><td> 1.10249081</td><td>FALSE</td><td>FALSE</td></tr>\n",
       "\t<tr><th scope=row>free.sulfur.dioxide</th><td>1.012500</td><td> 2.08248265</td><td>FALSE</td><td>FALSE</td></tr>\n",
       "\t<tr><th scope=row>total.sulfur.dioxide</th><td>1.045455</td><td> 4.79787668</td><td>FALSE</td><td>FALSE</td></tr>\n",
       "\t<tr><th scope=row>density</th><td>1.049180</td><td>18.10943242</td><td>FALSE</td><td>FALSE</td></tr>\n",
       "\t<tr><th scope=row>pH</th><td>1.156977</td><td> 1.49040425</td><td>FALSE</td><td>FALSE</td></tr>\n",
       "\t<tr><th scope=row>sulphates</th><td>1.188755</td><td> 1.06165782</td><td>FALSE</td><td>FALSE</td></tr>\n",
       "\t<tr><th scope=row>alcohol</th><td>1.004386</td><td> 2.10289914</td><td>FALSE</td><td>FALSE</td></tr>\n",
       "\t<tr><th scope=row>quality</th><td>1.645848</td><td> 0.08166599</td><td>FALSE</td><td>FALSE</td></tr>\n",
       "</tbody>\n",
       "</table>\n"
      ],
      "text/latex": [
       "A data.frame: 12 × 4\n",
       "\\begin{tabular}{r|llll}\n",
       "  & freqRatio & percentUnique & zeroVar & nzv\\\\\n",
       "  & <dbl> & <dbl> & <lgl> & <lgl>\\\\\n",
       "\\hline\n",
       "\tfixed.acidity & 1.472414 &  0.89832585 & FALSE & FALSE\\\\\n",
       "\tvolatile.acidity & 1.619772 &  1.53123724 & FALSE & FALSE\\\\\n",
       "\tcitric.acid & 1.530945 &  0.83707636 & FALSE & FALSE\\\\\n",
       "\tresidual.sugar & 1.016304 &  6.22703144 & FALSE & FALSE\\\\\n",
       "\tchlorides & 1.950249 &  1.10249081 & FALSE & FALSE\\\\\n",
       "\tfree.sulfur.dioxide & 1.012500 &  2.08248265 & FALSE & FALSE\\\\\n",
       "\ttotal.sulfur.dioxide & 1.045455 &  4.79787668 & FALSE & FALSE\\\\\n",
       "\tdensity & 1.049180 & 18.10943242 & FALSE & FALSE\\\\\n",
       "\tpH & 1.156977 &  1.49040425 & FALSE & FALSE\\\\\n",
       "\tsulphates & 1.188755 &  1.06165782 & FALSE & FALSE\\\\\n",
       "\talcohol & 1.004386 &  2.10289914 & FALSE & FALSE\\\\\n",
       "\tquality & 1.645848 &  0.08166599 & FALSE & FALSE\\\\\n",
       "\\end{tabular}\n"
      ],
      "text/markdown": [
       "\n",
       "A data.frame: 12 × 4\n",
       "\n",
       "| <!--/--> | freqRatio &lt;dbl&gt; | percentUnique &lt;dbl&gt; | zeroVar &lt;lgl&gt; | nzv &lt;lgl&gt; |\n",
       "|---|---|---|---|---|\n",
       "| fixed.acidity | 1.472414 |  0.89832585 | FALSE | FALSE |\n",
       "| volatile.acidity | 1.619772 |  1.53123724 | FALSE | FALSE |\n",
       "| citric.acid | 1.530945 |  0.83707636 | FALSE | FALSE |\n",
       "| residual.sugar | 1.016304 |  6.22703144 | FALSE | FALSE |\n",
       "| chlorides | 1.950249 |  1.10249081 | FALSE | FALSE |\n",
       "| free.sulfur.dioxide | 1.012500 |  2.08248265 | FALSE | FALSE |\n",
       "| total.sulfur.dioxide | 1.045455 |  4.79787668 | FALSE | FALSE |\n",
       "| density | 1.049180 | 18.10943242 | FALSE | FALSE |\n",
       "| pH | 1.156977 |  1.49040425 | FALSE | FALSE |\n",
       "| sulphates | 1.188755 |  1.06165782 | FALSE | FALSE |\n",
       "| alcohol | 1.004386 |  2.10289914 | FALSE | FALSE |\n",
       "| quality | 1.645848 |  0.08166599 | FALSE | FALSE |\n",
       "\n"
      ],
      "text/plain": [
       "                     freqRatio percentUnique zeroVar nzv  \n",
       "fixed.acidity        1.472414   0.89832585   FALSE   FALSE\n",
       "volatile.acidity     1.619772   1.53123724   FALSE   FALSE\n",
       "citric.acid          1.530945   0.83707636   FALSE   FALSE\n",
       "residual.sugar       1.016304   6.22703144   FALSE   FALSE\n",
       "chlorides            1.950249   1.10249081   FALSE   FALSE\n",
       "free.sulfur.dioxide  1.012500   2.08248265   FALSE   FALSE\n",
       "total.sulfur.dioxide 1.045455   4.79787668   FALSE   FALSE\n",
       "density              1.049180  18.10943242   FALSE   FALSE\n",
       "pH                   1.156977   1.49040425   FALSE   FALSE\n",
       "sulphates            1.188755   1.06165782   FALSE   FALSE\n",
       "alcohol              1.004386   2.10289914   FALSE   FALSE\n",
       "quality              1.645848   0.08166599   FALSE   FALSE"
      ]
     },
     "metadata": {},
     "output_type": "display_data"
    }
   ],
   "source": [
    "# Load required libraries\n",
    "library(caret)      # for nearZeroVar\n",
    "library(corrplot)   # for correlation plots\n",
    "\n",
    "# Check low variance features\n",
    "nzv <- nearZeroVar(df_cleaned, saveMetrics = TRUE)\n",
    "nzv\n",
    "\n"
   ]
  },
  {
   "cell_type": "markdown",
   "id": "da2b0d92-555c-4b44-9ef8-9621ea5e549d",
   "metadata": {},
   "source": [
    "<h4> Interpretation </h4>\n",
    "1. zeroVar: None of the columns have zero variance (all FALSE), so all have some variation.\n",
    "\n",
    "2. nzv: All columns are FALSE, so no columns are flagged as near-zero variance.\n",
    "\n",
    "<b>Conclusion: </b> The dataset does not have any near-zero variance features, so there is no need to remove any column based on NZV."
   ]
  },
  {
   "cell_type": "markdown",
   "id": "44eaf13e-d4c3-45b5-8368-1c967ca7f9e5",
   "metadata": {},
   "source": [
    "<h4> Correlation Analysis Visualization </h4>"
   ]
  },
  {
   "cell_type": "code",
   "execution_count": 37,
   "id": "e8c51012-59aa-44a5-ac07-7f37f8d02c51",
   "metadata": {},
   "outputs": [
    {
     "data": {
      "image/png": "[encoded data removed]",
      "text/plain": [
       "Plot with title \"\""
      ]
     },
     "metadata": {
      "image/png": {
       "height": 420,
       "width": 420
      }
     },
     "output_type": "display_data"
    }
   ],
   "source": [
    "# Correlation analysis\n",
    "cor_matrix <- cor(df_cleaned)\n",
    "corrplot(cor_matrix, method = \"color\", type = \"upper\", tl.col = \"black\", tl.srt = 45)"
   ]
  },
  {
   "cell_type": "markdown",
   "id": "e4f73ad4-7c76-4e5a-bdc6-2e01e44527e1",
   "metadata": {},
   "source": [
    "\n",
    "<h4>Interpretation: </h4>\n",
    "\n",
    "1. Color Scale\n",
    "\n",
    "- Dark blue (close to +1): Strong positive correlation. As one variable increases, the other also increases.\n",
    "\n",
    "- Dark red (close to -1): Strong negative correlation. As one variable increases, the other decreases.\n",
    "\n",
    "- White (around 0): Little to no linear relationship.\n",
    "\n",
    "2. Diagonal\n",
    "\n",
    "The diagonal is always 1 (perfect correlation with itself), so it’s dark blue.\n",
    "\n",
    "3. Notable Relationships\n",
    "\n",
    "- Alcohol vs Quality: Positive correlation (blue). Higher alcohol tends to be associated with higher wine quality.\n",
    "\n",
    "- Volatile Acidity vs Quality: Negative correlation (red). Higher volatile acidity is linked to lower quality.\n",
    "\n",
    "- Sulphates vs Quality: Slight positive correlation (blue). More sulphates tend to slightly increase wine quality.\n",
    "\n",
    "- Density vs Alcohol: Strong negative correlation (red). Higher alcohol wines tend to have lower density.\n",
    "\n",
    "- Residual Sugar vs Density: Positive correlation (blue). More residual sugar means higher density.\n",
    "\n",
    "- Free SO₂ vs Total SO₂: Strong positive correlation (blue). They naturally move together.\n",
    "\n",
    "4. Insights\n",
    "\n",
    "- Variables like alcohol and sulphates are helpful in predicting wine quality.\n",
    "\n",
    "- Volatile acidity is a negative quality factor.\n",
    "\n",
    "- Some variables (e.g., pH, chlorides) show weak correlations with quality, so they may not be strong predictors."
   ]
  },
  {
   "cell_type": "markdown",
   "id": "87d470f2-85e0-4320-b1d6-eaf075ce8178",
   "metadata": {},
   "source": [
    "<h1> Task 3: Dimensionality Reduction  </h1>"
   ]
  },
  {
   "cell_type": "markdown",
   "id": "8fa29d56-f9f3-4d42-b6a4-fd23e50f5dc5",
   "metadata": {},
   "source": [
    "<h3> Method 1: PCA </h3>\n",
    "Principal Component Analysis is usually applied when variables are correlated with each other (multicollinearity). Highly correlated variables carry overlapping information, so PCA can reduce them into fewer components while preserving variance.\n",
    "<p> According to the headmap above we make the following observations; </p>\n",
    "<h4> 1. Strong Correlations (Candidates for Dimensionality Reduction) </h4>\n",
    "\n",
    "- residual.sugar ↔ density (positive correlation) → These two largely measure the same underlying effect (sweetness contributing to density).\n",
    "\n",
    "- free.sulfur.dioxide ↔ total.sulfur.dioxide (positive correlation) → Since free SO₂ is a part of total SO₂, they overlap strongly.\n",
    "\n",
    "- fixed.acidity ↔ citric.acid (moderate correlation) → Wines with higher fixed acidity often have higher citric acid.\n",
    "\n",
    "- density ↔ alcohol (negative correlation) → Alcohol decreases density, so these are inversely related.\n",
    "\n",
    "<h4>2.Weakly or Independently Correlated (To be kept) </h4>\n",
    "\n",
    "- volatile.acidity (negatively correlated with quality, not redundant).\n",
    "\n",
    "- sulphates (slight positive correlation with quality, not highly redundant).\n",
    "\n",
    "- chlorides (not strongly correlated with most others).\n",
    "\n",
    "- pH (not strongly correlated, carries unique info).\n",
    "\n",
    "- quality (target variable, never reduced).\n",
    "\n",
    "<h4>Conclusion</h4>\n",
    "\n",
    "Running PCA, the features that will most likely to be compressed into fewer components are:\n",
    "\n",
    "- residual.sugar, density, alcohol\n",
    "\n",
    "- free.sulfur.dioxide, total.sulfur.dioxide\n",
    "\n",
    "- fixed.acidity, citric.acid\n",
    "\n",
    "The rest (volatile.acidity, sulphates, chlorides, pH) are fairly independent and provide unique signals, so PCA might not reduce them much."
   ]
  },
  {
   "cell_type": "code",
   "execution_count": 54,
   "id": "53c20709-4129-4441-bc0a-2c7912498576",
   "metadata": {},
   "outputs": [
    {
     "name": "stderr",
     "output_type": "stream",
     "text": [
      "Warning message in geom_bar(stat = \"identity\", fill = barfill, color = barcolor, :\n",
      "\"\u001b[1m\u001b[22mIgnoring empty aesthetic: `width`.\"\n"
     ]
    },
    {
     "data": {
      "image/png": "[encoded data removed]",
      "text/plain": [
       "plot without title"
      ]
     },
     "metadata": {
      "image/png": {
       "height": 420,
       "width": 420
      }
     },
     "output_type": "display_data"
    },
    {
     "data": {
      "text/html": [
       "<table class=\"dataframe\">\n",
       "<caption>A data.frame: 6 × 6</caption>\n",
       "<thead>\n",
       "\t<tr><th></th><th scope=col>Dim.1</th><th scope=col>Dim.2</th><th scope=col>Dim.3</th><th scope=col>Dim.4</th><th scope=col>Dim.5</th><th scope=col>quality</th></tr>\n",
       "\t<tr><th></th><th scope=col>&lt;dbl&gt;</th><th scope=col>&lt;dbl&gt;</th><th scope=col>&lt;dbl&gt;</th><th scope=col>&lt;dbl&gt;</th><th scope=col>&lt;dbl&gt;</th><th scope=col>&lt;dbl&gt;</th></tr>\n",
       "</thead>\n",
       "<tbody>\n",
       "\t<tr><th scope=row>1</th><td> 3.7897943</td><td>-0.92069560</td><td>-1.01936426</td><td> 0.05708036</td><td>-0.5171908</td><td>0.6666667</td></tr>\n",
       "\t<tr><th scope=row>2</th><td>-0.4418288</td><td> 0.71970520</td><td> 0.01888733</td><td>-1.17335435</td><td> 0.9602007</td><td>0.6666667</td></tr>\n",
       "\t<tr><th scope=row>3</th><td> 0.3888277</td><td>-1.31452336</td><td> 0.32539267</td><td>-0.68281012</td><td> 0.4638058</td><td>0.6666667</td></tr>\n",
       "\t<tr><th scope=row>4</th><td> 1.9118558</td><td> 0.04104956</td><td> 0.05023533</td><td>-0.28033237</td><td>-0.7196517</td><td>0.6666667</td></tr>\n",
       "\t<tr><th scope=row>5</th><td> 1.9118558</td><td> 0.04104956</td><td> 0.05023533</td><td>-0.28033237</td><td>-0.7196517</td><td>0.6666667</td></tr>\n",
       "\t<tr><th scope=row>6</th><td> 0.3888277</td><td>-1.31452336</td><td> 0.32539267</td><td>-0.68281012</td><td> 0.4638058</td><td>0.6666667</td></tr>\n",
       "</tbody>\n",
       "</table>\n"
      ],
      "text/latex": [
       "A data.frame: 6 × 6\n",
       "\\begin{tabular}{r|llllll}\n",
       "  & Dim.1 & Dim.2 & Dim.3 & Dim.4 & Dim.5 & quality\\\\\n",
       "  & <dbl> & <dbl> & <dbl> & <dbl> & <dbl> & <dbl>\\\\\n",
       "\\hline\n",
       "\t1 &  3.7897943 & -0.92069560 & -1.01936426 &  0.05708036 & -0.5171908 & 0.6666667\\\\\n",
       "\t2 & -0.4418288 &  0.71970520 &  0.01888733 & -1.17335435 &  0.9602007 & 0.6666667\\\\\n",
       "\t3 &  0.3888277 & -1.31452336 &  0.32539267 & -0.68281012 &  0.4638058 & 0.6666667\\\\\n",
       "\t4 &  1.9118558 &  0.04104956 &  0.05023533 & -0.28033237 & -0.7196517 & 0.6666667\\\\\n",
       "\t5 &  1.9118558 &  0.04104956 &  0.05023533 & -0.28033237 & -0.7196517 & 0.6666667\\\\\n",
       "\t6 &  0.3888277 & -1.31452336 &  0.32539267 & -0.68281012 &  0.4638058 & 0.6666667\\\\\n",
       "\\end{tabular}\n"
      ],
      "text/markdown": [
       "\n",
       "A data.frame: 6 × 6\n",
       "\n",
       "| <!--/--> | Dim.1 &lt;dbl&gt; | Dim.2 &lt;dbl&gt; | Dim.3 &lt;dbl&gt; | Dim.4 &lt;dbl&gt; | Dim.5 &lt;dbl&gt; | quality &lt;dbl&gt; |\n",
       "|---|---|---|---|---|---|---|\n",
       "| 1 |  3.7897943 | -0.92069560 | -1.01936426 |  0.05708036 | -0.5171908 | 0.6666667 |\n",
       "| 2 | -0.4418288 |  0.71970520 |  0.01888733 | -1.17335435 |  0.9602007 | 0.6666667 |\n",
       "| 3 |  0.3888277 | -1.31452336 |  0.32539267 | -0.68281012 |  0.4638058 | 0.6666667 |\n",
       "| 4 |  1.9118558 |  0.04104956 |  0.05023533 | -0.28033237 | -0.7196517 | 0.6666667 |\n",
       "| 5 |  1.9118558 |  0.04104956 |  0.05023533 | -0.28033237 | -0.7196517 | 0.6666667 |\n",
       "| 6 |  0.3888277 | -1.31452336 |  0.32539267 | -0.68281012 |  0.4638058 | 0.6666667 |\n",
       "\n"
      ],
      "text/plain": [
       "  Dim.1      Dim.2       Dim.3       Dim.4       Dim.5      quality  \n",
       "1  3.7897943 -0.92069560 -1.01936426  0.05708036 -0.5171908 0.6666667\n",
       "2 -0.4418288  0.71970520  0.01888733 -1.17335435  0.9602007 0.6666667\n",
       "3  0.3888277 -1.31452336  0.32539267 -0.68281012  0.4638058 0.6666667\n",
       "4  1.9118558  0.04104956  0.05023533 -0.28033237 -0.7196517 0.6666667\n",
       "5  1.9118558  0.04104956  0.05023533 -0.28033237 -0.7196517 0.6666667\n",
       "6  0.3888277 -1.31452336  0.32539267 -0.68281012  0.4638058 0.6666667"
      ]
     },
     "metadata": {},
     "output_type": "display_data"
    },
    {
     "data": {
      "image/png": "[encoded data removed]",
      "text/plain": [
       "plot without title"
      ]
     },
     "metadata": {
      "image/png": {
       "height": 420,
       "width": 420
      }
     },
     "output_type": "display_data"
    }
   ],
   "source": [
    "# Load libraries\n",
    "library(FactoMineR)\n",
    "library(factoextra)\n",
    "\n",
    "# Assuming your data frame is \"wine\"\n",
    "# Remove target variable (quality)\n",
    "wine_features <- df_cleaned[, !(names(df_cleaned) %in% c(\"quality\"))]\n",
    "\n",
    "# Scale features before PCA\n",
    "wine_scaled <- scale(wine_features)\n",
    "\n",
    "# Run PCA\n",
    "pca_res <- PCA(wine_scaled, graph = FALSE)\n",
    "\n",
    "# Scree plot: variance explained by each PC\n",
    "fviz_eig(pca_res, addlabels = TRUE, ylim = c(0, 50))\n",
    "\n",
    "# Variable contributions\n",
    "fviz_pca_var(pca_res, col.var = \"contrib\",\n",
    "             gradient.cols = c(\"#00AFBB\", \"#E7B800\", \"#FC4E07\"),\n",
    "             repel = TRUE)\n",
    "\n",
    "\n",
    "# Add back the target variable \"quality\"\n",
    "wine_reduced <- cbind(pca_scores, quality = df_cleaned$quality)\n",
    "\n",
    "# Preview new dataset\n",
    "head(wine_reduced)\n"
   ]
  },
  {
   "cell_type": "markdown",
   "id": "2af20229-0ef4-4c70-962f-8fd240eed784",
   "metadata": {},
   "source": [
    "<p> --- Features were reduced from 9 to only 6 by PCA --- </p>\n",
    "The visualization of the experiened variance from PCA shows that the dataset should be perfectly reduced to 2 dimensions"
   ]
  },
  {
   "cell_type": "markdown",
   "id": "074d5e3e-6351-4969-a926-7578eb0f8b6e",
   "metadata": {},
   "source": [
    "<h3> Method 2: UMAP </h3>"
   ]
  },
  {
   "cell_type": "code",
   "execution_count": 66,
   "id": "52d3f6fa-3922-4e36-9b33-ea3486239a5b",
   "metadata": {},
   "outputs": [
    {
     "data": {
      "text/html": [
       "<table class=\"dataframe\">\n",
       "<caption>A data.frame: 6 × 3</caption>\n",
       "<thead>\n",
       "\t<tr><th></th><th scope=col>X1</th><th scope=col>X2</th><th scope=col>quality</th></tr>\n",
       "\t<tr><th></th><th scope=col>&lt;dbl&gt;</th><th scope=col>&lt;dbl&gt;</th><th scope=col>&lt;dbl&gt;</th></tr>\n",
       "</thead>\n",
       "<tbody>\n",
       "\t<tr><th scope=row>1</th><td>1.1856648</td><td>-2.5166353</td><td>0.6666667</td></tr>\n",
       "\t<tr><th scope=row>2</th><td>1.5880355</td><td> 2.8874259</td><td>0.6666667</td></tr>\n",
       "\t<tr><th scope=row>3</th><td>0.7824226</td><td> 1.3060133</td><td>0.6666667</td></tr>\n",
       "\t<tr><th scope=row>4</th><td>2.5779430</td><td> 0.4979243</td><td>0.6666667</td></tr>\n",
       "\t<tr><th scope=row>5</th><td>2.5694484</td><td> 0.4750052</td><td>0.6666667</td></tr>\n",
       "\t<tr><th scope=row>6</th><td>0.7796451</td><td> 1.2689379</td><td>0.6666667</td></tr>\n",
       "</tbody>\n",
       "</table>\n"
      ],
      "text/latex": [
       "A data.frame: 6 × 3\n",
       "\\begin{tabular}{r|lll}\n",
       "  & X1 & X2 & quality\\\\\n",
       "  & <dbl> & <dbl> & <dbl>\\\\\n",
       "\\hline\n",
       "\t1 & 1.1856648 & -2.5166353 & 0.6666667\\\\\n",
       "\t2 & 1.5880355 &  2.8874259 & 0.6666667\\\\\n",
       "\t3 & 0.7824226 &  1.3060133 & 0.6666667\\\\\n",
       "\t4 & 2.5779430 &  0.4979243 & 0.6666667\\\\\n",
       "\t5 & 2.5694484 &  0.4750052 & 0.6666667\\\\\n",
       "\t6 & 0.7796451 &  1.2689379 & 0.6666667\\\\\n",
       "\\end{tabular}\n"
      ],
      "text/markdown": [
       "\n",
       "A data.frame: 6 × 3\n",
       "\n",
       "| <!--/--> | X1 &lt;dbl&gt; | X2 &lt;dbl&gt; | quality &lt;dbl&gt; |\n",
       "|---|---|---|---|\n",
       "| 1 | 1.1856648 | -2.5166353 | 0.6666667 |\n",
       "| 2 | 1.5880355 |  2.8874259 | 0.6666667 |\n",
       "| 3 | 0.7824226 |  1.3060133 | 0.6666667 |\n",
       "| 4 | 2.5779430 |  0.4979243 | 0.6666667 |\n",
       "| 5 | 2.5694484 |  0.4750052 | 0.6666667 |\n",
       "| 6 | 0.7796451 |  1.2689379 | 0.6666667 |\n",
       "\n"
      ],
      "text/plain": [
       "  X1        X2         quality  \n",
       "1 1.1856648 -2.5166353 0.6666667\n",
       "2 1.5880355  2.8874259 0.6666667\n",
       "3 0.7824226  1.3060133 0.6666667\n",
       "4 2.5779430  0.4979243 0.6666667\n",
       "5 2.5694484  0.4750052 0.6666667\n",
       "6 0.7796451  1.2689379 0.6666667"
      ]
     },
     "metadata": {},
     "output_type": "display_data"
    },
    {
     "data": {
      "image/png": "[encoded data removed]",
      "text/plain": [
       "Plot with title \"UMAP\""
      ]
     },
     "metadata": {
      "image/png": {
       "height": 420,
       "width": 420
      }
     },
     "output_type": "display_data"
    }
   ],
   "source": [
    "library(umap)\n",
    "\n",
    "# Run UMAP\n",
    "set.seed(123)\n",
    "umap_res <- umap(df_cleaned)\n",
    "\n",
    "# Convert to dataframe\n",
    "umap_data <- data.frame(umap_res$layout, quality = df_cleaned$quality)\n",
    "#view reduced dataset\n",
    "head(umap_data)\n",
    "# Plot\n",
    "plot(umap_data$X1, umap_data$X2,\n",
    "     col = umap_data$quality, pch = 19,\n",
    "     xlab = \"UMAP1\", ylab = \"UMAP2\", main = \"UMAP\")\n"
   ]
  },
  {
   "cell_type": "markdown",
   "id": "7a06fa1c-028d-4b86-9b23-233b08202b03",
   "metadata": {},
   "source": [
    " --- UMAP Reduced to features to only two, perfectly as indicate by the bell curve on PCA's explained variance --"
   ]
  },
  {
   "cell_type": "markdown",
   "id": "2c56eca5-7930-421e-914b-4bee05dbdf79",
   "metadata": {},
   "source": [
    "<b> Reflection:  </b>\n",
    "\n",
    "Feature Analysis: Low variance features add little information. Highly correlated features introduce redundancy. Removing them improves efficiency without losing predictive power.\n",
    "\n",
    "<b> Interpretability vs Accuracy:</b>\n",
    "\n",
    "- PCA is easiest to interpret (linear combinations of original features).\n",
    "\n",
    "- UMAP are less interpretable but highlight complex nonlinear structures.\n",
    "\n",
    "- Trade-off: better visualization vs harder interpretability."
   ]
  },
  {
   "cell_type": "markdown",
   "id": "44e5cb4c-4d63-4651-a7bb-5ffac35899c3",
   "metadata": {},
   "source": [
    "<b> END OF ASSIGNMENT </b>"
   ]
  },
  {
   "cell_type": "code",
   "execution_count": null,
   "id": "4b34e084-c14d-421e-bfa7-25ad709c833f",
   "metadata": {},
   "outputs": [],
   "source": []
  }
 ],
 "metadata": {
  "kernelspec": {
   "display_name": "R 4.5 ",
   "language": "R",
   "name": "r-4.5"
  },
  "language_info": {
   "codemirror_mode": "r",
   "file_extension": ".r",
   "mimetype": "text/x-r-source",
   "name": "R",
   "pygments_lexer": "r",
   "version": "4.5.1"
  }
 },
 "nbformat": 4,
 "nbformat_minor": 5
}
