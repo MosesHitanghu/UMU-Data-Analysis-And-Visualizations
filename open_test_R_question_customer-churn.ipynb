{
 "cells": [
  {
   "cell_type": "markdown",
   "id": "ea72c4a3-d2e3-4263-8f32-5f9569865ba8",
   "metadata": {},
   "source": [
    "<img src=\"logo.png\" alt=\"UMU logo\" height=\"10px\" width=\"200px\"  style=\"display:block; margin-left:auto; margin-right:auto;\">\n",
    "<h2> UMU Data Analysis and Visualization </h2>\n",
    "<h4> Hitanghu Moses Mulongo - 2024-M132-20791 </h4>\n",
    "<h4>Open Test - R Version (Customer Churn) </h4>"
   ]
  },
  {
   "cell_type": "markdown",
   "id": "aa2fc08d-d179-4e3e-9cec-e4c7fb2f4d87",
   "metadata": {},
   "source": [
    "<h2> Installing Packages </h2>"
   ]
  },
  {
   "cell_type": "code",
   "execution_count": null,
   "id": "e00ebb12-a169-4b0b-b1b1-66bf4896106b",
   "metadata": {},
   "outputs": [],
   "source": [
    "#install.packages(\"tidyr\")\n",
    "#install.packages(\"dplyr\")"
   ]
  },
  {
   "cell_type": "markdown",
   "id": "025f3271-3ed9-4964-ba9a-d9cc2c5d3d5f",
   "metadata": {},
   "source": [
    "<h2> Load Libraries </h2>"
   ]
  },
  {
   "cell_type": "code",
   "execution_count": 1,
   "id": "95669d26-cc23-4f81-b8fd-2d4d872e0cc8",
   "metadata": {},
   "outputs": [
    {
     "name": "stderr",
     "output_type": "stream",
     "text": [
      "Loading required package: lattice\n",
      "\n"
     ]
    }
   ],
   "source": [
    "# Load libraries\n",
    "library(ggplot2)\n",
    "library(reshape2)\n",
    "suppressPackageStartupMessages(library(dplyr))\n",
    "suppressPackageStartupMessages(library(tidyr))\n",
    "library(fastDummies)\n",
    "suppressPackageStartupMessages(library(randomForest))\n",
    "library(randomForest)\n",
    "library(caret)       # for confusionMatrix, train, etc.\n",
    "suppressPackageStartupMessages(library(pROC))"
   ]
  },
  {
   "cell_type": "markdown",
   "id": "926938da-25df-43db-8d6c-8117182e0b47",
   "metadata": {},
   "source": [
    "<h2> Load Dataset </h2>"
   ]
  },
  {
   "cell_type": "code",
   "execution_count": 3,
   "id": "cdbbb934-44eb-45bf-9c07-57c7eb5d9236",
   "metadata": {},
   "outputs": [
    {
     "data": {
      "text/html": [
       "<table class=\"dataframe\">\n",
       "<caption>A data.frame: 6 × 21</caption>\n",
       "<thead>\n",
       "\t<tr><th></th><th scope=col>customerID</th><th scope=col>gender</th><th scope=col>SeniorCitizen</th><th scope=col>Partner</th><th scope=col>Dependents</th><th scope=col>tenure</th><th scope=col>PhoneService</th><th scope=col>MultipleLines</th><th scope=col>InternetService</th><th scope=col>OnlineSecurity</th><th scope=col>⋯</th><th scope=col>DeviceProtection</th><th scope=col>TechSupport</th><th scope=col>StreamingTV</th><th scope=col>StreamingMovies</th><th scope=col>Contract</th><th scope=col>PaperlessBilling</th><th scope=col>PaymentMethod</th><th scope=col>MonthlyCharges</th><th scope=col>TotalCharges</th><th scope=col>Churn</th></tr>\n",
       "\t<tr><th></th><th scope=col>&lt;chr&gt;</th><th scope=col>&lt;chr&gt;</th><th scope=col>&lt;int&gt;</th><th scope=col>&lt;chr&gt;</th><th scope=col>&lt;chr&gt;</th><th scope=col>&lt;int&gt;</th><th scope=col>&lt;chr&gt;</th><th scope=col>&lt;chr&gt;</th><th scope=col>&lt;chr&gt;</th><th scope=col>&lt;chr&gt;</th><th scope=col>⋯</th><th scope=col>&lt;chr&gt;</th><th scope=col>&lt;chr&gt;</th><th scope=col>&lt;chr&gt;</th><th scope=col>&lt;chr&gt;</th><th scope=col>&lt;chr&gt;</th><th scope=col>&lt;chr&gt;</th><th scope=col>&lt;chr&gt;</th><th scope=col>&lt;dbl&gt;</th><th scope=col>&lt;dbl&gt;</th><th scope=col>&lt;chr&gt;</th></tr>\n",
       "</thead>\n",
       "<tbody>\n",
       "\t<tr><th scope=row>1</th><td>7590-VHVEG</td><td>Female</td><td>0</td><td>Yes</td><td>No</td><td> 1</td><td>No </td><td>No phone service</td><td>DSL        </td><td>No </td><td>⋯</td><td>No </td><td>No </td><td>No </td><td>No </td><td>Month-to-month</td><td>Yes</td><td>Electronic check         </td><td>29.85</td><td>  29.85</td><td>No </td></tr>\n",
       "\t<tr><th scope=row>2</th><td>5575-GNVDE</td><td>Male  </td><td>0</td><td>No </td><td>No</td><td>34</td><td>Yes</td><td>No              </td><td>DSL        </td><td>Yes</td><td>⋯</td><td>Yes</td><td>No </td><td>No </td><td>No </td><td>One year      </td><td>No </td><td>Mailed check             </td><td>56.95</td><td>1889.50</td><td>No </td></tr>\n",
       "\t<tr><th scope=row>3</th><td>3668-QPYBK</td><td>Male  </td><td>0</td><td>No </td><td>No</td><td> 2</td><td>Yes</td><td>No              </td><td>DSL        </td><td>Yes</td><td>⋯</td><td>No </td><td>No </td><td>No </td><td>No </td><td>Month-to-month</td><td>Yes</td><td>Mailed check             </td><td>53.85</td><td> 108.15</td><td>Yes</td></tr>\n",
       "\t<tr><th scope=row>4</th><td>7795-CFOCW</td><td>Male  </td><td>0</td><td>No </td><td>No</td><td>45</td><td>No </td><td>No phone service</td><td>DSL        </td><td>Yes</td><td>⋯</td><td>Yes</td><td>Yes</td><td>No </td><td>No </td><td>One year      </td><td>No </td><td>Bank transfer (automatic)</td><td>42.30</td><td>1840.75</td><td>No </td></tr>\n",
       "\t<tr><th scope=row>5</th><td>9237-HQITU</td><td>Female</td><td>0</td><td>No </td><td>No</td><td> 2</td><td>Yes</td><td>No              </td><td>Fiber optic</td><td>No </td><td>⋯</td><td>No </td><td>No </td><td>No </td><td>No </td><td>Month-to-month</td><td>Yes</td><td>Electronic check         </td><td>70.70</td><td> 151.65</td><td>Yes</td></tr>\n",
       "\t<tr><th scope=row>6</th><td>9305-CDSKC</td><td>Female</td><td>0</td><td>No </td><td>No</td><td> 8</td><td>Yes</td><td>Yes             </td><td>Fiber optic</td><td>No </td><td>⋯</td><td>Yes</td><td>No </td><td>Yes</td><td>Yes</td><td>Month-to-month</td><td>Yes</td><td>Electronic check         </td><td>99.65</td><td> 820.50</td><td>Yes</td></tr>\n",
       "</tbody>\n",
       "</table>\n"
      ],
      "text/latex": [
       "A data.frame: 6 × 21\n",
       "\\begin{tabular}{r|lllllllllllllllllllll}\n",
       "  & customerID & gender & SeniorCitizen & Partner & Dependents & tenure & PhoneService & MultipleLines & InternetService & OnlineSecurity & ⋯ & DeviceProtection & TechSupport & StreamingTV & StreamingMovies & Contract & PaperlessBilling & PaymentMethod & MonthlyCharges & TotalCharges & Churn\\\\\n",
       "  & <chr> & <chr> & <int> & <chr> & <chr> & <int> & <chr> & <chr> & <chr> & <chr> & ⋯ & <chr> & <chr> & <chr> & <chr> & <chr> & <chr> & <chr> & <dbl> & <dbl> & <chr>\\\\\n",
       "\\hline\n",
       "\t1 & 7590-VHVEG & Female & 0 & Yes & No &  1 & No  & No phone service & DSL         & No  & ⋯ & No  & No  & No  & No  & Month-to-month & Yes & Electronic check          & 29.85 &   29.85 & No \\\\\n",
       "\t2 & 5575-GNVDE & Male   & 0 & No  & No & 34 & Yes & No               & DSL         & Yes & ⋯ & Yes & No  & No  & No  & One year       & No  & Mailed check              & 56.95 & 1889.50 & No \\\\\n",
       "\t3 & 3668-QPYBK & Male   & 0 & No  & No &  2 & Yes & No               & DSL         & Yes & ⋯ & No  & No  & No  & No  & Month-to-month & Yes & Mailed check              & 53.85 &  108.15 & Yes\\\\\n",
       "\t4 & 7795-CFOCW & Male   & 0 & No  & No & 45 & No  & No phone service & DSL         & Yes & ⋯ & Yes & Yes & No  & No  & One year       & No  & Bank transfer (automatic) & 42.30 & 1840.75 & No \\\\\n",
       "\t5 & 9237-HQITU & Female & 0 & No  & No &  2 & Yes & No               & Fiber optic & No  & ⋯ & No  & No  & No  & No  & Month-to-month & Yes & Electronic check          & 70.70 &  151.65 & Yes\\\\\n",
       "\t6 & 9305-CDSKC & Female & 0 & No  & No &  8 & Yes & Yes              & Fiber optic & No  & ⋯ & Yes & No  & Yes & Yes & Month-to-month & Yes & Electronic check          & 99.65 &  820.50 & Yes\\\\\n",
       "\\end{tabular}\n"
      ],
      "text/markdown": [
       "\n",
       "A data.frame: 6 × 21\n",
       "\n",
       "| <!--/--> | customerID &lt;chr&gt; | gender &lt;chr&gt; | SeniorCitizen &lt;int&gt; | Partner &lt;chr&gt; | Dependents &lt;chr&gt; | tenure &lt;int&gt; | PhoneService &lt;chr&gt; | MultipleLines &lt;chr&gt; | InternetService &lt;chr&gt; | OnlineSecurity &lt;chr&gt; | ⋯ ⋯ | DeviceProtection &lt;chr&gt; | TechSupport &lt;chr&gt; | StreamingTV &lt;chr&gt; | StreamingMovies &lt;chr&gt; | Contract &lt;chr&gt; | PaperlessBilling &lt;chr&gt; | PaymentMethod &lt;chr&gt; | MonthlyCharges &lt;dbl&gt; | TotalCharges &lt;dbl&gt; | Churn &lt;chr&gt; |\n",
       "|---|---|---|---|---|---|---|---|---|---|---|---|---|---|---|---|---|---|---|---|---|---|\n",
       "| 1 | 7590-VHVEG | Female | 0 | Yes | No |  1 | No  | No phone service | DSL         | No  | ⋯ | No  | No  | No  | No  | Month-to-month | Yes | Electronic check          | 29.85 |   29.85 | No  |\n",
       "| 2 | 5575-GNVDE | Male   | 0 | No  | No | 34 | Yes | No               | DSL         | Yes | ⋯ | Yes | No  | No  | No  | One year       | No  | Mailed check              | 56.95 | 1889.50 | No  |\n",
       "| 3 | 3668-QPYBK | Male   | 0 | No  | No |  2 | Yes | No               | DSL         | Yes | ⋯ | No  | No  | No  | No  | Month-to-month | Yes | Mailed check              | 53.85 |  108.15 | Yes |\n",
       "| 4 | 7795-CFOCW | Male   | 0 | No  | No | 45 | No  | No phone service | DSL         | Yes | ⋯ | Yes | Yes | No  | No  | One year       | No  | Bank transfer (automatic) | 42.30 | 1840.75 | No  |\n",
       "| 5 | 9237-HQITU | Female | 0 | No  | No |  2 | Yes | No               | Fiber optic | No  | ⋯ | No  | No  | No  | No  | Month-to-month | Yes | Electronic check          | 70.70 |  151.65 | Yes |\n",
       "| 6 | 9305-CDSKC | Female | 0 | No  | No |  8 | Yes | Yes              | Fiber optic | No  | ⋯ | Yes | No  | Yes | Yes | Month-to-month | Yes | Electronic check          | 99.65 |  820.50 | Yes |\n",
       "\n"
      ],
      "text/plain": [
       "  customerID gender SeniorCitizen Partner Dependents tenure PhoneService\n",
       "1 7590-VHVEG Female 0             Yes     No          1     No          \n",
       "2 5575-GNVDE Male   0             No      No         34     Yes         \n",
       "3 3668-QPYBK Male   0             No      No          2     Yes         \n",
       "4 7795-CFOCW Male   0             No      No         45     No          \n",
       "5 9237-HQITU Female 0             No      No          2     Yes         \n",
       "6 9305-CDSKC Female 0             No      No          8     Yes         \n",
       "  MultipleLines    InternetService OnlineSecurity ⋯ DeviceProtection\n",
       "1 No phone service DSL             No             ⋯ No              \n",
       "2 No               DSL             Yes            ⋯ Yes             \n",
       "3 No               DSL             Yes            ⋯ No              \n",
       "4 No phone service DSL             Yes            ⋯ Yes             \n",
       "5 No               Fiber optic     No             ⋯ No              \n",
       "6 Yes              Fiber optic     No             ⋯ Yes             \n",
       "  TechSupport StreamingTV StreamingMovies Contract       PaperlessBilling\n",
       "1 No          No          No              Month-to-month Yes             \n",
       "2 No          No          No              One year       No              \n",
       "3 No          No          No              Month-to-month Yes             \n",
       "4 Yes         No          No              One year       No              \n",
       "5 No          No          No              Month-to-month Yes             \n",
       "6 No          Yes         Yes             Month-to-month Yes             \n",
       "  PaymentMethod             MonthlyCharges TotalCharges Churn\n",
       "1 Electronic check          29.85            29.85      No   \n",
       "2 Mailed check              56.95          1889.50      No   \n",
       "3 Mailed check              53.85           108.15      Yes  \n",
       "4 Bank transfer (automatic) 42.30          1840.75      No   \n",
       "5 Electronic check          70.70           151.65      Yes  \n",
       "6 Electronic check          99.65           820.50      Yes  "
      ]
     },
     "metadata": {},
     "output_type": "display_data"
    }
   ],
   "source": [
    "# Load CSV file\n",
    "customer_churn_df <- read.csv(\"Customer-Churn.csv\",header = TRUE, sep = \",\", stringsAsFactors = FALSE)\n",
    "head(customer_churn_df)"
   ]
  },
  {
   "cell_type": "code",
   "execution_count": null,
   "id": "6bd4348c-1a4e-45e1-93bc-04783c18dd94",
   "metadata": {},
   "outputs": [],
   "source": [
    "colnames(customer_churn_df)"
   ]
  },
  {
   "cell_type": "markdown",
   "id": "d3241b05-4236-4a7d-91f8-1bf16d946cc3",
   "metadata": {},
   "source": [
    "<h2> Summary Statics </h2>"
   ]
  },
  {
   "cell_type": "code",
   "execution_count": 6,
   "id": "60a0f261-de0f-4fea-9b3e-a4f12852f521",
   "metadata": {},
   "outputs": [
    {
     "data": {
      "text/plain": [
       "  customerID           gender          SeniorCitizen      Partner         \n",
       " Length:7043        Length:7043        Min.   :0.0000   Length:7043       \n",
       " Class :character   Class :character   1st Qu.:0.0000   Class :character  \n",
       " Mode  :character   Mode  :character   Median :0.0000   Mode  :character  \n",
       "                                       Mean   :0.1621                     \n",
       "                                       3rd Qu.:0.0000                     \n",
       "                                       Max.   :1.0000                     \n",
       "                                                                          \n",
       "  Dependents            tenure      PhoneService       MultipleLines     \n",
       " Length:7043        Min.   : 0.00   Length:7043        Length:7043       \n",
       " Class :character   1st Qu.: 9.00   Class :character   Class :character  \n",
       " Mode  :character   Median :29.00   Mode  :character   Mode  :character  \n",
       "                    Mean   :32.37                                        \n",
       "                    3rd Qu.:55.00                                        \n",
       "                    Max.   :72.00                                        \n",
       "                                                                         \n",
       " InternetService    OnlineSecurity     OnlineBackup       DeviceProtection  \n",
       " Length:7043        Length:7043        Length:7043        Length:7043       \n",
       " Class :character   Class :character   Class :character   Class :character  \n",
       " Mode  :character   Mode  :character   Mode  :character   Mode  :character  \n",
       "                                                                            \n",
       "                                                                            \n",
       "                                                                            \n",
       "                                                                            \n",
       " TechSupport        StreamingTV        StreamingMovies      Contract        \n",
       " Length:7043        Length:7043        Length:7043        Length:7043       \n",
       " Class :character   Class :character   Class :character   Class :character  \n",
       " Mode  :character   Mode  :character   Mode  :character   Mode  :character  \n",
       "                                                                            \n",
       "                                                                            \n",
       "                                                                            \n",
       "                                                                            \n",
       " PaperlessBilling   PaymentMethod      MonthlyCharges    TotalCharges   \n",
       " Length:7043        Length:7043        Min.   : 18.25   Min.   :  18.8  \n",
       " Class :character   Class :character   1st Qu.: 35.50   1st Qu.: 401.4  \n",
       " Mode  :character   Mode  :character   Median : 70.35   Median :1397.5  \n",
       "                                       Mean   : 64.76   Mean   :2283.3  \n",
       "                                       3rd Qu.: 89.85   3rd Qu.:3794.7  \n",
       "                                       Max.   :118.75   Max.   :8684.8  \n",
       "                                                        NA's   :11      \n",
       "    Churn          \n",
       " Length:7043       \n",
       " Class :character  \n",
       " Mode  :character  \n",
       "                   \n",
       "                   \n",
       "                   \n",
       "                   "
      ]
     },
     "metadata": {},
     "output_type": "display_data"
    }
   ],
   "source": [
    "summary(customer_churn_df)"
   ]
  },
  {
   "cell_type": "markdown",
   "id": "2b32ee76-eb69-4d51-abec-9baaf15325c7",
   "metadata": {},
   "source": [
    "<h2>Bar Graph for Churn Distribution </h2>"
   ]
  },
  {
   "cell_type": "code",
   "execution_count": 7,
   "id": "75f20190-7e4c-462d-ab11-98ec0084a0d7",
   "metadata": {},
   "outputs": [
    {
     "data": {
      "image/png": "[encoded data removed]",
      "text/plain": [
       "plot without title"
      ]
     },
     "metadata": {
      "image/png": {
       "height": 420,
       "width": 420
      }
     },
     "output_type": "display_data"
    }
   ],
   "source": [
    "ggplot(customer_churn_df, aes(x = Churn, fill = Churn)) +\n",
    "  geom_bar() +\n",
    "  geom_text(stat = \"count\", aes(label = after_stat(count)), vjust = -0.3) +\n",
    "  scale_fill_manual(values = c(\"No\" = \"#4CAF50\", \"Yes\" = \"#F44336\")) +\n",
    "  labs(title = \"Customer Churn Distribution\",\n",
    "       x = \"Churn\",\n",
    "       y = \"Number of Customers\") +\n",
    "  theme_minimal()"
   ]
  },
  {
   "cell_type": "markdown",
   "id": "cac85643-1f25-4557-b401-a6c2fa4e77d5",
   "metadata": {},
   "source": [
    "<h2> Boxplots: churn vs non-churn for charges </h2>"
   ]
  },
  {
   "cell_type": "code",
   "execution_count": 8,
   "id": "3d4c6685-d6e4-43a4-8f59-ec85f4bceba8",
   "metadata": {
    "scrolled": true
   },
   "outputs": [
    {
     "data": {
      "image/png": "[encoded data removed]",
      "text/plain": [
       "plot without title"
      ]
     },
     "metadata": {
      "image/png": {
       "height": 420,
       "width": 420
      }
     },
     "output_type": "display_data"
    }
   ],
   "source": [
    "ggplot(customer_churn_df, aes(x = Churn, y = MonthlyCharges, fill = Churn)) +\n",
    "  geom_boxplot() +\n",
    "  scale_fill_manual(values = c(\"No\" = \"#4CAF50\", \"Yes\" = \"#F44336\")) +\n",
    "  labs(title = \"Boxplot of Monthly Charges by Churn\",\n",
    "       x = \"Churn\",\n",
    "       y = \"Monthly Charges\") +\n",
    "  theme_minimal()"
   ]
  },
  {
   "cell_type": "markdown",
   "id": "ff4e4b02-097d-4f44-a955-0add3878540d",
   "metadata": {},
   "source": [
    "<p> -- According to this Box plot, there is no outliers in this dataframe --- </p>"
   ]
  },
  {
   "cell_type": "markdown",
   "id": "28ae7fce-4f6b-418c-877f-b993ddab95f4",
   "metadata": {},
   "source": [
    "<h2> Correlation heatmap for numerical features </h2>"
   ]
  },
  {
   "cell_type": "code",
   "execution_count": 9,
   "id": "8a76146c-37f0-41bf-970d-cf9a41f74576",
   "metadata": {
    "scrolled": true
   },
   "outputs": [
    {
     "data": {
      "image/png": "[encoded data removed]",
      "text/plain": [
       "plot without title"
      ]
     },
     "metadata": {
      "image/png": {
       "height": 420,
       "width": 420
      }
     },
     "output_type": "display_data"
    }
   ],
   "source": [
    "\n",
    "# Select only numeric columns\n",
    "numeric_df <- customer_churn_df[, sapply(customer_churn_df, is.numeric)]\n",
    "\n",
    "# Compute correlation matrix\n",
    "cor_matrix <- cor(numeric_df, use = \"complete.obs\")\n",
    "\n",
    "# Reshape correlation matrix for ggplot2\n",
    "cor_data <- melt(cor_matrix)\n",
    "\n",
    "# Plot heatmap\n",
    "ggplot(cor_data, aes(x = Var1, y = Var2, fill = value)) +\n",
    "  geom_tile(color = \"white\") +\n",
    "  scale_fill_gradient2(low = \"orange\", high = \"green\", mid = \"white\", \n",
    "                       midpoint = 0, limit = c(-1, 1), space = \"Lab\",\n",
    "                       name = \"Correlation\") +\n",
    "  theme_minimal() +\n",
    "  labs(title = \"Correlation Heatmap of Numerical Features\",\n",
    "       x = \"\",\n",
    "       y = \"\") +\n",
    "  theme(axis.text.x = element_text(angle = 45, vjust = 1, hjust = 1))"
   ]
  },
  {
   "cell_type": "markdown",
   "id": "d1459d8e-2501-410c-8ad1-31049c66cd52",
   "metadata": {},
   "source": [
    "<h2> 2.0 Peprocessing </h2>"
   ]
  },
  {
   "cell_type": "markdown",
   "id": "c615608b-8f81-4dd1-8699-5eef67e99964",
   "metadata": {},
   "source": [
    "<h4> 2.1 Handle missing data </h4>"
   ]
  },
  {
   "cell_type": "code",
   "execution_count": 4,
   "id": "1cae7979-6314-442e-8010-5c4cd5a4442f",
   "metadata": {},
   "outputs": [
    {
     "data": {
      "text/html": [
       "<table class=\"dataframe\">\n",
       "<caption>A data.frame: 21 × 1</caption>\n",
       "<thead>\n",
       "\t<tr><th></th><th scope=col>missing_values</th></tr>\n",
       "\t<tr><th></th><th scope=col>&lt;dbl&gt;</th></tr>\n",
       "</thead>\n",
       "<tbody>\n",
       "\t<tr><th scope=row>customerID</th><td> 0</td></tr>\n",
       "\t<tr><th scope=row>gender</th><td> 0</td></tr>\n",
       "\t<tr><th scope=row>SeniorCitizen</th><td> 0</td></tr>\n",
       "\t<tr><th scope=row>Partner</th><td> 0</td></tr>\n",
       "\t<tr><th scope=row>Dependents</th><td> 0</td></tr>\n",
       "\t<tr><th scope=row>tenure</th><td> 0</td></tr>\n",
       "\t<tr><th scope=row>PhoneService</th><td> 0</td></tr>\n",
       "\t<tr><th scope=row>MultipleLines</th><td> 0</td></tr>\n",
       "\t<tr><th scope=row>InternetService</th><td> 0</td></tr>\n",
       "\t<tr><th scope=row>OnlineSecurity</th><td> 0</td></tr>\n",
       "\t<tr><th scope=row>OnlineBackup</th><td> 0</td></tr>\n",
       "\t<tr><th scope=row>DeviceProtection</th><td> 0</td></tr>\n",
       "\t<tr><th scope=row>TechSupport</th><td> 0</td></tr>\n",
       "\t<tr><th scope=row>StreamingTV</th><td> 0</td></tr>\n",
       "\t<tr><th scope=row>StreamingMovies</th><td> 0</td></tr>\n",
       "\t<tr><th scope=row>Contract</th><td> 0</td></tr>\n",
       "\t<tr><th scope=row>PaperlessBilling</th><td> 0</td></tr>\n",
       "\t<tr><th scope=row>PaymentMethod</th><td> 0</td></tr>\n",
       "\t<tr><th scope=row>MonthlyCharges</th><td> 0</td></tr>\n",
       "\t<tr><th scope=row>TotalCharges</th><td>11</td></tr>\n",
       "\t<tr><th scope=row>Churn</th><td> 0</td></tr>\n",
       "</tbody>\n",
       "</table>\n"
      ],
      "text/latex": [
       "A data.frame: 21 × 1\n",
       "\\begin{tabular}{r|l}\n",
       "  & missing\\_values\\\\\n",
       "  & <dbl>\\\\\n",
       "\\hline\n",
       "\tcustomerID &  0\\\\\n",
       "\tgender &  0\\\\\n",
       "\tSeniorCitizen &  0\\\\\n",
       "\tPartner &  0\\\\\n",
       "\tDependents &  0\\\\\n",
       "\ttenure &  0\\\\\n",
       "\tPhoneService &  0\\\\\n",
       "\tMultipleLines &  0\\\\\n",
       "\tInternetService &  0\\\\\n",
       "\tOnlineSecurity &  0\\\\\n",
       "\tOnlineBackup &  0\\\\\n",
       "\tDeviceProtection &  0\\\\\n",
       "\tTechSupport &  0\\\\\n",
       "\tStreamingTV &  0\\\\\n",
       "\tStreamingMovies &  0\\\\\n",
       "\tContract &  0\\\\\n",
       "\tPaperlessBilling &  0\\\\\n",
       "\tPaymentMethod &  0\\\\\n",
       "\tMonthlyCharges &  0\\\\\n",
       "\tTotalCharges & 11\\\\\n",
       "\tChurn &  0\\\\\n",
       "\\end{tabular}\n"
      ],
      "text/markdown": [
       "\n",
       "A data.frame: 21 × 1\n",
       "\n",
       "| <!--/--> | missing_values &lt;dbl&gt; |\n",
       "|---|---|\n",
       "| customerID |  0 |\n",
       "| gender |  0 |\n",
       "| SeniorCitizen |  0 |\n",
       "| Partner |  0 |\n",
       "| Dependents |  0 |\n",
       "| tenure |  0 |\n",
       "| PhoneService |  0 |\n",
       "| MultipleLines |  0 |\n",
       "| InternetService |  0 |\n",
       "| OnlineSecurity |  0 |\n",
       "| OnlineBackup |  0 |\n",
       "| DeviceProtection |  0 |\n",
       "| TechSupport |  0 |\n",
       "| StreamingTV |  0 |\n",
       "| StreamingMovies |  0 |\n",
       "| Contract |  0 |\n",
       "| PaperlessBilling |  0 |\n",
       "| PaymentMethod |  0 |\n",
       "| MonthlyCharges |  0 |\n",
       "| TotalCharges | 11 |\n",
       "| Churn |  0 |\n",
       "\n"
      ],
      "text/plain": [
       "                 missing_values\n",
       "customerID        0            \n",
       "gender            0            \n",
       "SeniorCitizen     0            \n",
       "Partner           0            \n",
       "Dependents        0            \n",
       "tenure            0            \n",
       "PhoneService      0            \n",
       "MultipleLines     0            \n",
       "InternetService   0            \n",
       "OnlineSecurity    0            \n",
       "OnlineBackup      0            \n",
       "DeviceProtection  0            \n",
       "TechSupport       0            \n",
       "StreamingTV       0            \n",
       "StreamingMovies   0            \n",
       "Contract          0            \n",
       "PaperlessBilling  0            \n",
       "PaymentMethod     0            \n",
       "MonthlyCharges    0            \n",
       "TotalCharges     11            \n",
       "Churn             0            "
      ]
     },
     "metadata": {},
     "output_type": "display_data"
    }
   ],
   "source": [
    "# fucnction to check missing values\n",
    "check_missing_values <- function(){\n",
    "missing_table <- data.frame(\n",
    "\n",
    "  missing_values = colSums(is.na(customer_churn_df))\n",
    ")\n",
    "\n",
    "missing_table\n",
    "    }\n",
    "check_missing_values()"
   ]
  },
  {
   "cell_type": "markdown",
   "id": "42dc3feb-81e6-42aa-b021-e9103a81ea83",
   "metadata": {},
   "source": [
    "<p> --- We have some missing values in Total Charges --- </p>"
   ]
  },
  {
   "cell_type": "markdown",
   "id": "60c645c7-880c-4b3c-ab5f-d86d55057742",
   "metadata": {},
   "source": [
    "<h4> 2.1.1 Replace Misising Values with mean </h4>"
   ]
  },
  {
   "cell_type": "code",
   "execution_count": 6,
   "id": "8139789b-f82a-40a0-9693-4d0674fef1f1",
   "metadata": {},
   "outputs": [],
   "source": [
    "# Replace NA values in TotalCharges with column mean\n",
    "customer_churn_df$TotalCharges[is.na(customer_churn_df$TotalCharges)] <- \n",
    "  mean(customer_churn_df$TotalCharges, na.rm = TRUE)\n"
   ]
  },
  {
   "cell_type": "markdown",
   "id": "f9b87c68-223a-446c-a47b-057852c46170",
   "metadata": {},
   "source": [
    "<h4> 2.1.2 Check for missing values again </h4>"
   ]
  },
  {
   "cell_type": "code",
   "execution_count": 8,
   "id": "215117e2-f08f-4d07-b1c8-0853866fc0b3",
   "metadata": {},
   "outputs": [
    {
     "data": {
      "text/html": [
       "<table class=\"dataframe\">\n",
       "<caption>A data.frame: 21 × 1</caption>\n",
       "<thead>\n",
       "\t<tr><th></th><th scope=col>missing_values</th></tr>\n",
       "\t<tr><th></th><th scope=col>&lt;dbl&gt;</th></tr>\n",
       "</thead>\n",
       "<tbody>\n",
       "\t<tr><th scope=row>customerID</th><td>0</td></tr>\n",
       "\t<tr><th scope=row>gender</th><td>0</td></tr>\n",
       "\t<tr><th scope=row>SeniorCitizen</th><td>0</td></tr>\n",
       "\t<tr><th scope=row>Partner</th><td>0</td></tr>\n",
       "\t<tr><th scope=row>Dependents</th><td>0</td></tr>\n",
       "\t<tr><th scope=row>tenure</th><td>0</td></tr>\n",
       "\t<tr><th scope=row>PhoneService</th><td>0</td></tr>\n",
       "\t<tr><th scope=row>MultipleLines</th><td>0</td></tr>\n",
       "\t<tr><th scope=row>InternetService</th><td>0</td></tr>\n",
       "\t<tr><th scope=row>OnlineSecurity</th><td>0</td></tr>\n",
       "\t<tr><th scope=row>OnlineBackup</th><td>0</td></tr>\n",
       "\t<tr><th scope=row>DeviceProtection</th><td>0</td></tr>\n",
       "\t<tr><th scope=row>TechSupport</th><td>0</td></tr>\n",
       "\t<tr><th scope=row>StreamingTV</th><td>0</td></tr>\n",
       "\t<tr><th scope=row>StreamingMovies</th><td>0</td></tr>\n",
       "\t<tr><th scope=row>Contract</th><td>0</td></tr>\n",
       "\t<tr><th scope=row>PaperlessBilling</th><td>0</td></tr>\n",
       "\t<tr><th scope=row>PaymentMethod</th><td>0</td></tr>\n",
       "\t<tr><th scope=row>MonthlyCharges</th><td>0</td></tr>\n",
       "\t<tr><th scope=row>TotalCharges</th><td>0</td></tr>\n",
       "\t<tr><th scope=row>Churn</th><td>0</td></tr>\n",
       "</tbody>\n",
       "</table>\n"
      ],
      "text/latex": [
       "A data.frame: 21 × 1\n",
       "\\begin{tabular}{r|l}\n",
       "  & missing\\_values\\\\\n",
       "  & <dbl>\\\\\n",
       "\\hline\n",
       "\tcustomerID & 0\\\\\n",
       "\tgender & 0\\\\\n",
       "\tSeniorCitizen & 0\\\\\n",
       "\tPartner & 0\\\\\n",
       "\tDependents & 0\\\\\n",
       "\ttenure & 0\\\\\n",
       "\tPhoneService & 0\\\\\n",
       "\tMultipleLines & 0\\\\\n",
       "\tInternetService & 0\\\\\n",
       "\tOnlineSecurity & 0\\\\\n",
       "\tOnlineBackup & 0\\\\\n",
       "\tDeviceProtection & 0\\\\\n",
       "\tTechSupport & 0\\\\\n",
       "\tStreamingTV & 0\\\\\n",
       "\tStreamingMovies & 0\\\\\n",
       "\tContract & 0\\\\\n",
       "\tPaperlessBilling & 0\\\\\n",
       "\tPaymentMethod & 0\\\\\n",
       "\tMonthlyCharges & 0\\\\\n",
       "\tTotalCharges & 0\\\\\n",
       "\tChurn & 0\\\\\n",
       "\\end{tabular}\n"
      ],
      "text/markdown": [
       "\n",
       "A data.frame: 21 × 1\n",
       "\n",
       "| <!--/--> | missing_values &lt;dbl&gt; |\n",
       "|---|---|\n",
       "| customerID | 0 |\n",
       "| gender | 0 |\n",
       "| SeniorCitizen | 0 |\n",
       "| Partner | 0 |\n",
       "| Dependents | 0 |\n",
       "| tenure | 0 |\n",
       "| PhoneService | 0 |\n",
       "| MultipleLines | 0 |\n",
       "| InternetService | 0 |\n",
       "| OnlineSecurity | 0 |\n",
       "| OnlineBackup | 0 |\n",
       "| DeviceProtection | 0 |\n",
       "| TechSupport | 0 |\n",
       "| StreamingTV | 0 |\n",
       "| StreamingMovies | 0 |\n",
       "| Contract | 0 |\n",
       "| PaperlessBilling | 0 |\n",
       "| PaymentMethod | 0 |\n",
       "| MonthlyCharges | 0 |\n",
       "| TotalCharges | 0 |\n",
       "| Churn | 0 |\n",
       "\n"
      ],
      "text/plain": [
       "                 missing_values\n",
       "customerID       0             \n",
       "gender           0             \n",
       "SeniorCitizen    0             \n",
       "Partner          0             \n",
       "Dependents       0             \n",
       "tenure           0             \n",
       "PhoneService     0             \n",
       "MultipleLines    0             \n",
       "InternetService  0             \n",
       "OnlineSecurity   0             \n",
       "OnlineBackup     0             \n",
       "DeviceProtection 0             \n",
       "TechSupport      0             \n",
       "StreamingTV      0             \n",
       "StreamingMovies  0             \n",
       "Contract         0             \n",
       "PaperlessBilling 0             \n",
       "PaymentMethod    0             \n",
       "MonthlyCharges   0             \n",
       "TotalCharges     0             \n",
       "Churn            0             "
      ]
     },
     "metadata": {},
     "output_type": "display_data"
    }
   ],
   "source": [
    "check_missing_values()#function to check miissing values"
   ]
  },
  {
   "cell_type": "markdown",
   "id": "3e715b77-0c66-44dd-97f4-6bd770e685a4",
   "metadata": {},
   "source": [
    "<p> --- All missing values have been imputed with mean --- </p>"
   ]
  },
  {
   "cell_type": "markdown",
   "id": "19c84bc3-33cd-4962-9c5f-73b62b4571d3",
   "metadata": {},
   "source": [
    "<h2>2.2 Encode categorical variables (One-Hot) </h2>\n",
    "<p> Before appling One Hot encoding, let us create tenure groups.</p>"
   ]
  },
  {
   "cell_type": "code",
   "execution_count": 10,
   "id": "04511322-b80e-40bd-81d9-87467282e9e3",
   "metadata": {},
   "outputs": [
    {
     "data": {
      "text/plain": [
       "\n",
       " Short Medium   Long \n",
       "  2186   2618   2239 "
      ]
     },
     "metadata": {},
     "output_type": "display_data"
    }
   ],
   "source": [
    "# Replace numeric tenure with categorical groups\n",
    "customer_churn_df$tenure <- cut(\n",
    "  customer_churn_df$tenure,\n",
    "  breaks = c(-Inf, 12, 48, Inf),\n",
    "  labels = c(\"Short\", \"Medium\", \"Long\")\n",
    ")\n",
    "\n",
    "# Check result\n",
    "table(customer_churn_df$tenure)"
   ]
  },
  {
   "cell_type": "markdown",
   "id": "3bb0b4af-9f8c-4426-a799-1264037d29ab",
   "metadata": {},
   "source": [
    "<h2> 2.1 Encoding Categorical Columns </h2>"
   ]
  },
  {
   "cell_type": "code",
   "execution_count": 12,
   "id": "e6510563-6a5c-4b9c-a3b5-de2f94c52ad9",
   "metadata": {},
   "outputs": [
    {
     "data": {
      "text/html": [
       "<table class=\"dataframe\">\n",
       "<caption>A data.frame: 6 × 47</caption>\n",
       "<thead>\n",
       "\t<tr><th></th><th scope=col>customerID</th><th scope=col>gender</th><th scope=col>SeniorCitizen</th><th scope=col>Partner</th><th scope=col>Dependents</th><th scope=col>tenure</th><th scope=col>PhoneService</th><th scope=col>MultipleLines</th><th scope=col>InternetService</th><th scope=col>OnlineSecurity</th><th scope=col>⋯</th><th scope=col>StreamingTV_No internet service</th><th scope=col>StreamingTV_Yes</th><th scope=col>StreamingMovies_No internet service</th><th scope=col>StreamingMovies_Yes</th><th scope=col>Contract_One year</th><th scope=col>Contract_Two year</th><th scope=col>PaperlessBilling_Yes</th><th scope=col>PaymentMethod_Credit card (automatic)</th><th scope=col>PaymentMethod_Electronic check</th><th scope=col>PaymentMethod_Mailed check</th></tr>\n",
       "\t<tr><th></th><th scope=col>&lt;chr&gt;</th><th scope=col>&lt;chr&gt;</th><th scope=col>&lt;int&gt;</th><th scope=col>&lt;chr&gt;</th><th scope=col>&lt;chr&gt;</th><th scope=col>&lt;fct&gt;</th><th scope=col>&lt;chr&gt;</th><th scope=col>&lt;chr&gt;</th><th scope=col>&lt;chr&gt;</th><th scope=col>&lt;chr&gt;</th><th scope=col>⋯</th><th scope=col>&lt;int&gt;</th><th scope=col>&lt;int&gt;</th><th scope=col>&lt;int&gt;</th><th scope=col>&lt;int&gt;</th><th scope=col>&lt;int&gt;</th><th scope=col>&lt;int&gt;</th><th scope=col>&lt;int&gt;</th><th scope=col>&lt;int&gt;</th><th scope=col>&lt;int&gt;</th><th scope=col>&lt;int&gt;</th></tr>\n",
       "</thead>\n",
       "<tbody>\n",
       "\t<tr><th scope=row>1</th><td>7590-VHVEG</td><td>Female</td><td>0</td><td>Yes</td><td>No</td><td>Short </td><td>No </td><td>No phone service</td><td>DSL        </td><td>No </td><td>⋯</td><td>0</td><td>0</td><td>0</td><td>0</td><td>0</td><td>0</td><td>1</td><td>0</td><td>1</td><td>0</td></tr>\n",
       "\t<tr><th scope=row>2</th><td>5575-GNVDE</td><td>Male  </td><td>0</td><td>No </td><td>No</td><td>Medium</td><td>Yes</td><td>No              </td><td>DSL        </td><td>Yes</td><td>⋯</td><td>0</td><td>0</td><td>0</td><td>0</td><td>1</td><td>0</td><td>0</td><td>0</td><td>0</td><td>1</td></tr>\n",
       "\t<tr><th scope=row>3</th><td>3668-QPYBK</td><td>Male  </td><td>0</td><td>No </td><td>No</td><td>Short </td><td>Yes</td><td>No              </td><td>DSL        </td><td>Yes</td><td>⋯</td><td>0</td><td>0</td><td>0</td><td>0</td><td>0</td><td>0</td><td>1</td><td>0</td><td>0</td><td>1</td></tr>\n",
       "\t<tr><th scope=row>4</th><td>7795-CFOCW</td><td>Male  </td><td>0</td><td>No </td><td>No</td><td>Medium</td><td>No </td><td>No phone service</td><td>DSL        </td><td>Yes</td><td>⋯</td><td>0</td><td>0</td><td>0</td><td>0</td><td>1</td><td>0</td><td>0</td><td>0</td><td>0</td><td>0</td></tr>\n",
       "\t<tr><th scope=row>5</th><td>9237-HQITU</td><td>Female</td><td>0</td><td>No </td><td>No</td><td>Short </td><td>Yes</td><td>No              </td><td>Fiber optic</td><td>No </td><td>⋯</td><td>0</td><td>0</td><td>0</td><td>0</td><td>0</td><td>0</td><td>1</td><td>0</td><td>1</td><td>0</td></tr>\n",
       "\t<tr><th scope=row>6</th><td>9305-CDSKC</td><td>Female</td><td>0</td><td>No </td><td>No</td><td>Short </td><td>Yes</td><td>Yes             </td><td>Fiber optic</td><td>No </td><td>⋯</td><td>0</td><td>1</td><td>0</td><td>1</td><td>0</td><td>0</td><td>1</td><td>0</td><td>1</td><td>0</td></tr>\n",
       "</tbody>\n",
       "</table>\n"
      ],
      "text/latex": [
       "A data.frame: 6 × 47\n",
       "\\begin{tabular}{r|lllllllllllllllllllll}\n",
       "  & customerID & gender & SeniorCitizen & Partner & Dependents & tenure & PhoneService & MultipleLines & InternetService & OnlineSecurity & ⋯ & StreamingTV\\_No internet service & StreamingTV\\_Yes & StreamingMovies\\_No internet service & StreamingMovies\\_Yes & Contract\\_One year & Contract\\_Two year & PaperlessBilling\\_Yes & PaymentMethod\\_Credit card (automatic) & PaymentMethod\\_Electronic check & PaymentMethod\\_Mailed check\\\\\n",
       "  & <chr> & <chr> & <int> & <chr> & <chr> & <fct> & <chr> & <chr> & <chr> & <chr> & ⋯ & <int> & <int> & <int> & <int> & <int> & <int> & <int> & <int> & <int> & <int>\\\\\n",
       "\\hline\n",
       "\t1 & 7590-VHVEG & Female & 0 & Yes & No & Short  & No  & No phone service & DSL         & No  & ⋯ & 0 & 0 & 0 & 0 & 0 & 0 & 1 & 0 & 1 & 0\\\\\n",
       "\t2 & 5575-GNVDE & Male   & 0 & No  & No & Medium & Yes & No               & DSL         & Yes & ⋯ & 0 & 0 & 0 & 0 & 1 & 0 & 0 & 0 & 0 & 1\\\\\n",
       "\t3 & 3668-QPYBK & Male   & 0 & No  & No & Short  & Yes & No               & DSL         & Yes & ⋯ & 0 & 0 & 0 & 0 & 0 & 0 & 1 & 0 & 0 & 1\\\\\n",
       "\t4 & 7795-CFOCW & Male   & 0 & No  & No & Medium & No  & No phone service & DSL         & Yes & ⋯ & 0 & 0 & 0 & 0 & 1 & 0 & 0 & 0 & 0 & 0\\\\\n",
       "\t5 & 9237-HQITU & Female & 0 & No  & No & Short  & Yes & No               & Fiber optic & No  & ⋯ & 0 & 0 & 0 & 0 & 0 & 0 & 1 & 0 & 1 & 0\\\\\n",
       "\t6 & 9305-CDSKC & Female & 0 & No  & No & Short  & Yes & Yes              & Fiber optic & No  & ⋯ & 0 & 1 & 0 & 1 & 0 & 0 & 1 & 0 & 1 & 0\\\\\n",
       "\\end{tabular}\n"
      ],
      "text/markdown": [
       "\n",
       "A data.frame: 6 × 47\n",
       "\n",
       "| <!--/--> | customerID &lt;chr&gt; | gender &lt;chr&gt; | SeniorCitizen &lt;int&gt; | Partner &lt;chr&gt; | Dependents &lt;chr&gt; | tenure &lt;fct&gt; | PhoneService &lt;chr&gt; | MultipleLines &lt;chr&gt; | InternetService &lt;chr&gt; | OnlineSecurity &lt;chr&gt; | ⋯ ⋯ | StreamingTV_No internet service &lt;int&gt; | StreamingTV_Yes &lt;int&gt; | StreamingMovies_No internet service &lt;int&gt; | StreamingMovies_Yes &lt;int&gt; | Contract_One year &lt;int&gt; | Contract_Two year &lt;int&gt; | PaperlessBilling_Yes &lt;int&gt; | PaymentMethod_Credit card (automatic) &lt;int&gt; | PaymentMethod_Electronic check &lt;int&gt; | PaymentMethod_Mailed check &lt;int&gt; |\n",
       "|---|---|---|---|---|---|---|---|---|---|---|---|---|---|---|---|---|---|---|---|---|---|\n",
       "| 1 | 7590-VHVEG | Female | 0 | Yes | No | Short  | No  | No phone service | DSL         | No  | ⋯ | 0 | 0 | 0 | 0 | 0 | 0 | 1 | 0 | 1 | 0 |\n",
       "| 2 | 5575-GNVDE | Male   | 0 | No  | No | Medium | Yes | No               | DSL         | Yes | ⋯ | 0 | 0 | 0 | 0 | 1 | 0 | 0 | 0 | 0 | 1 |\n",
       "| 3 | 3668-QPYBK | Male   | 0 | No  | No | Short  | Yes | No               | DSL         | Yes | ⋯ | 0 | 0 | 0 | 0 | 0 | 0 | 1 | 0 | 0 | 1 |\n",
       "| 4 | 7795-CFOCW | Male   | 0 | No  | No | Medium | No  | No phone service | DSL         | Yes | ⋯ | 0 | 0 | 0 | 0 | 1 | 0 | 0 | 0 | 0 | 0 |\n",
       "| 5 | 9237-HQITU | Female | 0 | No  | No | Short  | Yes | No               | Fiber optic | No  | ⋯ | 0 | 0 | 0 | 0 | 0 | 0 | 1 | 0 | 1 | 0 |\n",
       "| 6 | 9305-CDSKC | Female | 0 | No  | No | Short  | Yes | Yes              | Fiber optic | No  | ⋯ | 0 | 1 | 0 | 1 | 0 | 0 | 1 | 0 | 1 | 0 |\n",
       "\n"
      ],
      "text/plain": [
       "  customerID gender SeniorCitizen Partner Dependents tenure PhoneService\n",
       "1 7590-VHVEG Female 0             Yes     No         Short  No          \n",
       "2 5575-GNVDE Male   0             No      No         Medium Yes         \n",
       "3 3668-QPYBK Male   0             No      No         Short  Yes         \n",
       "4 7795-CFOCW Male   0             No      No         Medium No          \n",
       "5 9237-HQITU Female 0             No      No         Short  Yes         \n",
       "6 9305-CDSKC Female 0             No      No         Short  Yes         \n",
       "  MultipleLines    InternetService OnlineSecurity ⋯\n",
       "1 No phone service DSL             No             ⋯\n",
       "2 No               DSL             Yes            ⋯\n",
       "3 No               DSL             Yes            ⋯\n",
       "4 No phone service DSL             Yes            ⋯\n",
       "5 No               Fiber optic     No             ⋯\n",
       "6 Yes              Fiber optic     No             ⋯\n",
       "  StreamingTV_No internet service StreamingTV_Yes\n",
       "1 0                               0              \n",
       "2 0                               0              \n",
       "3 0                               0              \n",
       "4 0                               0              \n",
       "5 0                               0              \n",
       "6 0                               1              \n",
       "  StreamingMovies_No internet service StreamingMovies_Yes Contract_One year\n",
       "1 0                                   0                   0                \n",
       "2 0                                   0                   1                \n",
       "3 0                                   0                   0                \n",
       "4 0                                   0                   1                \n",
       "5 0                                   0                   0                \n",
       "6 0                                   1                   0                \n",
       "  Contract_Two year PaperlessBilling_Yes PaymentMethod_Credit card (automatic)\n",
       "1 0                 1                    0                                    \n",
       "2 0                 0                    0                                    \n",
       "3 0                 1                    0                                    \n",
       "4 0                 0                    0                                    \n",
       "5 0                 1                    0                                    \n",
       "6 0                 1                    0                                    \n",
       "  PaymentMethod_Electronic check PaymentMethod_Mailed check\n",
       "1 1                              0                         \n",
       "2 0                              1                         \n",
       "3 0                              1                         \n",
       "4 0                              0                         \n",
       "5 1                              0                         \n",
       "6 1                              0                         "
      ]
     },
     "metadata": {},
     "output_type": "display_data"
    }
   ],
   "source": [
    "\n",
    "# List of categorical columns you want to encode\n",
    "categorical_cols <- c(\"gender\", \"Partner\", \"Dependents\", \"PhoneService\", \n",
    "                      \"MultipleLines\", \"InternetService\", \"OnlineSecurity\", \n",
    "                      \"OnlineBackup\", \"DeviceProtection\", \"TechSupport\", \n",
    "                      \"StreamingTV\", \"StreamingMovies\", \"Contract\", \n",
    "                      \"PaperlessBilling\", \"PaymentMethod\")\n",
    "\n",
    "# One-hot encode all at once\n",
    "customer_churn_df <- dummy_cols(customer_churn_df, \n",
    "                                select_columns = categorical_cols,\n",
    "                                remove_first_dummy = TRUE,   # optional: avoid dummy variable trap\n",
    "                                remove_selected_columns = FALSE)  # optional: remove original columns\n",
    "\n",
    "# Check the first few rows\n",
    "head(customer_churn_df)\n",
    "\n"
   ]
  },
  {
   "cell_type": "markdown",
   "id": "f5ca210f-9c6b-4343-9a6a-afa736493ffd",
   "metadata": {},
   "source": [
    "<h2> 3.0 Feature Engineering & Reduction </h2>"
   ]
  },
  {
   "cell_type": "markdown",
   "id": "1478f2a4-5ffb-423f-af5e-e9e0d5b146a0",
   "metadata": {},
   "source": [
    "<h2>3.1 Total monthly charges per contract type</h2>\n"
   ]
  },
  {
   "cell_type": "code",
   "execution_count": 14,
   "id": "62f82082-fdb3-400b-a217-ab0b94614ae4",
   "metadata": {},
   "outputs": [
    {
     "data": {
      "text/html": [
       "<table class=\"dataframe\">\n",
       "<caption>A tibble: 3 × 2</caption>\n",
       "<thead>\n",
       "\t<tr><th scope=col>Contract</th><th scope=col>TotalMonthlyCharges</th></tr>\n",
       "\t<tr><th scope=col>&lt;chr&gt;</th><th scope=col>&lt;dbl&gt;</th></tr>\n",
       "</thead>\n",
       "<tbody>\n",
       "\t<tr><td>Month-to-month</td><td>257294.1</td></tr>\n",
       "\t<tr><td>Two year      </td><td>103005.9</td></tr>\n",
       "\t<tr><td>One year      </td><td> 95816.6</td></tr>\n",
       "</tbody>\n",
       "</table>\n"
      ],
      "text/latex": [
       "A tibble: 3 × 2\n",
       "\\begin{tabular}{ll}\n",
       " Contract & TotalMonthlyCharges\\\\\n",
       " <chr> & <dbl>\\\\\n",
       "\\hline\n",
       "\t Month-to-month & 257294.1\\\\\n",
       "\t Two year       & 103005.9\\\\\n",
       "\t One year       &  95816.6\\\\\n",
       "\\end{tabular}\n"
      ],
      "text/markdown": [
       "\n",
       "A tibble: 3 × 2\n",
       "\n",
       "| Contract &lt;chr&gt; | TotalMonthlyCharges &lt;dbl&gt; |\n",
       "|---|---|\n",
       "| Month-to-month | 257294.1 |\n",
       "| Two year       | 103005.9 |\n",
       "| One year       |  95816.6 |\n",
       "\n"
      ],
      "text/plain": [
       "  Contract       TotalMonthlyCharges\n",
       "1 Month-to-month 257294.1           \n",
       "2 Two year       103005.9           \n",
       "3 One year        95816.6           "
      ]
     },
     "metadata": {},
     "output_type": "display_data"
    }
   ],
   "source": [
    "library(dplyr)\n",
    "\n",
    "total_charges_by_contract <- customer_churn_df %>%\n",
    "  group_by(Contract) %>%\n",
    "  summarise(TotalMonthlyCharges = sum(MonthlyCharges, na.rm = TRUE)) %>%\n",
    "  arrange(desc(TotalMonthlyCharges))\n",
    "\n",
    "total_charges_by_contract\n"
   ]
  },
  {
   "cell_type": "markdown",
   "id": "78f1244a-2fc1-4ee5-a332-32ffb6a685a2",
   "metadata": {},
   "source": [
    "<h4> Total Monthly Charges per Contract Type </h4>"
   ]
  },
  {
   "cell_type": "code",
   "execution_count": 18,
   "id": "bc3d097b-d826-41d0-ac99-6f71e8c5e871",
   "metadata": {},
   "outputs": [
    {
     "data": {
      "image/png": "[encoded data removed]",
      "text/plain": [
       "plot without title"
      ]
     },
     "metadata": {
      "image/png": {
       "height": 420,
       "width": 420
      }
     },
     "output_type": "display_data"
    }
   ],
   "source": [
    "ggplot(total_charges_by_contract, aes(x = \"\", y = TotalMonthlyCharges, fill = Contract)) +\n",
    "  geom_bar(stat = \"identity\", width = 1) +\n",
    "  coord_polar(\"y\", start = 0) +\n",
    "  labs(title = \"Total Monthly Charges per Contract Type\") +\n",
    "  theme_void() +\n",
    "  theme(legend.position = \"right\")"
   ]
  },
  {
   "cell_type": "markdown",
   "id": "4817d5fe-430e-4ccf-adc6-f89b4584a2ff",
   "metadata": {},
   "source": [
    "<h4> set predictiors as X and target as y </h4>"
   ]
  },
  {
   "cell_type": "code",
   "execution_count": 14,
   "id": "d2e72d72-5409-4667-8dc4-f4da5b32b6d9",
   "metadata": {},
   "outputs": [
    {
     "data": {
      "text/html": [
       "<style>\n",
       ".list-inline {list-style: none; margin:0; padding: 0}\n",
       ".list-inline>li {display: inline-block}\n",
       ".list-inline>li:not(:last-child)::after {content: \"\\00b7\"; padding: 0 .5ex}\n",
       "</style>\n",
       "<ol class=list-inline><li>7043</li><li>55</li></ol>\n"
      ],
      "text/latex": [
       "\\begin{enumerate*}\n",
       "\\item 7043\n",
       "\\item 55\n",
       "\\end{enumerate*}\n"
      ],
      "text/markdown": [
       "1. 7043\n",
       "2. 55\n",
       "\n",
       "\n"
      ],
      "text/plain": [
       "[1] 7043   55"
      ]
     },
     "metadata": {},
     "output_type": "display_data"
    },
    {
     "data": {
      "text/html": [
       "<table class=\"dataframe\">\n",
       "<caption>A data.frame: 6 × 55</caption>\n",
       "<thead>\n",
       "\t<tr><th></th><th scope=col>gender_Male</th><th scope=col>Partner_Yes</th><th scope=col>Dependents_Yes</th><th scope=col>PhoneService_Yes</th><th scope=col>MultipleLines_No phone service</th><th scope=col>MultipleLines_Yes</th><th scope=col>InternetService_Fiber optic</th><th scope=col>InternetService_No</th><th scope=col>OnlineSecurity_No internet service</th><th scope=col>OnlineSecurity_Yes</th><th scope=col>⋯</th><th scope=col>StreamingTV_No internet service.1</th><th scope=col>StreamingTV_Yes.1</th><th scope=col>StreamingMovies_No internet service.1</th><th scope=col>StreamingMovies_Yes.1</th><th scope=col>Contract_One year.1</th><th scope=col>Contract_Two year.1</th><th scope=col>PaperlessBilling_Yes.1</th><th scope=col>PaymentMethod_Credit card (automatic).1</th><th scope=col>PaymentMethod_Electronic check.1</th><th scope=col>PaymentMethod_Mailed check.1</th></tr>\n",
       "\t<tr><th></th><th scope=col>&lt;int&gt;</th><th scope=col>&lt;int&gt;</th><th scope=col>&lt;int&gt;</th><th scope=col>&lt;int&gt;</th><th scope=col>&lt;int&gt;</th><th scope=col>&lt;int&gt;</th><th scope=col>&lt;int&gt;</th><th scope=col>&lt;int&gt;</th><th scope=col>&lt;int&gt;</th><th scope=col>&lt;int&gt;</th><th scope=col>⋯</th><th scope=col>&lt;int&gt;</th><th scope=col>&lt;int&gt;</th><th scope=col>&lt;int&gt;</th><th scope=col>&lt;int&gt;</th><th scope=col>&lt;int&gt;</th><th scope=col>&lt;int&gt;</th><th scope=col>&lt;int&gt;</th><th scope=col>&lt;int&gt;</th><th scope=col>&lt;int&gt;</th><th scope=col>&lt;int&gt;</th></tr>\n",
       "</thead>\n",
       "<tbody>\n",
       "\t<tr><th scope=row>1</th><td>0</td><td>1</td><td>0</td><td>0</td><td>1</td><td>0</td><td>0</td><td>0</td><td>0</td><td>0</td><td>⋯</td><td>0</td><td>0</td><td>0</td><td>0</td><td>0</td><td>0</td><td>1</td><td>0</td><td>1</td><td>0</td></tr>\n",
       "\t<tr><th scope=row>2</th><td>1</td><td>0</td><td>0</td><td>1</td><td>0</td><td>0</td><td>0</td><td>0</td><td>0</td><td>1</td><td>⋯</td><td>0</td><td>0</td><td>0</td><td>0</td><td>1</td><td>0</td><td>0</td><td>0</td><td>0</td><td>1</td></tr>\n",
       "\t<tr><th scope=row>3</th><td>1</td><td>0</td><td>0</td><td>1</td><td>0</td><td>0</td><td>0</td><td>0</td><td>0</td><td>1</td><td>⋯</td><td>0</td><td>0</td><td>0</td><td>0</td><td>0</td><td>0</td><td>1</td><td>0</td><td>0</td><td>1</td></tr>\n",
       "\t<tr><th scope=row>4</th><td>1</td><td>0</td><td>0</td><td>0</td><td>1</td><td>0</td><td>0</td><td>0</td><td>0</td><td>1</td><td>⋯</td><td>0</td><td>0</td><td>0</td><td>0</td><td>1</td><td>0</td><td>0</td><td>0</td><td>0</td><td>0</td></tr>\n",
       "\t<tr><th scope=row>5</th><td>0</td><td>0</td><td>0</td><td>1</td><td>0</td><td>0</td><td>1</td><td>0</td><td>0</td><td>0</td><td>⋯</td><td>0</td><td>0</td><td>0</td><td>0</td><td>0</td><td>0</td><td>1</td><td>0</td><td>1</td><td>0</td></tr>\n",
       "\t<tr><th scope=row>6</th><td>0</td><td>0</td><td>0</td><td>1</td><td>0</td><td>1</td><td>1</td><td>0</td><td>0</td><td>0</td><td>⋯</td><td>0</td><td>1</td><td>0</td><td>1</td><td>0</td><td>0</td><td>1</td><td>0</td><td>1</td><td>0</td></tr>\n",
       "</tbody>\n",
       "</table>\n"
      ],
      "text/latex": [
       "A data.frame: 6 × 55\n",
       "\\begin{tabular}{r|lllllllllllllllllllll}\n",
       "  & gender\\_Male & Partner\\_Yes & Dependents\\_Yes & PhoneService\\_Yes & MultipleLines\\_No phone service & MultipleLines\\_Yes & InternetService\\_Fiber optic & InternetService\\_No & OnlineSecurity\\_No internet service & OnlineSecurity\\_Yes & ⋯ & StreamingTV\\_No internet service.1 & StreamingTV\\_Yes.1 & StreamingMovies\\_No internet service.1 & StreamingMovies\\_Yes.1 & Contract\\_One year.1 & Contract\\_Two year.1 & PaperlessBilling\\_Yes.1 & PaymentMethod\\_Credit card (automatic).1 & PaymentMethod\\_Electronic check.1 & PaymentMethod\\_Mailed check.1\\\\\n",
       "  & <int> & <int> & <int> & <int> & <int> & <int> & <int> & <int> & <int> & <int> & ⋯ & <int> & <int> & <int> & <int> & <int> & <int> & <int> & <int> & <int> & <int>\\\\\n",
       "\\hline\n",
       "\t1 & 0 & 1 & 0 & 0 & 1 & 0 & 0 & 0 & 0 & 0 & ⋯ & 0 & 0 & 0 & 0 & 0 & 0 & 1 & 0 & 1 & 0\\\\\n",
       "\t2 & 1 & 0 & 0 & 1 & 0 & 0 & 0 & 0 & 0 & 1 & ⋯ & 0 & 0 & 0 & 0 & 1 & 0 & 0 & 0 & 0 & 1\\\\\n",
       "\t3 & 1 & 0 & 0 & 1 & 0 & 0 & 0 & 0 & 0 & 1 & ⋯ & 0 & 0 & 0 & 0 & 0 & 0 & 1 & 0 & 0 & 1\\\\\n",
       "\t4 & 1 & 0 & 0 & 0 & 1 & 0 & 0 & 0 & 0 & 1 & ⋯ & 0 & 0 & 0 & 0 & 1 & 0 & 0 & 0 & 0 & 0\\\\\n",
       "\t5 & 0 & 0 & 0 & 1 & 0 & 0 & 1 & 0 & 0 & 0 & ⋯ & 0 & 0 & 0 & 0 & 0 & 0 & 1 & 0 & 1 & 0\\\\\n",
       "\t6 & 0 & 0 & 0 & 1 & 0 & 1 & 1 & 0 & 0 & 0 & ⋯ & 0 & 1 & 0 & 1 & 0 & 0 & 1 & 0 & 1 & 0\\\\\n",
       "\\end{tabular}\n"
      ],
      "text/markdown": [
       "\n",
       "A data.frame: 6 × 55\n",
       "\n",
       "| <!--/--> | gender_Male &lt;int&gt; | Partner_Yes &lt;int&gt; | Dependents_Yes &lt;int&gt; | PhoneService_Yes &lt;int&gt; | MultipleLines_No phone service &lt;int&gt; | MultipleLines_Yes &lt;int&gt; | InternetService_Fiber optic &lt;int&gt; | InternetService_No &lt;int&gt; | OnlineSecurity_No internet service &lt;int&gt; | OnlineSecurity_Yes &lt;int&gt; | ⋯ ⋯ | StreamingTV_No internet service.1 &lt;int&gt; | StreamingTV_Yes.1 &lt;int&gt; | StreamingMovies_No internet service.1 &lt;int&gt; | StreamingMovies_Yes.1 &lt;int&gt; | Contract_One year.1 &lt;int&gt; | Contract_Two year.1 &lt;int&gt; | PaperlessBilling_Yes.1 &lt;int&gt; | PaymentMethod_Credit card (automatic).1 &lt;int&gt; | PaymentMethod_Electronic check.1 &lt;int&gt; | PaymentMethod_Mailed check.1 &lt;int&gt; |\n",
       "|---|---|---|---|---|---|---|---|---|---|---|---|---|---|---|---|---|---|---|---|---|---|\n",
       "| 1 | 0 | 1 | 0 | 0 | 1 | 0 | 0 | 0 | 0 | 0 | ⋯ | 0 | 0 | 0 | 0 | 0 | 0 | 1 | 0 | 1 | 0 |\n",
       "| 2 | 1 | 0 | 0 | 1 | 0 | 0 | 0 | 0 | 0 | 1 | ⋯ | 0 | 0 | 0 | 0 | 1 | 0 | 0 | 0 | 0 | 1 |\n",
       "| 3 | 1 | 0 | 0 | 1 | 0 | 0 | 0 | 0 | 0 | 1 | ⋯ | 0 | 0 | 0 | 0 | 0 | 0 | 1 | 0 | 0 | 1 |\n",
       "| 4 | 1 | 0 | 0 | 0 | 1 | 0 | 0 | 0 | 0 | 1 | ⋯ | 0 | 0 | 0 | 0 | 1 | 0 | 0 | 0 | 0 | 0 |\n",
       "| 5 | 0 | 0 | 0 | 1 | 0 | 0 | 1 | 0 | 0 | 0 | ⋯ | 0 | 0 | 0 | 0 | 0 | 0 | 1 | 0 | 1 | 0 |\n",
       "| 6 | 0 | 0 | 0 | 1 | 0 | 1 | 1 | 0 | 0 | 0 | ⋯ | 0 | 1 | 0 | 1 | 0 | 0 | 1 | 0 | 1 | 0 |\n",
       "\n"
      ],
      "text/plain": [
       "  gender_Male Partner_Yes Dependents_Yes PhoneService_Yes\n",
       "1 0           1           0              0               \n",
       "2 1           0           0              1               \n",
       "3 1           0           0              1               \n",
       "4 1           0           0              0               \n",
       "5 0           0           0              1               \n",
       "6 0           0           0              1               \n",
       "  MultipleLines_No phone service MultipleLines_Yes InternetService_Fiber optic\n",
       "1 1                              0                 0                          \n",
       "2 0                              0                 0                          \n",
       "3 0                              0                 0                          \n",
       "4 1                              0                 0                          \n",
       "5 0                              0                 1                          \n",
       "6 0                              1                 1                          \n",
       "  InternetService_No OnlineSecurity_No internet service OnlineSecurity_Yes ⋯\n",
       "1 0                  0                                  0                  ⋯\n",
       "2 0                  0                                  1                  ⋯\n",
       "3 0                  0                                  1                  ⋯\n",
       "4 0                  0                                  1                  ⋯\n",
       "5 0                  0                                  0                  ⋯\n",
       "6 0                  0                                  0                  ⋯\n",
       "  StreamingTV_No internet service.1 StreamingTV_Yes.1\n",
       "1 0                                 0                \n",
       "2 0                                 0                \n",
       "3 0                                 0                \n",
       "4 0                                 0                \n",
       "5 0                                 0                \n",
       "6 0                                 1                \n",
       "  StreamingMovies_No internet service.1 StreamingMovies_Yes.1\n",
       "1 0                                     0                    \n",
       "2 0                                     0                    \n",
       "3 0                                     0                    \n",
       "4 0                                     0                    \n",
       "5 0                                     0                    \n",
       "6 0                                     1                    \n",
       "  Contract_One year.1 Contract_Two year.1 PaperlessBilling_Yes.1\n",
       "1 0                   0                   1                     \n",
       "2 1                   0                   0                     \n",
       "3 0                   0                   1                     \n",
       "4 1                   0                   0                     \n",
       "5 0                   0                   1                     \n",
       "6 0                   0                   1                     \n",
       "  PaymentMethod_Credit card (automatic).1 PaymentMethod_Electronic check.1\n",
       "1 0                                       1                               \n",
       "2 0                                       0                               \n",
       "3 0                                       0                               \n",
       "4 0                                       0                               \n",
       "5 0                                       1                               \n",
       "6 0                                       1                               \n",
       "  PaymentMethod_Mailed check.1\n",
       "1 0                           \n",
       "2 1                           \n",
       "3 1                           \n",
       "4 0                           \n",
       "5 0                           \n",
       "6 0                           "
      ]
     },
     "metadata": {},
     "output_type": "display_data"
    }
   ],
   "source": [
    "# 1. Identify dummy columns created by fastDummies (they contain \"_\")\n",
    "dummy_cols <- names(customer_churn_df)[grepl(\"_\", names(customer_churn_df))]\n",
    "\n",
    "# 2. Identify numeric columns\n",
    "numeric_cols <- names(customer_churn_df)[sapply(customer_churn_df, is.numeric)]\n",
    "\n",
    "# 3. Exclude the target variable from numeric columns (assuming Churn is 0/1 now)\n",
    "numeric_cols <- setdiff(numeric_cols, \"Churn\")\n",
    "\n",
    "# 4. Combine feature columns\n",
    "feature_cols <- c(dummy_cols, numeric_cols)\n",
    "\n",
    "# 5. Create feature matrix X\n",
    "X <- customer_churn_df[, feature_cols]\n",
    "\n",
    "# 6. Target variable y\n",
    "y <- customer_churn_df$Churn\n",
    "\n",
    "# Check dimensions\n",
    "dim(X)\n",
    "head(X)\n"
   ]
  },
  {
   "cell_type": "markdown",
   "id": "b4210efa-233d-4ae1-b215-51e9c41a4e0e",
   "metadata": {},
   "source": [
    "<h4> Split data for training and testing dataset </h4>"
   ]
  },
  {
   "cell_type": "code",
   "execution_count": 16,
   "id": "394c5302-ebef-4371-92c7-169829887f2e",
   "metadata": {},
   "outputs": [
    {
     "data": {
      "text/html": [
       "<style>\n",
       ".list-inline {list-style: none; margin:0; padding: 0}\n",
       ".list-inline>li {display: inline-block}\n",
       ".list-inline>li:not(:last-child)::after {content: \"\\00b7\"; padding: 0 .5ex}\n",
       "</style>\n",
       "<ol class=list-inline><li>5634</li><li>55</li></ol>\n"
      ],
      "text/latex": [
       "\\begin{enumerate*}\n",
       "\\item 5634\n",
       "\\item 55\n",
       "\\end{enumerate*}\n"
      ],
      "text/markdown": [
       "1. 5634\n",
       "2. 55\n",
       "\n",
       "\n"
      ],
      "text/plain": [
       "[1] 5634   55"
      ]
     },
     "metadata": {},
     "output_type": "display_data"
    },
    {
     "data": {
      "text/html": [
       "<style>\n",
       ".list-inline {list-style: none; margin:0; padding: 0}\n",
       ".list-inline>li {display: inline-block}\n",
       ".list-inline>li:not(:last-child)::after {content: \"\\00b7\"; padding: 0 .5ex}\n",
       "</style>\n",
       "<ol class=list-inline><li>1409</li><li>55</li></ol>\n"
      ],
      "text/latex": [
       "\\begin{enumerate*}\n",
       "\\item 1409\n",
       "\\item 55\n",
       "\\end{enumerate*}\n"
      ],
      "text/markdown": [
       "1. 1409\n",
       "2. 55\n",
       "\n",
       "\n"
      ],
      "text/plain": [
       "[1] 1409   55"
      ]
     },
     "metadata": {},
     "output_type": "display_data"
    }
   ],
   "source": [
    "library(caTools)\n",
    "\n",
    "set.seed(123)  # for reproducibility\n",
    "\n",
    "# Create split index (80% train, 20% test)\n",
    "split <- sample.split(y, SplitRatio = 0.8)\n",
    "\n",
    "# Training set\n",
    "X_train <- subset(X, split == TRUE)\n",
    "y_train <- subset(y, split == TRUE)\n",
    "\n",
    "# Testing set\n",
    "X_test <- subset(X, split == FALSE)\n",
    "y_test <- subset(y, split == FALSE)\n",
    "\n",
    "# Check dimensions\n",
    "dim(X_train)\n",
    "dim(X_test)\n"
   ]
  },
  {
   "cell_type": "markdown",
   "id": "91c96b61-f8eb-4a2d-a4ec-c0c29e8d47cb",
   "metadata": {},
   "source": [
    "<h4> Normalizing data for training </h4>"
   ]
  },
  {
   "cell_type": "code",
   "execution_count": 18,
   "id": "9721d7dc-dc39-422e-b2a9-4a87488a286d",
   "metadata": {},
   "outputs": [],
   "source": [
    "numeric_cols <- names(X_train)[sapply(X_train, is.numeric)]\n",
    "\n",
    "# Scale training data\n",
    "train_means <- sapply(X_train[, numeric_cols], mean, na.rm = TRUE)\n",
    "train_sds   <- sapply(X_train[, numeric_cols], sd, na.rm = TRUE)\n",
    "\n",
    "X_train[, numeric_cols] <- scale(X_train[, numeric_cols],\n",
    "                                 center = train_means,\n",
    "                                 scale = train_sds)\n",
    "\n",
    "# Apply same scaling to test data\n",
    "X_test[, numeric_cols] <- scale(X_test[, numeric_cols],\n",
    "                                center = train_means,\n",
    "                                scale = train_sds)\n"
   ]
  },
  {
   "cell_type": "markdown",
   "id": "e5c20fff-84e7-429c-bdd0-d267a47f7158",
   "metadata": {},
   "source": [
    "<h4> Apply PCA </h4>"
   ]
  },
  {
   "cell_type": "code",
   "execution_count": 28,
   "id": "7fa23725-be60-494b-8098-6f330a63f71e",
   "metadata": {},
   "outputs": [],
   "source": [
    "# Apply PCA on training data\n",
    "pca_model <- prcomp(X_train, center = FALSE, scale. = FALSE)\n",
    "\n",
    "# Check summary to see variance explained\n",
    "#summary(pca_model)\n"
   ]
  },
  {
   "cell_type": "code",
   "execution_count": 30,
   "id": "c118c352-7716-40d3-a01a-4d644f7791a7",
   "metadata": {},
   "outputs": [
    {
     "data": {
      "text/html": [
       "<style>\n",
       ".list-inline {list-style: none; margin:0; padding: 0}\n",
       ".list-inline>li {display: inline-block}\n",
       ".list-inline>li:not(:last-child)::after {content: \"\\00b7\"; padding: 0 .5ex}\n",
       "</style>\n",
       "<ol class=list-inline><li>5634</li><li>17</li></ol>\n"
      ],
      "text/latex": [
       "\\begin{enumerate*}\n",
       "\\item 5634\n",
       "\\item 17\n",
       "\\end{enumerate*}\n"
      ],
      "text/markdown": [
       "1. 5634\n",
       "2. 17\n",
       "\n",
       "\n"
      ],
      "text/plain": [
       "[1] 5634   17"
      ]
     },
     "metadata": {},
     "output_type": "display_data"
    },
    {
     "data": {
      "text/html": [
       "<style>\n",
       ".list-inline {list-style: none; margin:0; padding: 0}\n",
       ".list-inline>li {display: inline-block}\n",
       ".list-inline>li:not(:last-child)::after {content: \"\\00b7\"; padding: 0 .5ex}\n",
       "</style>\n",
       "<ol class=list-inline><li>1409</li><li>17</li></ol>\n"
      ],
      "text/latex": [
       "\\begin{enumerate*}\n",
       "\\item 1409\n",
       "\\item 17\n",
       "\\end{enumerate*}\n"
      ],
      "text/markdown": [
       "1. 1409\n",
       "2. 17\n",
       "\n",
       "\n"
      ],
      "text/plain": [
       "[1] 1409   17"
      ]
     },
     "metadata": {},
     "output_type": "display_data"
    }
   ],
   "source": [
    "# Decide number of PCs to keep (e.g., enough to explain 95% variance)\n",
    "cum_var <- cumsum(pca_model$sdev^2 / sum(pca_model$sdev^2))\n",
    "num_pc <- which(cum_var >= 0.95)[1] \n",
    "\n",
    "# Transform training and test data\n",
    "X_train_pca <- as.data.frame(pca_model$x[, 1:num_pc])\n",
    "X_test_pca  <- as.data.frame(predict(pca_model, newdata = X_test)[, 1:num_pc])\n",
    "\n",
    "dim(X_train_pca)\n",
    "dim(X_test_pca)\n"
   ]
  },
  {
   "cell_type": "markdown",
   "id": "1c3ff852-5ee2-4806-837a-e50f8ce9a801",
   "metadata": {},
   "source": [
    "<h4> PCA explained variance chart </h4>"
   ]
  },
  {
   "cell_type": "code",
   "execution_count": 34,
   "id": "8c7b1b1b-9892-46b9-8b38-33742fded0b8",
   "metadata": {},
   "outputs": [
    {
     "data": {
      "text/html": [
       "<table class=\"dataframe\">\n",
       "<caption>A data.frame: 6 × 3</caption>\n",
       "<thead>\n",
       "\t<tr><th></th><th scope=col>PC</th><th scope=col>Variance</th><th scope=col>CumulativeVariance</th></tr>\n",
       "\t<tr><th></th><th scope=col>&lt;int&gt;</th><th scope=col>&lt;dbl&gt;</th><th scope=col>&lt;dbl&gt;</th></tr>\n",
       "</thead>\n",
       "<tbody>\n",
       "\t<tr><th scope=row>1</th><td>1</td><td>0.34116688</td><td>0.3411669</td></tr>\n",
       "\t<tr><th scope=row>2</th><td>2</td><td>0.09788972</td><td>0.4390566</td></tr>\n",
       "\t<tr><th scope=row>3</th><td>3</td><td>0.09545496</td><td>0.5345116</td></tr>\n",
       "\t<tr><th scope=row>4</th><td>4</td><td>0.04887647</td><td>0.5833880</td></tr>\n",
       "\t<tr><th scope=row>5</th><td>5</td><td>0.04496777</td><td>0.6283558</td></tr>\n",
       "\t<tr><th scope=row>6</th><td>6</td><td>0.04463307</td><td>0.6729889</td></tr>\n",
       "</tbody>\n",
       "</table>\n"
      ],
      "text/latex": [
       "A data.frame: 6 × 3\n",
       "\\begin{tabular}{r|lll}\n",
       "  & PC & Variance & CumulativeVariance\\\\\n",
       "  & <int> & <dbl> & <dbl>\\\\\n",
       "\\hline\n",
       "\t1 & 1 & 0.34116688 & 0.3411669\\\\\n",
       "\t2 & 2 & 0.09788972 & 0.4390566\\\\\n",
       "\t3 & 3 & 0.09545496 & 0.5345116\\\\\n",
       "\t4 & 4 & 0.04887647 & 0.5833880\\\\\n",
       "\t5 & 5 & 0.04496777 & 0.6283558\\\\\n",
       "\t6 & 6 & 0.04463307 & 0.6729889\\\\\n",
       "\\end{tabular}\n"
      ],
      "text/markdown": [
       "\n",
       "A data.frame: 6 × 3\n",
       "\n",
       "| <!--/--> | PC &lt;int&gt; | Variance &lt;dbl&gt; | CumulativeVariance &lt;dbl&gt; |\n",
       "|---|---|---|---|\n",
       "| 1 | 1 | 0.34116688 | 0.3411669 |\n",
       "| 2 | 2 | 0.09788972 | 0.4390566 |\n",
       "| 3 | 3 | 0.09545496 | 0.5345116 |\n",
       "| 4 | 4 | 0.04887647 | 0.5833880 |\n",
       "| 5 | 5 | 0.04496777 | 0.6283558 |\n",
       "| 6 | 6 | 0.04463307 | 0.6729889 |\n",
       "\n"
      ],
      "text/plain": [
       "  PC Variance   CumulativeVariance\n",
       "1 1  0.34116688 0.3411669         \n",
       "2 2  0.09788972 0.4390566         \n",
       "3 3  0.09545496 0.5345116         \n",
       "4 4  0.04887647 0.5833880         \n",
       "5 5  0.04496777 0.6283558         \n",
       "6 6  0.04463307 0.6729889         "
      ]
     },
     "metadata": {},
     "output_type": "display_data"
    }
   ],
   "source": [
    "# Compute proportion of variance explained\n",
    "pca_var <- pca_model$sdev^2\n",
    "pca_var_prop <- pca_var / sum(pca_var)\n",
    "\n",
    "# Create data frame for plotting\n",
    "pca_df <- data.frame(\n",
    "  PC = 1:length(pca_var_prop),\n",
    "  Variance = pca_var_prop,\n",
    "  CumulativeVariance = cumsum(pca_var_prop)\n",
    ")\n",
    "head(pca_df)"
   ]
  },
  {
   "cell_type": "code",
   "execution_count": 38,
   "id": "f0e4f4c7-516f-4335-8132-05a55fbb3b0b",
   "metadata": {},
   "outputs": [
    {
     "data": {
      "image/png": "[encoded data removed]",
      "text/plain": [
       "plot without title"
      ]
     },
     "metadata": {
      "image/png": {
       "height": 420,
       "width": 420
      }
     },
     "output_type": "display_data"
    }
   ],
   "source": [
    "\n",
    "# Plot proportion of variance and cumulative variance\n",
    "\n",
    "ggplot(pca_df, aes(x = PC, y = Variance)) +\n",
    "  geom_bar(stat = \"identity\", fill = \"steelblue\") +\n",
    "  geom_line(aes(y = CumulativeVariance), color = \"red\", linewidth = 1) +\n",
    "  geom_point(aes(y = CumulativeVariance), color = \"red\", size = 2) +\n",
    "  labs(title = \"PCA Explained Variance\",\n",
    "       x = \"Principal Component\",\n",
    "       y = \"Proportion of Variance / Cumulative Variance\") +\n",
    "  theme_minimal()\n",
    "\n"
   ]
  },
  {
   "cell_type": "markdown",
   "id": "f6192750-bda5-4ddc-90a6-2d1c0256e624",
   "metadata": {},
   "source": [
    "<p><b>Interpretation</b></p>\n",
    "\n",
    "- PC1 alone explains ~35% of the total variance.\n",
    "\n",
    "- The first ~5–10 PCs explain the majority (say ~80–95%) of the variance.\n",
    "\n",
    "- Beyond ~15 PCs, the curve flattens — meaning additional components add very little information (only noise-like variance)."
   ]
  },
  {
   "cell_type": "markdown",
   "id": "9350b61a-53a6-40a9-a906-68ae01a5c9ec",
   "metadata": {},
   "source": [
    "<h1> ML Model Training </h1>"
   ]
  },
  {
   "cell_type": "markdown",
   "id": "194330fc-bc4d-4966-92f4-7f42ecaec267",
   "metadata": {},
   "source": [
    "<h4> 5.1 Random Forest </h4>"
   ]
  },
  {
   "cell_type": "code",
   "execution_count": 12,
   "id": "a7bea95d-aefb-475f-b812-2bd470bcf11d",
   "metadata": {},
   "outputs": [
    {
     "data": {
      "text/html": [
       "'factor'"
      ],
      "text/latex": [
       "'factor'"
      ],
      "text/markdown": [
       "'factor'"
      ],
      "text/plain": [
       "[1] \"factor\""
      ]
     },
     "metadata": {},
     "output_type": "display_data"
    }
   ],
   "source": [
    "# Convert target to factor\n",
    "y_train <- as.factor(y_train)\n",
    "y_test  <- as.factor(y_test)\n",
    "\n",
    "# Check\n",
    "class(y_train)  # should now be \"factor\""
   ]
  },
  {
   "cell_type": "code",
   "execution_count": 13,
   "id": "6fa95ae4-48ce-454a-ab70-288103422f13",
   "metadata": {},
   "outputs": [
    {
     "name": "stdout",
     "output_type": "stream",
     "text": [
      "[1] \"\\nRandom Forest model created successfully\"\n"
     ]
    }
   ],
   "source": [
    "\n",
    "\n",
    "set.seed(123)\n",
    "rf_model <- randomForest(x = X_train, \n",
    "                         y = y_train,\n",
    "                         ntree = 500,\n",
    "                         importance = TRUE)\n",
    "\n",
    "print(\"\\nRandom Forest model created successfully\")"
   ]
  },
  {
   "cell_type": "markdown",
   "id": "f5687765-c639-4481-a6b4-19ace0a9917e",
   "metadata": {},
   "source": [
    "<h4> Extract Feature Importance </h4>\n",
    "\n",
    "\n",
    "\n",
    "\n",
    "\n"
   ]
  },
  {
   "cell_type": "code",
   "execution_count": 33,
   "id": "6353a075-6cac-42f7-be5f-1a5c42f5e773",
   "metadata": {},
   "outputs": [
    {
     "data": {
      "text/html": [
       "<table class=\"dataframe\">\n",
       "<caption>A data.frame: 6 × 2</caption>\n",
       "<thead>\n",
       "\t<tr><th></th><th scope=col>Feature</th><th scope=col>Importance</th></tr>\n",
       "\t<tr><th></th><th scope=col>&lt;chr&gt;</th><th scope=col>&lt;dbl&gt;</th></tr>\n",
       "</thead>\n",
       "<tbody>\n",
       "\t<tr><th scope=row>1</th><td>gender_Male                   </td><td>26.903035</td></tr>\n",
       "\t<tr><th scope=row>2</th><td>Partner_Yes                   </td><td>23.828473</td></tr>\n",
       "\t<tr><th scope=row>3</th><td>Dependents_Yes                </td><td>20.376687</td></tr>\n",
       "\t<tr><th scope=row>4</th><td>PhoneService_Yes              </td><td> 4.771049</td></tr>\n",
       "\t<tr><th scope=row>5</th><td>MultipleLines_No phone service</td><td> 4.682497</td></tr>\n",
       "\t<tr><th scope=row>6</th><td>MultipleLines_Yes             </td><td>20.818107</td></tr>\n",
       "</tbody>\n",
       "</table>\n"
      ],
      "text/latex": [
       "A data.frame: 6 × 2\n",
       "\\begin{tabular}{r|ll}\n",
       "  & Feature & Importance\\\\\n",
       "  & <chr> & <dbl>\\\\\n",
       "\\hline\n",
       "\t1 & gender\\_Male                    & 26.903035\\\\\n",
       "\t2 & Partner\\_Yes                    & 23.828473\\\\\n",
       "\t3 & Dependents\\_Yes                 & 20.376687\\\\\n",
       "\t4 & PhoneService\\_Yes               &  4.771049\\\\\n",
       "\t5 & MultipleLines\\_No phone service &  4.682497\\\\\n",
       "\t6 & MultipleLines\\_Yes              & 20.818107\\\\\n",
       "\\end{tabular}\n"
      ],
      "text/markdown": [
       "\n",
       "A data.frame: 6 × 2\n",
       "\n",
       "| <!--/--> | Feature &lt;chr&gt; | Importance &lt;dbl&gt; |\n",
       "|---|---|---|\n",
       "| 1 | gender_Male                    | 26.903035 |\n",
       "| 2 | Partner_Yes                    | 23.828473 |\n",
       "| 3 | Dependents_Yes                 | 20.376687 |\n",
       "| 4 | PhoneService_Yes               |  4.771049 |\n",
       "| 5 | MultipleLines_No phone service |  4.682497 |\n",
       "| 6 | MultipleLines_Yes              | 20.818107 |\n",
       "\n"
      ],
      "text/plain": [
       "  Feature                        Importance\n",
       "1 gender_Male                    26.903035 \n",
       "2 Partner_Yes                    23.828473 \n",
       "3 Dependents_Yes                 20.376687 \n",
       "4 PhoneService_Yes                4.771049 \n",
       "5 MultipleLines_No phone service  4.682497 \n",
       "6 MultipleLines_Yes              20.818107 "
      ]
     },
     "metadata": {},
     "output_type": "display_data"
    }
   ],
   "source": [
    "# Get importance (MeanDecreaseGini is common for classification)\n",
    "importance_values <- importance(rf_model)[, \"MeanDecreaseGini\"]\n",
    "\n",
    "# Put into dataframe\n",
    "importance_df <- data.frame(\n",
    "  Feature = names(importance_values),\n",
    "  Importance = importance_values,\n",
    "  row.names = NULL\n",
    ")\n",
    "\n",
    "head(importance_df)\n"
   ]
  },
  {
   "cell_type": "markdown",
   "id": "ec3cc88f-b47d-4655-b71f-9d74b419f27f",
   "metadata": {},
   "source": [
    "<p> --- These feature importance are for the feature generated by one hot encoding therefore we will aggregate them back to the original features. --- </p>"
   ]
  },
  {
   "cell_type": "markdown",
   "id": "29fd6642-a0e4-404b-9ff8-117bea6ebf73",
   "metadata": {},
   "source": [
    "<h4> Aggregate importance to original categorical variables </h4>"
   ]
  },
  {
   "cell_type": "code",
   "execution_count": 39,
   "id": "c9ee2093-605c-4e92-9142-03986911dfc9",
   "metadata": {},
   "outputs": [
    {
     "data": {
      "text/html": [
       "<table class=\"dataframe\">\n",
       "<caption>A data.frame: 18 × 3</caption>\n",
       "<thead>\n",
       "\t<tr><th scope=col>Rank</th><th scope=col>BaseFeature</th><th scope=col>Importance</th></tr>\n",
       "\t<tr><th scope=col>&lt;int&gt;</th><th scope=col>&lt;chr&gt;</th><th scope=col>&lt;dbl&gt;</th></tr>\n",
       "</thead>\n",
       "<tbody>\n",
       "\t<tr><td> 1</td><td>TotalCharges    </td><td>310.813651</td></tr>\n",
       "\t<tr><td> 2</td><td>MonthlyCharges  </td><td>194.170503</td></tr>\n",
       "\t<tr><td> 3</td><td>Contract        </td><td>161.989909</td></tr>\n",
       "\t<tr><td> 4</td><td>PaymentMethod   </td><td>152.978651</td></tr>\n",
       "\t<tr><td> 5</td><td>InternetService </td><td>120.764691</td></tr>\n",
       "\t<tr><td> 6</td><td>OnlineSecurity  </td><td> 75.087899</td></tr>\n",
       "\t<tr><td> 7</td><td>TechSupport     </td><td> 70.805285</td></tr>\n",
       "\t<tr><td> 8</td><td>OnlineBackup    </td><td> 59.773283</td></tr>\n",
       "\t<tr><td> 9</td><td>gender          </td><td> 54.907800</td></tr>\n",
       "\t<tr><td>10</td><td>PaperlessBilling</td><td> 52.932780</td></tr>\n",
       "\t<tr><td>11</td><td>DeviceProtection</td><td> 52.020935</td></tr>\n",
       "\t<tr><td>12</td><td>MultipleLines   </td><td> 51.772571</td></tr>\n",
       "\t<tr><td>13</td><td>StreamingMovies </td><td> 51.311283</td></tr>\n",
       "\t<tr><td>14</td><td>Partner         </td><td> 47.631412</td></tr>\n",
       "\t<tr><td>15</td><td>StreamingTV     </td><td> 47.373152</td></tr>\n",
       "\t<tr><td>16</td><td>Dependents      </td><td> 42.161997</td></tr>\n",
       "\t<tr><td>17</td><td>SeniorCitizen   </td><td> 29.261206</td></tr>\n",
       "\t<tr><td>18</td><td>PhoneService    </td><td>  9.354622</td></tr>\n",
       "</tbody>\n",
       "</table>\n"
      ],
      "text/latex": [
       "A data.frame: 18 × 3\n",
       "\\begin{tabular}{lll}\n",
       " Rank & BaseFeature & Importance\\\\\n",
       " <int> & <chr> & <dbl>\\\\\n",
       "\\hline\n",
       "\t  1 & TotalCharges     & 310.813651\\\\\n",
       "\t  2 & MonthlyCharges   & 194.170503\\\\\n",
       "\t  3 & Contract         & 161.989909\\\\\n",
       "\t  4 & PaymentMethod    & 152.978651\\\\\n",
       "\t  5 & InternetService  & 120.764691\\\\\n",
       "\t  6 & OnlineSecurity   &  75.087899\\\\\n",
       "\t  7 & TechSupport      &  70.805285\\\\\n",
       "\t  8 & OnlineBackup     &  59.773283\\\\\n",
       "\t  9 & gender           &  54.907800\\\\\n",
       "\t 10 & PaperlessBilling &  52.932780\\\\\n",
       "\t 11 & DeviceProtection &  52.020935\\\\\n",
       "\t 12 & MultipleLines    &  51.772571\\\\\n",
       "\t 13 & StreamingMovies  &  51.311283\\\\\n",
       "\t 14 & Partner          &  47.631412\\\\\n",
       "\t 15 & StreamingTV      &  47.373152\\\\\n",
       "\t 16 & Dependents       &  42.161997\\\\\n",
       "\t 17 & SeniorCitizen    &  29.261206\\\\\n",
       "\t 18 & PhoneService     &   9.354622\\\\\n",
       "\\end{tabular}\n"
      ],
      "text/markdown": [
       "\n",
       "A data.frame: 18 × 3\n",
       "\n",
       "| Rank &lt;int&gt; | BaseFeature &lt;chr&gt; | Importance &lt;dbl&gt; |\n",
       "|---|---|---|\n",
       "|  1 | TotalCharges     | 310.813651 |\n",
       "|  2 | MonthlyCharges   | 194.170503 |\n",
       "|  3 | Contract         | 161.989909 |\n",
       "|  4 | PaymentMethod    | 152.978651 |\n",
       "|  5 | InternetService  | 120.764691 |\n",
       "|  6 | OnlineSecurity   |  75.087899 |\n",
       "|  7 | TechSupport      |  70.805285 |\n",
       "|  8 | OnlineBackup     |  59.773283 |\n",
       "|  9 | gender           |  54.907800 |\n",
       "| 10 | PaperlessBilling |  52.932780 |\n",
       "| 11 | DeviceProtection |  52.020935 |\n",
       "| 12 | MultipleLines    |  51.772571 |\n",
       "| 13 | StreamingMovies  |  51.311283 |\n",
       "| 14 | Partner          |  47.631412 |\n",
       "| 15 | StreamingTV      |  47.373152 |\n",
       "| 16 | Dependents       |  42.161997 |\n",
       "| 17 | SeniorCitizen    |  29.261206 |\n",
       "| 18 | PhoneService     |   9.354622 |\n",
       "\n"
      ],
      "text/plain": [
       "   Rank BaseFeature      Importance\n",
       "1   1   TotalCharges     310.813651\n",
       "2   2   MonthlyCharges   194.170503\n",
       "3   3   Contract         161.989909\n",
       "4   4   PaymentMethod    152.978651\n",
       "5   5   InternetService  120.764691\n",
       "6   6   OnlineSecurity    75.087899\n",
       "7   7   TechSupport       70.805285\n",
       "8   8   OnlineBackup      59.773283\n",
       "9   9   gender            54.907800\n",
       "10 10   PaperlessBilling  52.932780\n",
       "11 11   DeviceProtection  52.020935\n",
       "12 12   MultipleLines     51.772571\n",
       "13 13   StreamingMovies   51.311283\n",
       "14 14   Partner           47.631412\n",
       "15 15   StreamingTV       47.373152\n",
       "16 16   Dependents        42.161997\n",
       "17 17   SeniorCitizen     29.261206\n",
       "18 18   PhoneService       9.354622"
      ]
     },
     "metadata": {},
     "output_type": "display_data"
    }
   ],
   "source": [
    "# Map dummy columns back to original feature\n",
    "importance_df$BaseFeature <- sub(\"_.*\", \"\", importance_df$Feature)\n",
    "\n",
    "# Aggregate importance by original feature\n",
    "agg_importance <- aggregate(Importance ~ BaseFeature, \n",
    "                            data = importance_df, sum)\n",
    "\n",
    "# Sort descending\n",
    "agg_importance <- agg_importance[order(-agg_importance$Importance), ]\n",
    "\n",
    "# Reset row names\n",
    "row.names(agg_importance) <- NULL\n",
    "\n",
    "# Add rank column\n",
    "agg_importance$Rank <- seq_len(nrow(agg_importance))\n",
    "\n",
    "# Move Rank column to be first\n",
    "agg_importance <- agg_importance[, c(\"Rank\", \"BaseFeature\", \"Importance\")]\n",
    "\n",
    "# Display\n",
    "agg_importance\n"
   ]
  },
  {
   "cell_type": "markdown",
   "id": "aeb979ea-147a-46fb-b490-2c0e66fc2718",
   "metadata": {},
   "source": [
    "<h4> Visualize </h4>"
   ]
  },
  {
   "cell_type": "code",
   "execution_count": 44,
   "id": "ba195953-91f5-47d2-af29-508271b134c1",
   "metadata": {},
   "outputs": [
    {
     "data": {
      "image/png": "[encoded data removed]",
      "text/plain": [
       "plot without title"
      ]
     },
     "metadata": {
      "image/png": {
       "height": 420,
       "width": 420
      }
     },
     "output_type": "display_data"
    }
   ],
   "source": [
    "ggplot(agg_importance, aes(x = reorder(BaseFeature, Importance), \n",
    "                           y = Importance, fill = BaseFeature)) +\n",
    "  geom_bar(stat = \"identity\") +\n",
    "  coord_flip() +\n",
    "  labs(title = \"Random Forest Feature Importance (Aggregated)\",\n",
    "       x = \"Feature\",\n",
    "       y = \"Importance\") +\n",
    "  theme_minimal() +\n",
    "  theme(legend.position = \"none\")\n",
    "\n"
   ]
  },
  {
   "cell_type": "markdown",
   "id": "9efd6e37-7471-4b42-b03b-b91c55de16f0",
   "metadata": {},
   "source": [
    "<h4> Random Forest Model Evaluation </h4>"
   ]
  },
  {
   "cell_type": "code",
   "execution_count": 15,
   "id": "1771e553-ed2e-4a84-aeef-a0e247d3face",
   "metadata": {},
   "outputs": [
    {
     "name": "stdout",
     "output_type": "stream",
     "text": [
      "[1] \"Finished predicting\"\n"
     ]
    }
   ],
   "source": [
    "# Predictions on test set\n",
    "rf_pred <- predict(rf_model, X_test)\n",
    "print('Finished predicting')"
   ]
  },
  {
   "cell_type": "markdown",
   "id": "b847865c-4172-4b66-8e2a-b27ad2b40562",
   "metadata": {},
   "source": [
    "<h4> Confusion Matrix </h4>"
   ]
  },
  {
   "cell_type": "code",
   "execution_count": 20,
   "id": "8d6a7061-ea6e-42b0-bcbb-4b01c1cdbb8d",
   "metadata": {},
   "outputs": [
    {
     "data": {
      "image/png": "[encoded data removed]",
      "text/plain": [
       "plot without title"
      ]
     },
     "metadata": {
      "image/png": {
       "height": 420,
       "width": 420
      }
     },
     "output_type": "display_data"
    }
   ],
   "source": [
    "library(ggplot2)\n",
    "library(caret)\n",
    "library(reshape2)\n",
    "\n",
    "# Confusion matrix object\n",
    "cm <- confusionMatrix(rf_pred, as.factor(y_test), positive = \"Yes\")  # replace \"Yes\" with your positive class\n",
    "\n",
    "# Convert to data frame for ggplot\n",
    "cm_table <- as.data.frame(cm$table)\n",
    "colnames(cm_table) <- c(\"Prediction\", \"Reference\", \"Freq\")\n",
    "\n",
    "# Plot\n",
    "ggplot(cm_table, aes(x = Reference, y = Prediction, fill = Freq)) +\n",
    "  geom_tile(color = \"white\") +\n",
    "  geom_text(aes(label = Freq), vjust = 1) +\n",
    "  scale_fill_gradient(low = \"green\", high = \"steelblue\") +\n",
    "  labs(title = \"Confusion Matrix - Random Forest\") +\n",
    "  theme_minimal()\n"
   ]
  },
  {
   "cell_type": "markdown",
   "id": "969c166e-c2a7-4bc5-bd99-59ece0da7723",
   "metadata": {},
   "source": [
    "<h4> Accuracy & Recall </h4>"
   ]
  },
  {
   "cell_type": "code",
   "execution_count": 21,
   "id": "ebff40cb-1a76-48ce-bc96-5d1aeafc273e",
   "metadata": {},
   "outputs": [
    {
     "data": {
      "text/html": [
       "<strong>Accuracy:</strong> 0.784244144783534"
      ],
      "text/latex": [
       "\\textbf{Accuracy:} 0.784244144783534"
      ],
      "text/markdown": [
       "**Accuracy:** 0.784244144783534"
      ],
      "text/plain": [
       " Accuracy \n",
       "0.7842441 "
      ]
     },
     "metadata": {},
     "output_type": "display_data"
    },
    {
     "data": {
      "text/html": [
       "<strong>Recall:</strong> 0.5"
      ],
      "text/latex": [
       "\\textbf{Recall:} 0.5"
      ],
      "text/markdown": [
       "**Recall:** 0.5"
      ],
      "text/plain": [
       "Recall \n",
       "   0.5 "
      ]
     },
     "metadata": {},
     "output_type": "display_data"
    }
   ],
   "source": [
    "\n",
    "# Extract metrics\n",
    "accuracy <- cm$overall[\"Accuracy\"]\n",
    "recall <- cm$byClass[\"Recall\"]\n",
    "\n",
    "accuracy\n",
    "recall"
   ]
  },
  {
   "cell_type": "markdown",
   "id": "51255eb1-d7a1-4b43-9e66-ef05fa62eb31",
   "metadata": {},
   "source": [
    "<h4> ROC-AUC </h4>"
   ]
  },
  {
   "cell_type": "code",
   "execution_count": 22,
   "id": "de3c1266-01fc-451d-8a03-fca28070f347",
   "metadata": {},
   "outputs": [
    {
     "name": "stderr",
     "output_type": "stream",
     "text": [
      "Setting levels: control = No, case = Yes\n",
      "\n",
      "Setting direction: controls < cases\n",
      "\n"
     ]
    },
    {
     "data": {
      "text/html": [
       "0.822177013097729"
      ],
      "text/latex": [
       "0.822177013097729"
      ],
      "text/markdown": [
       "0.822177013097729"
      ],
      "text/plain": [
       "Area under the curve: 0.8222"
      ]
     },
     "metadata": {},
     "output_type": "display_data"
    },
    {
     "data": {
      "image/png": "[encoded data removed]",
      "text/plain": [
       "Plot with title \"ROC Curve - Random Forest\""
      ]
     },
     "metadata": {
      "image/png": {
       "height": 420,
       "width": 420
      }
     },
     "output_type": "display_data"
    }
   ],
   "source": [
    "# Get predicted probabilities\n",
    "rf_prob <- predict(rf_model, X_test, type = \"prob\")[,2]\n",
    "\n",
    "# ROC Curve\n",
    "roc_obj <- roc(as.factor(y_test), rf_prob)\n",
    "auc_value <- auc(roc_obj)\n",
    "\n",
    "plot(roc_obj, col = \"blue\", lwd = 2, main = \"ROC Curve - Random Forest\")\n",
    "legend(\"bottomright\", legend = paste(\"AUC =\", round(auc_value, 3)), col = \"blue\", lwd = 2)\n",
    "\n",
    "auc_value\n"
   ]
  },
  {
   "cell_type": "markdown",
   "id": "e0e2cf18-b104-480f-bb39-94fc9506851b",
   "metadata": {},
   "source": [
    "<h4> Stratified k-Fold Cross Validation </h4>"
   ]
  },
  {
   "cell_type": "code",
   "execution_count": 23,
   "id": "dc4f9b74-b08b-44fc-a9a5-9dacb5fca9d2",
   "metadata": {},
   "outputs": [
    {
     "data": {
      "text/plain": [
       "Random Forest \n",
       "\n",
       "5634 samples\n",
       "  55 predictor\n",
       "   2 classes: 'No', 'Yes' \n",
       "\n",
       "No pre-processing\n",
       "Resampling: Cross-Validated (5 fold) \n",
       "Summary of sample sizes: 4507, 4507, 4507, 4508, 4507 \n",
       "Resampling results across tuning parameters:\n",
       "\n",
       "  mtry  ROC        Sens       Spec     \n",
       "   2    0.8257284  0.9649691  0.2602007\n",
       "  28    0.8234599  0.8878947  0.5090301\n",
       "  55    0.8229706  0.8864442  0.5177258\n",
       "\n",
       "ROC was used to select the optimal model using the largest value.\n",
       "The final value used for the model was mtry = 2."
      ]
     },
     "metadata": {},
     "output_type": "display_data"
    }
   ],
   "source": [
    "set.seed(123)\n",
    "\n",
    "ctrl <- trainControl(method = \"cv\", \n",
    "                     number = 5, \n",
    "                     classProbs = TRUE, \n",
    "                     summaryFunction = twoClassSummary)\n",
    "\n",
    "cv_model <- train(x = X_train, y = as.factor(y_train),\n",
    "                  method = \"rf\",\n",
    "                  trControl = ctrl,\n",
    "                  metric = \"ROC\")\n",
    "\n",
    "cv_model\n"
   ]
  },
  {
   "cell_type": "markdown",
   "id": "7aaeccb5-78cf-4d61-9a58-6fbe1e907bfb",
   "metadata": {},
   "source": [
    "<h4> Make predictions with the best model from crossvalidation </h4>"
   ]
  },
  {
   "cell_type": "code",
   "execution_count": 25,
   "id": "cc5d68e8-01ff-491c-a1ed-272cc0f72d04",
   "metadata": {},
   "outputs": [],
   "source": [
    "# Predict classes for the test set\n",
    "pred_classes <- predict(cv_model, newdata = X_test)\n"
   ]
  },
  {
   "cell_type": "code",
   "execution_count": 37,
   "id": "fa038b4a-2f4e-403d-9369-0e60f3b4ee47",
   "metadata": {},
   "outputs": [],
   "source": [
    "# Predict probabilities for the positive class\n",
    "pred_probs <- predict(cv_model, newdata = X_test, type = \"prob\")\n",
    "pred_probs <- as.numeric(pred_probs[, \"Yes\"])"
   ]
  },
  {
   "cell_type": "code",
   "execution_count": 29,
   "id": "ebde3136-69a6-4031-8fc0-920a824ec0f7",
   "metadata": {},
   "outputs": [
    {
     "data": {
      "text/plain": [
       "Confusion Matrix and Statistics\n",
       "\n",
       "          Reference\n",
       "Prediction  No Yes\n",
       "       No  997 304\n",
       "       Yes  38  70\n",
       "                                         \n",
       "               Accuracy : 0.7573         \n",
       "                 95% CI : (0.734, 0.7795)\n",
       "    No Information Rate : 0.7346         \n",
       "    P-Value [Acc > NIR] : 0.02785        \n",
       "                                         \n",
       "                  Kappa : 0.1947         \n",
       "                                         \n",
       " Mcnemar's Test P-Value : < 2e-16        \n",
       "                                         \n",
       "            Sensitivity : 0.9633         \n",
       "            Specificity : 0.1872         \n",
       "         Pos Pred Value : 0.7663         \n",
       "         Neg Pred Value : 0.6481         \n",
       "             Prevalence : 0.7346         \n",
       "         Detection Rate : 0.7076         \n",
       "   Detection Prevalence : 0.9233         \n",
       "      Balanced Accuracy : 0.5752         \n",
       "                                         \n",
       "       'Positive' Class : No             \n",
       "                                         "
      ]
     },
     "metadata": {},
     "output_type": "display_data"
    }
   ],
   "source": [
    "#Confusion matrix\n",
    "confusionMatrix(pred_classes, as.factor(y_test))"
   ]
  },
  {
   "cell_type": "markdown",
   "id": "c08973e8-5c52-42b3-aa4e-ef586151010c",
   "metadata": {},
   "source": [
    "<h4> Evaluation Metrics </h4>"
   ]
  },
  {
   "cell_type": "code",
   "execution_count": 38,
   "id": "f425e097-48a6-4f9a-92d3-db01c8c115ee",
   "metadata": {},
   "outputs": [
    {
     "name": "stdout",
     "output_type": "stream",
     "text": [
      "[1] \"Accuracy: 0.7573\"\n",
      "[1] \"Recall: 0.9633\"\n"
     ]
    },
    {
     "name": "stderr",
     "output_type": "stream",
     "text": [
      "Setting direction: controls > cases\n",
      "\n"
     ]
    },
    {
     "name": "stdout",
     "output_type": "stream",
     "text": [
      "[1] \"ROC-AUC: 0.8099\"\n"
     ]
    }
   ],
   "source": [
    "# Accuracy\n",
    "acc <- mean(pred_classes == y_test)\n",
    "print(paste(\"Accuracy:\", round(acc, 4)))\n",
    "\n",
    "# Recall (Sensitivity)\n",
    "cm <- confusionMatrix(pred_classes, as.factor(y_test))\n",
    "recall <- cm$byClass[\"Sensitivity\"]\n",
    "print(paste(\"Recall:\", round(recall, 4)))\n",
    "\n",
    "# ROC-AUC\n",
    "roc_obj <- roc(as.factor(y_test), pred_probs, levels = rev(levels(as.factor(y_test))))\n",
    "auc_value <- auc(roc_obj)\n",
    "print(paste(\"ROC-AUC:\", round(auc_value, 4)))"
   ]
  },
  {
   "cell_type": "markdown",
   "id": "063186db-071d-4f0a-aa7d-c16290c787a0",
   "metadata": {},
   "source": [
    "<p> *** crossvalidation slightl decreased accuracy and ROC-AUC but recall increased from 50% to 96% which is a good thing for our model ***</p>"
   ]
  },
  {
   "cell_type": "markdown",
   "id": "e9214ade-6dae-4ba1-8116-8cc57828ac66",
   "metadata": {},
   "source": [
    "<h2> Decision Tree Training </h2>"
   ]
  },
  {
   "cell_type": "code",
   "execution_count": 76,
   "id": "466696c8-248c-4e6b-9baa-26ad482c1122",
   "metadata": {},
   "outputs": [
    {
     "data": {
      "image/png": "[encoded data removed]",
      "text/plain": [
       "Plot with title \"Decision Tree - Customer Churn\""
      ]
     },
     "metadata": {
      "image/png": {
       "height": 420,
       "width": 420
      }
     },
     "output_type": "display_data"
    }
   ],
   "source": [
    "library(rpart)\n",
    "library(rpart.plot)\n",
    "\n",
    "# Train decision tree\n",
    "dt_model <- rpart(y_train ~ ., data = X_train, method = \"class\")\n",
    "\n",
    "# Print summary\n",
    "#printcp(dt_model)   # complexity parameter table\n",
    "#summary(dt_model)\n",
    "\n",
    "# Visualize the decision tree\n",
    "rpart.plot(dt_model, type = 2, extra = 104, fallen.leaves = TRUE,\n",
    "           main = \"Decision Tree - Customer Churn\")\n"
   ]
  },
  {
   "cell_type": "markdown",
   "id": "765867b3-aa69-4a27-84d8-eea463879fe0",
   "metadata": {},
   "source": [
    "<h4>Predictions & Confusion Matrix</h4>"
   ]
  },
  {
   "cell_type": "code",
   "execution_count": 73,
   "id": "f4984dca-09c9-4a2b-b301-0bb06e01d25e",
   "metadata": {},
   "outputs": [
    {
     "data": {
      "image/png": "[encoded data removed]",
      "text/plain": [
       "plot without title"
      ]
     },
     "metadata": {
      "image/png": {
       "height": 420,
       "width": 420
      }
     },
     "output_type": "display_data"
    }
   ],
   "source": [
    "# Predict on test set\n",
    "dt_pred <- predict(dt_model, newdata = X_test, type = \"class\")\n",
    "\n",
    "# Confusion matrix\n",
    "cm_dt <- confusionMatrix(dt_pred, as.factor(y_test), positive = \"Yes\") \n",
    "#print(cm_dt)\n",
    "# Convert to data frame for ggplot\n",
    "cm_table <- as.data.frame(cm$table)\n",
    "colnames(cm_table) <- c(\"Prediction\", \"Reference\", \"Freq\")\n",
    "\n",
    "# Plot\n",
    "ggplot(cm_table, aes(x = Reference, y = Prediction, fill = Freq)) +\n",
    "  geom_tile(color = \"white\") +\n",
    "  geom_text(aes(label = Freq), vjust = 1) +\n",
    "  scale_fill_gradient(low = \"yellow\", high = \"red\") +\n",
    "  labs(title = \"Confusion Matrix - Decision Tree\") +\n",
    "  theme_minimal()\n"
   ]
  },
  {
   "cell_type": "markdown",
   "id": "09ac3c4b-f566-4fab-95ec-76a4ff5572d3",
   "metadata": {},
   "source": [
    "<h4> Feature Importance </h4>"
   ]
  },
  {
   "cell_type": "code",
   "execution_count": 55,
   "id": "5cb55285-693e-4077-b3a9-51a018760247",
   "metadata": {},
   "outputs": [
    {
     "data": {
      "text/html": [
       "<table class=\"dataframe\">\n",
       "<caption>A data.frame: 9 × 2</caption>\n",
       "<thead>\n",
       "\t<tr><th></th><th scope=col>Feature</th><th scope=col>Importance</th></tr>\n",
       "\t<tr><th></th><th scope=col>&lt;chr&gt;</th><th scope=col>&lt;dbl&gt;</th></tr>\n",
       "</thead>\n",
       "<tbody>\n",
       "\t<tr><th scope=row>1</th><td>MonthlyCharges               </td><td>242.09795</td></tr>\n",
       "\t<tr><th scope=row>2</th><td>InternetService_Fiber optic  </td><td>221.27750</td></tr>\n",
       "\t<tr><th scope=row>3</th><td>InternetService_Fiber optic.1</td><td>221.27750</td></tr>\n",
       "\t<tr><th scope=row>4</th><td>TotalCharges                 </td><td>189.09132</td></tr>\n",
       "\t<tr><th scope=row>5</th><td>MultipleLines_Yes            </td><td> 91.77834</td></tr>\n",
       "\t<tr><th scope=row>6</th><td>MultipleLines_Yes.1          </td><td> 91.77834</td></tr>\n",
       "\t<tr><th scope=row>7</th><td>StreamingTV_Yes              </td><td> 59.33449</td></tr>\n",
       "\t<tr><th scope=row>8</th><td>StreamingMovies_Yes          </td><td> 17.11514</td></tr>\n",
       "\t<tr><th scope=row>9</th><td>StreamingMovies_Yes.1        </td><td> 17.11514</td></tr>\n",
       "</tbody>\n",
       "</table>\n"
      ],
      "text/latex": [
       "A data.frame: 9 × 2\n",
       "\\begin{tabular}{r|ll}\n",
       "  & Feature & Importance\\\\\n",
       "  & <chr> & <dbl>\\\\\n",
       "\\hline\n",
       "\t1 & MonthlyCharges                & 242.09795\\\\\n",
       "\t2 & InternetService\\_Fiber optic   & 221.27750\\\\\n",
       "\t3 & InternetService\\_Fiber optic.1 & 221.27750\\\\\n",
       "\t4 & TotalCharges                  & 189.09132\\\\\n",
       "\t5 & MultipleLines\\_Yes             &  91.77834\\\\\n",
       "\t6 & MultipleLines\\_Yes.1           &  91.77834\\\\\n",
       "\t7 & StreamingTV\\_Yes               &  59.33449\\\\\n",
       "\t8 & StreamingMovies\\_Yes           &  17.11514\\\\\n",
       "\t9 & StreamingMovies\\_Yes.1         &  17.11514\\\\\n",
       "\\end{tabular}\n"
      ],
      "text/markdown": [
       "\n",
       "A data.frame: 9 × 2\n",
       "\n",
       "| <!--/--> | Feature &lt;chr&gt; | Importance &lt;dbl&gt; |\n",
       "|---|---|---|\n",
       "| 1 | MonthlyCharges                | 242.09795 |\n",
       "| 2 | InternetService_Fiber optic   | 221.27750 |\n",
       "| 3 | InternetService_Fiber optic.1 | 221.27750 |\n",
       "| 4 | TotalCharges                  | 189.09132 |\n",
       "| 5 | MultipleLines_Yes             |  91.77834 |\n",
       "| 6 | MultipleLines_Yes.1           |  91.77834 |\n",
       "| 7 | StreamingTV_Yes               |  59.33449 |\n",
       "| 8 | StreamingMovies_Yes           |  17.11514 |\n",
       "| 9 | StreamingMovies_Yes.1         |  17.11514 |\n",
       "\n"
      ],
      "text/plain": [
       "  Feature                       Importance\n",
       "1 MonthlyCharges                242.09795 \n",
       "2 InternetService_Fiber optic   221.27750 \n",
       "3 InternetService_Fiber optic.1 221.27750 \n",
       "4 TotalCharges                  189.09132 \n",
       "5 MultipleLines_Yes              91.77834 \n",
       "6 MultipleLines_Yes.1            91.77834 \n",
       "7 StreamingTV_Yes                59.33449 \n",
       "8 StreamingMovies_Yes            17.11514 \n",
       "9 StreamingMovies_Yes.1          17.11514 "
      ]
     },
     "metadata": {},
     "output_type": "display_data"
    }
   ],
   "source": [
    "# Variable importance\n",
    "# Variable importance\n",
    "dt_importance <- dt_model$variable.importance\n",
    "\n",
    "# Convert to data frame\n",
    "dt_importance_df <- data.frame(\n",
    "  Feature = names(dt_importance),\n",
    "  Importance = as.numeric(dt_importance)\n",
    ")\n",
    "\n",
    "# Sort in descending order\n",
    "dt_importance_df <- dt_importance_df[order(-dt_importance_df$Importance), ]\n",
    "\n",
    "# Display\n",
    "dt_importance_df\n",
    "\n"
   ]
  },
  {
   "cell_type": "markdown",
   "id": "768227f5-d140-4d85-beb9-29796f472c8a",
   "metadata": {},
   "source": [
    "<h4> Aggregate feature importance to original features </h4>"
   ]
  },
  {
   "cell_type": "code",
   "execution_count": 59,
   "id": "6ef39b27-7294-4558-b98a-5b9a5ce92ebf",
   "metadata": {},
   "outputs": [
    {
     "data": {
      "text/html": [
       "<table class=\"dataframe\">\n",
       "<caption>A data.frame: 6 × 3</caption>\n",
       "<thead>\n",
       "\t<tr><th></th><th scope=col>Rank</th><th scope=col>BaseFeature</th><th scope=col>Importance</th></tr>\n",
       "\t<tr><th></th><th scope=col>&lt;int&gt;</th><th scope=col>&lt;chr&gt;</th><th scope=col>&lt;dbl&gt;</th></tr>\n",
       "</thead>\n",
       "<tbody>\n",
       "\t<tr><th scope=row>1</th><td>1</td><td>InternetService</td><td>442.55500</td></tr>\n",
       "\t<tr><th scope=row>2</th><td>2</td><td>MonthlyCharges </td><td>242.09795</td></tr>\n",
       "\t<tr><th scope=row>6</th><td>3</td><td>TotalCharges   </td><td>189.09132</td></tr>\n",
       "\t<tr><th scope=row>3</th><td>4</td><td>MultipleLines  </td><td>183.55668</td></tr>\n",
       "\t<tr><th scope=row>5</th><td>5</td><td>StreamingTV    </td><td> 59.33449</td></tr>\n",
       "\t<tr><th scope=row>4</th><td>6</td><td>StreamingMovies</td><td> 34.23027</td></tr>\n",
       "</tbody>\n",
       "</table>\n"
      ],
      "text/latex": [
       "A data.frame: 6 × 3\n",
       "\\begin{tabular}{r|lll}\n",
       "  & Rank & BaseFeature & Importance\\\\\n",
       "  & <int> & <chr> & <dbl>\\\\\n",
       "\\hline\n",
       "\t1 & 1 & InternetService & 442.55500\\\\\n",
       "\t2 & 2 & MonthlyCharges  & 242.09795\\\\\n",
       "\t6 & 3 & TotalCharges    & 189.09132\\\\\n",
       "\t3 & 4 & MultipleLines   & 183.55668\\\\\n",
       "\t5 & 5 & StreamingTV     &  59.33449\\\\\n",
       "\t4 & 6 & StreamingMovies &  34.23027\\\\\n",
       "\\end{tabular}\n"
      ],
      "text/markdown": [
       "\n",
       "A data.frame: 6 × 3\n",
       "\n",
       "| <!--/--> | Rank &lt;int&gt; | BaseFeature &lt;chr&gt; | Importance &lt;dbl&gt; |\n",
       "|---|---|---|---|\n",
       "| 1 | 1 | InternetService | 442.55500 |\n",
       "| 2 | 2 | MonthlyCharges  | 242.09795 |\n",
       "| 6 | 3 | TotalCharges    | 189.09132 |\n",
       "| 3 | 4 | MultipleLines   | 183.55668 |\n",
       "| 5 | 5 | StreamingTV     |  59.33449 |\n",
       "| 4 | 6 | StreamingMovies |  34.23027 |\n",
       "\n"
      ],
      "text/plain": [
       "  Rank BaseFeature     Importance\n",
       "1 1    InternetService 442.55500 \n",
       "2 2    MonthlyCharges  242.09795 \n",
       "6 3    TotalCharges    189.09132 \n",
       "3 4    MultipleLines   183.55668 \n",
       "5 5    StreamingTV      59.33449 \n",
       "4 6    StreamingMovies  34.23027 "
      ]
     },
     "metadata": {},
     "output_type": "display_data"
    }
   ],
   "source": [
    "# Variable importance from decision tree\n",
    "dt_importance <- dt_model$variable.importance\n",
    "\n",
    "# Convert to data frame\n",
    "dt_importance_df <- data.frame(\n",
    "  Feature = names(dt_importance),\n",
    "  Importance = as.numeric(dt_importance),\n",
    "  stringsAsFactors = FALSE\n",
    ")\n",
    "\n",
    "# Extract base feature name (everything before \"_\")\n",
    "dt_importance_df$BaseFeature <- sub(\"_.*\", \"\", dt_importance_df$Feature)\n",
    "\n",
    "# Aggregate importance by base feature\n",
    "agg_importance_dt <- aggregate(Importance ~ BaseFeature, \n",
    "                               data = dt_importance_df, \n",
    "                               sum)\n",
    "\n",
    "# Sort descending\n",
    "agg_importance_dt <- agg_importance_dt[order(-agg_importance_dt$Importance), ]\n",
    "\n",
    "# Add rank\n",
    "agg_importance_dt$Rank <- seq_len(nrow(agg_importance_dt))\n",
    "\n",
    "# Reorder columns (Rank first)\n",
    "agg_importance_dt <- agg_importance_dt[, c(\"Rank\", \"BaseFeature\", \"Importance\")]\n",
    "\n",
    "# Display\n",
    "agg_importance_dt\n"
   ]
  },
  {
   "cell_type": "markdown",
   "id": "f7001980-8e93-423c-90af-51b58724c0ce",
   "metadata": {},
   "source": [
    "<h4> Extract Accuracy, Recall and ROC-AUC </h4>"
   ]
  },
  {
   "cell_type": "code",
   "execution_count": 62,
   "id": "d263bfa1-52c1-4e15-b3ae-948a152ee9bf",
   "metadata": {},
   "outputs": [
    {
     "name": "stderr",
     "output_type": "stream",
     "text": [
      "Setting levels: control = No, case = Yes\n",
      "\n",
      "Setting direction: controls < cases\n",
      "\n"
     ]
    },
    {
     "name": "stdout",
     "output_type": "stream",
     "text": [
      "[1] \"Accuracy: 0.7814\"\n",
      "[1] \"Recall: 0.3877\"\n",
      "[1] \"ROC-AUC: 0.6959\"\n"
     ]
    }
   ],
   "source": [
    "library(caret)\n",
    "library(pROC)\n",
    "\n",
    "\n",
    "# Accuracy\n",
    "accuracy <- cm_dt$overall[\"Accuracy\"]\n",
    "\n",
    "# Recall (Sensitivity in caret's output)\n",
    "recall <- cm_dt$byClass[\"Sensitivity\"]\n",
    "\n",
    "# Get predicted probabilities for ROC\n",
    "dt_prob <- predict(dt_model, newdata = X_test, type = \"prob\")[, \"Yes\"]\n",
    "\n",
    "# ROC-AUC\n",
    "roc_dt <- roc(as.factor(y_test), dt_prob)\n",
    "auc_value <- auc(roc_dt)\n",
    "\n",
    "# Print metrics\n",
    "print(paste(\"Accuracy:\", round(accuracy, 4)))\n",
    "print(paste(\"Recall:\", round(recall, 4)))\n",
    "print(paste(\"ROC-AUC:\", round(auc_value, 4)))\n"
   ]
  },
  {
   "cell_type": "markdown",
   "id": "31e74999-53b3-409b-a1a3-fe65d8dbdff2",
   "metadata": {},
   "source": [
    "<p> *** Accuracy is fair but Recall and ROC-AUC are very low *** </p>\n",
    "<b>Let us apply crossvalidation to see whether it will improve the model performance.</b>"
   ]
  },
  {
   "cell_type": "code",
   "execution_count": 77,
   "id": "781d350c-54f7-4ecd-bf6e-75f5b97f3245",
   "metadata": {},
   "outputs": [
    {
     "name": "stderr",
     "output_type": "stream",
     "text": [
      "Setting levels: control = No, case = Yes\n",
      "\n",
      "Setting direction: controls < cases\n",
      "\n"
     ]
    },
    {
     "name": "stdout",
     "output_type": "stream",
     "text": [
      "[1] \"CV Accuracy: 0.79\"\n",
      "[1] \"CV Recall: 0.52\"\n",
      "[1] \"CV ROC-AUC: 0.8\"\n"
     ]
    }
   ],
   "source": [
    "library(caret)\n",
    "library(pROC)\n",
    "library(rpart)\n",
    "\n",
    "# Combine X_train and y_train into one dataframe\n",
    "train_data <- data.frame(X_train, Churn = as.factor(y_train))\n",
    "\n",
    "# Define stratified 5-fold CV\n",
    "train_control <- trainControl(\n",
    "  method = \"cv\",          # cross-validation\n",
    "  number = 5,             # number of folds\n",
    "  classProbs = TRUE,      # needed for ROC\n",
    "  summaryFunction = twoClassSummary, # compute ROC, Sensitivity, Specificity\n",
    "  savePredictions = \"final\"\n",
    ")\n",
    "\n",
    "# Train decision tree with CV\n",
    "dt_cv <- train(\n",
    "  Churn ~ ., \n",
    "  data = train_data, \n",
    "  method = \"rpart\",\n",
    "  trControl = train_control,\n",
    "  metric = \"ROC\"  # optimize based on ROC-AUC\n",
    ")\n",
    "\n",
    "\n",
    "# Extract predictions across folds\n",
    "cv_preds <- dt_cv$pred\n",
    "\n",
    "# Evaluation metrics\n",
    "accuracy <- mean(cv_preds$pred == cv_preds$obs)\n",
    "recall <- sensitivity(cv_preds$pred, cv_preds$obs, positive = \"Yes\")\n",
    "roc_obj <- roc(response = cv_preds$obs, predictor = cv_preds$Yes)\n",
    "auc_value <- auc(roc_obj)\n",
    "\n",
    "# Print results\n",
    "print(paste(\"CV Accuracy:\", round(accuracy, 2)))\n",
    "print(paste(\"CV Recall:\", round(recall, 2)))\n",
    "print(paste(\"CV ROC-AUC:\", round(auc_value, 2)))\n"
   ]
  },
  {
   "cell_type": "markdown",
   "id": "26cca65a-e15d-44f6-bf4c-ca0fcffa72d3",
   "metadata": {},
   "source": [
    "<p> *********************************<br>\n",
    "    - Accuracy is almost the same. <br>\n",
    "    - Recall is still low <br>\n",
    "    - ROC-AUC has greatly improved\n",
    "</p>"
   ]
  },
  {
   "cell_type": "markdown",
   "id": "1193427f-9d5c-4772-a85f-5a2325e6227d",
   "metadata": {},
   "source": [
    "<h2> Gradient Boosting (XGBoost) </h2>"
   ]
  },
  {
   "cell_type": "code",
   "execution_count": 21,
   "id": "4bd22b80-1e91-4f49-850b-aaf2b5325040",
   "metadata": {},
   "outputs": [
    {
     "name": "stderr",
     "output_type": "stream",
     "text": [
      "\n",
      "Attaching package: 'xgboost'\n",
      "\n",
      "\n",
      "The following object is masked from 'package:dplyr':\n",
      "\n",
      "    slice\n",
      "\n",
      "\n"
     ]
    },
    {
     "name": "stdout",
     "output_type": "stream",
     "text": [
      "[1] \"XGBoost model trained successfully\"\n"
     ]
    }
   ],
   "source": [
    "library(xgboost)\n",
    "library(caret)\n",
    "library(pROC)\n",
    "\n",
    "# Ensure target is numeric (0/1) for XGBoost\n",
    "y_train_num <- ifelse(y_train == \"Yes\", 1, 0)\n",
    "y_test_num  <- ifelse(y_test == \"Yes\", 1, 0)\n",
    "\n",
    "# Convert data to DMatrix (XGBoost’s efficient format)\n",
    "dtrain <- xgb.DMatrix(data = as.matrix(X_train), label = y_train_num)\n",
    "dtest  <- xgb.DMatrix(data = as.matrix(X_test), label = y_test_num)\n",
    "\n",
    "# Train XGBoost model\n",
    "xgb_model <- xgboost(\n",
    "  data = dtrain,\n",
    "  nrounds = 100,            # number of boosting rounds (can tune)\n",
    "  objective = \"binary:logistic\", # binary classification\n",
    "  eval_metric = \"auc\",      # monitor AUC during training\n",
    "  verbose = 0               # silence training output\n",
    ")\n",
    "\n",
    "print(\"XGBoost model trained successfully\")\n",
    "\n"
   ]
  },
  {
   "cell_type": "markdown",
   "id": "af90c604-1a86-4394-8658-24b1e9cf3bbd",
   "metadata": {},
   "source": [
    "<h4> Evaluation </h4>"
   ]
  },
  {
   "cell_type": "code",
   "execution_count": 23,
   "id": "17ce76c9-ecd6-444f-8658-3ca2fc90dcdf",
   "metadata": {},
   "outputs": [
    {
     "name": "stdout",
     "output_type": "stream",
     "text": [
      "Confusion Matrix and Statistics\n",
      "\n",
      "          Reference\n",
      "Prediction  No Yes\n",
      "       No  901 187\n",
      "       Yes 134 187\n",
      "                                          \n",
      "               Accuracy : 0.7722          \n",
      "                 95% CI : (0.7494, 0.7938)\n",
      "    No Information Rate : 0.7346          \n",
      "    P-Value [Acc > NIR] : 0.0006551       \n",
      "                                          \n",
      "                  Kappa : 0.3881          \n",
      "                                          \n",
      " Mcnemar's Test P-Value : 0.0037037       \n",
      "                                          \n",
      "            Sensitivity : 0.5000          \n",
      "            Specificity : 0.8705          \n",
      "         Pos Pred Value : 0.5826          \n",
      "         Neg Pred Value : 0.8281          \n",
      "             Prevalence : 0.2654          \n",
      "         Detection Rate : 0.1327          \n",
      "   Detection Prevalence : 0.2278          \n",
      "      Balanced Accuracy : 0.6853          \n",
      "                                          \n",
      "       'Positive' Class : Yes             \n",
      "                                          \n"
     ]
    },
    {
     "name": "stderr",
     "output_type": "stream",
     "text": [
      "Setting levels: control = No, case = Yes\n",
      "\n",
      "Setting direction: controls < cases\n",
      "\n"
     ]
    },
    {
     "name": "stdout",
     "output_type": "stream",
     "text": [
      "[1] \"Accuracy: 0.7722\"\n",
      "[1] \"Recall: 0.5\"\n",
      "[1] \"ROC-AUC: 0.8119\"\n"
     ]
    }
   ],
   "source": [
    "# ---- Evaluation ----\n",
    "\n",
    "# Predict probabilities\n",
    "xgb_prob <- predict(xgb_model, dtest)\n",
    "\n",
    "# Convert to class labels (Yes/No)\n",
    "xgb_pred <- ifelse(xgb_prob > 0.5, \"Yes\", \"No\")\n",
    "\n",
    "# Confusion Matrix\n",
    "cm_xgb <- confusionMatrix(as.factor(xgb_pred), as.factor(y_test), positive = \"Yes\")\n",
    "print(cm_xgb)\n",
    "\n",
    "# Accuracy\n",
    "accuracy <- cm_xgb$overall[\"Accuracy\"]\n",
    "\n",
    "# Recall (Sensitivity)\n",
    "recall <- cm_xgb$byClass[\"Sensitivity\"]\n",
    "\n",
    "# ROC-AUC\n",
    "roc_xgb <- roc(as.factor(y_test), xgb_prob)\n",
    "auc_value <- auc(roc_xgb)\n",
    "\n",
    "# Print metrics\n",
    "print(paste(\"Accuracy:\", round(accuracy, 4)))\n",
    "print(paste(\"Recall:\", round(recall, 4)))\n",
    "print(paste(\"ROC-AUC:\", round(auc_value, 4)))"
   ]
  },
  {
   "cell_type": "markdown",
   "id": "58fc78c2-7c2e-4b18-9a5d-6112254c1fe9",
   "metadata": {},
   "source": [
    "<h2> XGBoost with Stratified K-Fold CV </h2>"
   ]
  },
  {
   "cell_type": "code",
   "execution_count": 27,
   "id": "fc704078-490d-4708-8e9a-f524eccab106",
   "metadata": {},
   "outputs": [
    {
     "name": "stdout",
     "output_type": "stream",
     "text": [
      "[15:17:44] WARNING: src/c_api/c_api.cc:935: `ntree_limit` is deprecated, use `iteration_range` instead.\n",
      "[15:17:44] WARNING: src/c_api/c_api.cc:935: `ntree_limit` is deprecated, use `iteration_range` instead.\n",
      "[15:17:44] WARNING: src/c_api/c_api.cc:935: `ntree_limit` is deprecated, use `iteration_range` instead.\n",
      "[15:17:44] WARNING: src/c_api/c_api.cc:935: `ntree_limit` is deprecated, use `iteration_range` instead.\n",
      "[15:17:45] WARNING: src/c_api/c_api.cc:935: `ntree_limit` is deprecated, use `iteration_range` instead.\n",
      "[15:17:45] WARNING: src/c_api/c_api.cc:935: `ntree_limit` is deprecated, use `iteration_range` instead.\n",
      "[15:17:45] WARNING: src/c_api/c_api.cc:935: `ntree_limit` is deprecated, use `iteration_range` instead.\n",
      "[15:17:45] WARNING: src/c_api/c_api.cc:935: `ntree_limit` is deprecated, use `iteration_range` instead.\n",
      "[15:17:45] WARNING: src/c_api/c_api.cc:935: `ntree_limit` is deprecated, use `iteration_range` instead.\n",
      "[15:17:45] WARNING: src/c_api/c_api.cc:935: `ntree_limit` is deprecated, use `iteration_range` instead.\n",
      "[15:17:45] WARNING: src/c_api/c_api.cc:935: `ntree_limit` is deprecated, use `iteration_range` instead.\n",
      "[15:17:45] WARNING: src/c_api/c_api.cc:935: `ntree_limit` is deprecated, use `iteration_range` instead.\n",
      "[15:17:45] WARNING: src/c_api/c_api.cc:935: `ntree_limit` is deprecated, use `iteration_range` instead.\n",
      "[15:17:45] WARNING: src/c_api/c_api.cc:935: `ntree_limit` is deprecated, use `iteration_range` instead.\n",
      "[15:17:45] WARNING: src/c_api/c_api.cc:935: `ntree_limit` is deprecated, use `iteration_range` instead.\n",
      "[15:17:45] WARNING: src/c_api/c_api.cc:935: `ntree_limit` is deprecated, use `iteration_range` instead.\n",
      "[15:17:46] WARNING: src/c_api/c_api.cc:935: `ntree_limit` is deprecated, use `iteration_range` instead.\n",
      "[15:17:46] WARNING: src/c_api/c_api.cc:935: `ntree_limit` is deprecated, use `iteration_range` instead.\n",
      "[15:17:46] WARNING: src/c_api/c_api.cc:935: `ntree_limit` is deprecated, use `iteration_range` instead.\n",
      "[15:17:46] WARNING: src/c_api/c_api.cc:935: `ntree_limit` is deprecated, use `iteration_range` instead.\n",
      "[15:17:46] WARNING: src/c_api/c_api.cc:935: `ntree_limit` is deprecated, use `iteration_range` instead.\n",
      "[15:17:46] WARNING: src/c_api/c_api.cc:935: `ntree_limit` is deprecated, use `iteration_range` instead.\n",
      "[15:17:46] WARNING: src/c_api/c_api.cc:935: `ntree_limit` is deprecated, use `iteration_range` instead.\n",
      "[15:17:46] WARNING: src/c_api/c_api.cc:935: `ntree_limit` is deprecated, use `iteration_range` instead.\n",
      "[15:17:47] WARNING: src/c_api/c_api.cc:935: `ntree_limit` is deprecated, use `iteration_range` instead.\n",
      "[15:17:47] WARNING: src/c_api/c_api.cc:935: `ntree_limit` is deprecated, use `iteration_range` instead.\n",
      "[15:17:47] WARNING: src/c_api/c_api.cc:935: `ntree_limit` is deprecated, use `iteration_range` instead.\n",
      "[15:17:47] WARNING: src/c_api/c_api.cc:935: `ntree_limit` is deprecated, use `iteration_range` instead.\n",
      "[15:17:47] WARNING: src/c_api/c_api.cc:935: `ntree_limit` is deprecated, use `iteration_range` instead.\n",
      "[15:17:47] WARNING: src/c_api/c_api.cc:935: `ntree_limit` is deprecated, use `iteration_range` instead.\n",
      "[15:17:47] WARNING: src/c_api/c_api.cc:935: `ntree_limit` is deprecated, use `iteration_range` instead.\n",
      "[15:17:47] WARNING: src/c_api/c_api.cc:935: `ntree_limit` is deprecated, use `iteration_range` instead.\n",
      "[15:17:48] WARNING: src/c_api/c_api.cc:935: `ntree_limit` is deprecated, use `iteration_range` instead.\n",
      "[15:17:48] WARNING: src/c_api/c_api.cc:935: `ntree_limit` is deprecated, use `iteration_range` instead.\n",
      "[15:17:48] WARNING: src/c_api/c_api.cc:935: `ntree_limit` is deprecated, use `iteration_range` instead.\n",
      "[15:17:48] WARNING: src/c_api/c_api.cc:935: `ntree_limit` is deprecated, use `iteration_range` instead.\n",
      "[15:17:48] WARNING: src/c_api/c_api.cc:935: `ntree_limit` is deprecated, use `iteration_range` instead.\n",
      "[15:17:48] WARNING: src/c_api/c_api.cc:935: `ntree_limit` is deprecated, use `iteration_range` instead.\n",
      "[15:17:48] WARNING: src/c_api/c_api.cc:935: `ntree_limit` is deprecated, use `iteration_range` instead.\n",
      "[15:17:48] WARNING: src/c_api/c_api.cc:935: `ntree_limit` is deprecated, use `iteration_range` instead.\n",
      "[15:17:48] WARNING: src/c_api/c_api.cc:935: `ntree_limit` is deprecated, use `iteration_range` instead.\n",
      "[15:17:48] WARNING: src/c_api/c_api.cc:935: `ntree_limit` is deprecated, use `iteration_range` instead.\n",
      "[15:17:49] WARNING: src/c_api/c_api.cc:935: `ntree_limit` is deprecated, use `iteration_range` instead.\n",
      "[15:17:49] WARNING: src/c_api/c_api.cc:935: `ntree_limit` is deprecated, use `iteration_range` instead.\n",
      "[15:17:49] WARNING: src/c_api/c_api.cc:935: `ntree_limit` is deprecated, use `iteration_range` instead.\n",
      "[15:17:49] WARNING: src/c_api/c_api.cc:935: `ntree_limit` is deprecated, use `iteration_range` instead.\n",
      "[15:17:49] WARNING: src/c_api/c_api.cc:935: `ntree_limit` is deprecated, use `iteration_range` instead.\n",
      "[15:17:49] WARNING: src/c_api/c_api.cc:935: `ntree_limit` is deprecated, use `iteration_range` instead.\n",
      "[15:17:50] WARNING: src/c_api/c_api.cc:935: `ntree_limit` is deprecated, use `iteration_range` instead.\n",
      "[15:17:50] WARNING: src/c_api/c_api.cc:935: `ntree_limit` is deprecated, use `iteration_range` instead.\n",
      "[15:17:50] WARNING: src/c_api/c_api.cc:935: `ntree_limit` is deprecated, use `iteration_range` instead.\n",
      "[15:17:50] WARNING: src/c_api/c_api.cc:935: `ntree_limit` is deprecated, use `iteration_range` instead.\n",
      "[15:17:50] WARNING: src/c_api/c_api.cc:935: `ntree_limit` is deprecated, use `iteration_range` instead.\n",
      "[15:17:50] WARNING: src/c_api/c_api.cc:935: `ntree_limit` is deprecated, use `iteration_range` instead.\n",
      "[15:17:50] WARNING: src/c_api/c_api.cc:935: `ntree_limit` is deprecated, use `iteration_range` instead.\n",
      "[15:17:50] WARNING: src/c_api/c_api.cc:935: `ntree_limit` is deprecated, use `iteration_range` instead.\n",
      "[15:17:51] WARNING: src/c_api/c_api.cc:935: `ntree_limit` is deprecated, use `iteration_range` instead.\n",
      "[15:17:51] WARNING: src/c_api/c_api.cc:935: `ntree_limit` is deprecated, use `iteration_range` instead.\n",
      "[15:17:51] WARNING: src/c_api/c_api.cc:935: `ntree_limit` is deprecated, use `iteration_range` instead.\n",
      "[15:17:51] WARNING: src/c_api/c_api.cc:935: `ntree_limit` is deprecated, use `iteration_range` instead.\n",
      "[15:17:52] WARNING: src/c_api/c_api.cc:935: `ntree_limit` is deprecated, use `iteration_range` instead.\n",
      "[15:17:52] WARNING: src/c_api/c_api.cc:935: `ntree_limit` is deprecated, use `iteration_range` instead.\n",
      "[15:17:52] WARNING: src/c_api/c_api.cc:935: `ntree_limit` is deprecated, use `iteration_range` instead.\n",
      "[15:17:52] WARNING: src/c_api/c_api.cc:935: `ntree_limit` is deprecated, use `iteration_range` instead.\n",
      "[15:17:53] WARNING: src/c_api/c_api.cc:935: `ntree_limit` is deprecated, use `iteration_range` instead.\n",
      "[15:17:53] WARNING: src/c_api/c_api.cc:935: `ntree_limit` is deprecated, use `iteration_range` instead.\n",
      "[15:17:53] WARNING: src/c_api/c_api.cc:935: `ntree_limit` is deprecated, use `iteration_range` instead.\n",
      "[15:17:53] WARNING: src/c_api/c_api.cc:935: `ntree_limit` is deprecated, use `iteration_range` instead.\n",
      "[15:17:55] WARNING: src/c_api/c_api.cc:935: `ntree_limit` is deprecated, use `iteration_range` instead.\n",
      "[15:17:55] WARNING: src/c_api/c_api.cc:935: `ntree_limit` is deprecated, use `iteration_range` instead.\n",
      "[15:17:55] WARNING: src/c_api/c_api.cc:935: `ntree_limit` is deprecated, use `iteration_range` instead.\n",
      "[15:17:55] WARNING: src/c_api/c_api.cc:935: `ntree_limit` is deprecated, use `iteration_range` instead.\n",
      "[15:17:55] WARNING: src/c_api/c_api.cc:935: `ntree_limit` is deprecated, use `iteration_range` instead.\n",
      "[15:17:55] WARNING: src/c_api/c_api.cc:935: `ntree_limit` is deprecated, use `iteration_range` instead.\n",
      "[15:17:55] WARNING: src/c_api/c_api.cc:935: `ntree_limit` is deprecated, use `iteration_range` instead.\n",
      "[15:17:55] WARNING: src/c_api/c_api.cc:935: `ntree_limit` is deprecated, use `iteration_range` instead.\n",
      "[15:17:55] WARNING: src/c_api/c_api.cc:935: `ntree_limit` is deprecated, use `iteration_range` instead.\n",
      "[15:17:55] WARNING: src/c_api/c_api.cc:935: `ntree_limit` is deprecated, use `iteration_range` instead.\n",
      "[15:17:55] WARNING: src/c_api/c_api.cc:935: `ntree_limit` is deprecated, use `iteration_range` instead.\n",
      "[15:17:55] WARNING: src/c_api/c_api.cc:935: `ntree_limit` is deprecated, use `iteration_range` instead.\n",
      "[15:17:56] WARNING: src/c_api/c_api.cc:935: `ntree_limit` is deprecated, use `iteration_range` instead.\n",
      "[15:17:56] WARNING: src/c_api/c_api.cc:935: `ntree_limit` is deprecated, use `iteration_range` instead.\n",
      "[15:17:56] WARNING: src/c_api/c_api.cc:935: `ntree_limit` is deprecated, use `iteration_range` instead.\n",
      "[15:17:56] WARNING: src/c_api/c_api.cc:935: `ntree_limit` is deprecated, use `iteration_range` instead.\n",
      "[15:17:56] WARNING: src/c_api/c_api.cc:935: `ntree_limit` is deprecated, use `iteration_range` instead.\n",
      "[15:17:56] WARNING: src/c_api/c_api.cc:935: `ntree_limit` is deprecated, use `iteration_range` instead.\n",
      "[15:17:56] WARNING: src/c_api/c_api.cc:935: `ntree_limit` is deprecated, use `iteration_range` instead.\n",
      "[15:17:56] WARNING: src/c_api/c_api.cc:935: `ntree_limit` is deprecated, use `iteration_range` instead.\n",
      "[15:17:56] WARNING: src/c_api/c_api.cc:935: `ntree_limit` is deprecated, use `iteration_range` instead.\n",
      "[15:17:56] WARNING: src/c_api/c_api.cc:935: `ntree_limit` is deprecated, use `iteration_range` instead.\n",
      "[15:17:56] WARNING: src/c_api/c_api.cc:935: `ntree_limit` is deprecated, use `iteration_range` instead.\n",
      "[15:17:56] WARNING: src/c_api/c_api.cc:935: `ntree_limit` is deprecated, use `iteration_range` instead.\n",
      "[15:17:57] WARNING: src/c_api/c_api.cc:935: `ntree_limit` is deprecated, use `iteration_range` instead.\n",
      "[15:17:57] WARNING: src/c_api/c_api.cc:935: `ntree_limit` is deprecated, use `iteration_range` instead.\n",
      "[15:17:57] WARNING: src/c_api/c_api.cc:935: `ntree_limit` is deprecated, use `iteration_range` instead.\n",
      "[15:17:57] WARNING: src/c_api/c_api.cc:935: `ntree_limit` is deprecated, use `iteration_range` instead.\n",
      "[15:17:58] WARNING: src/c_api/c_api.cc:935: `ntree_limit` is deprecated, use `iteration_range` instead.\n",
      "[15:17:58] WARNING: src/c_api/c_api.cc:935: `ntree_limit` is deprecated, use `iteration_range` instead.\n",
      "[15:17:58] WARNING: src/c_api/c_api.cc:935: `ntree_limit` is deprecated, use `iteration_range` instead.\n",
      "[15:17:58] WARNING: src/c_api/c_api.cc:935: `ntree_limit` is deprecated, use `iteration_range` instead.\n",
      "[15:17:59] WARNING: src/c_api/c_api.cc:935: `ntree_limit` is deprecated, use `iteration_range` instead.\n",
      "[15:17:59] WARNING: src/c_api/c_api.cc:935: `ntree_limit` is deprecated, use `iteration_range` instead.\n",
      "[15:17:59] WARNING: src/c_api/c_api.cc:935: `ntree_limit` is deprecated, use `iteration_range` instead.\n",
      "[15:17:59] WARNING: src/c_api/c_api.cc:935: `ntree_limit` is deprecated, use `iteration_range` instead.\n",
      "[15:17:59] WARNING: src/c_api/c_api.cc:935: `ntree_limit` is deprecated, use `iteration_range` instead.\n",
      "[15:17:59] WARNING: src/c_api/c_api.cc:935: `ntree_limit` is deprecated, use `iteration_range` instead.\n",
      "[15:17:59] WARNING: src/c_api/c_api.cc:935: `ntree_limit` is deprecated, use `iteration_range` instead.\n",
      "[15:17:59] WARNING: src/c_api/c_api.cc:935: `ntree_limit` is deprecated, use `iteration_range` instead.\n",
      "[15:18:00] WARNING: src/c_api/c_api.cc:935: `ntree_limit` is deprecated, use `iteration_range` instead.\n",
      "[15:18:00] WARNING: src/c_api/c_api.cc:935: `ntree_limit` is deprecated, use `iteration_range` instead.\n",
      "[15:18:00] WARNING: src/c_api/c_api.cc:935: `ntree_limit` is deprecated, use `iteration_range` instead.\n",
      "[15:18:00] WARNING: src/c_api/c_api.cc:935: `ntree_limit` is deprecated, use `iteration_range` instead.\n",
      "[15:18:01] WARNING: src/c_api/c_api.cc:935: `ntree_limit` is deprecated, use `iteration_range` instead.\n",
      "[15:18:01] WARNING: src/c_api/c_api.cc:935: `ntree_limit` is deprecated, use `iteration_range` instead.\n",
      "[15:18:01] WARNING: src/c_api/c_api.cc:935: `ntree_limit` is deprecated, use `iteration_range` instead.\n",
      "[15:18:01] WARNING: src/c_api/c_api.cc:935: `ntree_limit` is deprecated, use `iteration_range` instead.\n",
      "[15:18:02] WARNING: src/c_api/c_api.cc:935: `ntree_limit` is deprecated, use `iteration_range` instead.\n",
      "[15:18:02] WARNING: src/c_api/c_api.cc:935: `ntree_limit` is deprecated, use `iteration_range` instead.\n",
      "[15:18:02] WARNING: src/c_api/c_api.cc:935: `ntree_limit` is deprecated, use `iteration_range` instead.\n",
      "[15:18:02] WARNING: src/c_api/c_api.cc:935: `ntree_limit` is deprecated, use `iteration_range` instead.\n",
      "[15:18:03] WARNING: src/c_api/c_api.cc:935: `ntree_limit` is deprecated, use `iteration_range` instead.\n",
      "[15:18:03] WARNING: src/c_api/c_api.cc:935: `ntree_limit` is deprecated, use `iteration_range` instead.\n",
      "[15:18:03] WARNING: src/c_api/c_api.cc:935: `ntree_limit` is deprecated, use `iteration_range` instead.\n",
      "[15:18:03] WARNING: src/c_api/c_api.cc:935: `ntree_limit` is deprecated, use `iteration_range` instead.\n",
      "[15:18:03] WARNING: src/c_api/c_api.cc:935: `ntree_limit` is deprecated, use `iteration_range` instead.\n",
      "[15:18:03] WARNING: src/c_api/c_api.cc:935: `ntree_limit` is deprecated, use `iteration_range` instead.\n",
      "[15:18:04] WARNING: src/c_api/c_api.cc:935: `ntree_limit` is deprecated, use `iteration_range` instead.\n",
      "[15:18:04] WARNING: src/c_api/c_api.cc:935: `ntree_limit` is deprecated, use `iteration_range` instead.\n",
      "[15:18:04] WARNING: src/c_api/c_api.cc:935: `ntree_limit` is deprecated, use `iteration_range` instead.\n",
      "[15:18:04] WARNING: src/c_api/c_api.cc:935: `ntree_limit` is deprecated, use `iteration_range` instead.\n",
      "[15:18:04] WARNING: src/c_api/c_api.cc:935: `ntree_limit` is deprecated, use `iteration_range` instead.\n",
      "[15:18:04] WARNING: src/c_api/c_api.cc:935: `ntree_limit` is deprecated, use `iteration_range` instead.\n",
      "[15:18:05] WARNING: src/c_api/c_api.cc:935: `ntree_limit` is deprecated, use `iteration_range` instead.\n",
      "[15:18:05] WARNING: src/c_api/c_api.cc:935: `ntree_limit` is deprecated, use `iteration_range` instead.\n",
      "[15:18:05] WARNING: src/c_api/c_api.cc:935: `ntree_limit` is deprecated, use `iteration_range` instead.\n",
      "[15:18:05] WARNING: src/c_api/c_api.cc:935: `ntree_limit` is deprecated, use `iteration_range` instead.\n",
      "[15:18:06] WARNING: src/c_api/c_api.cc:935: `ntree_limit` is deprecated, use `iteration_range` instead.\n",
      "[15:18:06] WARNING: src/c_api/c_api.cc:935: `ntree_limit` is deprecated, use `iteration_range` instead.\n",
      "[15:18:06] WARNING: src/c_api/c_api.cc:935: `ntree_limit` is deprecated, use `iteration_range` instead.\n",
      "[15:18:06] WARNING: src/c_api/c_api.cc:935: `ntree_limit` is deprecated, use `iteration_range` instead.\n",
      "[15:18:07] WARNING: src/c_api/c_api.cc:935: `ntree_limit` is deprecated, use `iteration_range` instead.\n",
      "[15:18:07] WARNING: src/c_api/c_api.cc:935: `ntree_limit` is deprecated, use `iteration_range` instead.\n",
      "[15:18:07] WARNING: src/c_api/c_api.cc:935: `ntree_limit` is deprecated, use `iteration_range` instead.\n",
      "[15:18:07] WARNING: src/c_api/c_api.cc:935: `ntree_limit` is deprecated, use `iteration_range` instead.\n",
      "[15:18:08] WARNING: src/c_api/c_api.cc:935: `ntree_limit` is deprecated, use `iteration_range` instead.\n",
      "[15:18:08] WARNING: src/c_api/c_api.cc:935: `ntree_limit` is deprecated, use `iteration_range` instead.\n",
      "[15:18:08] WARNING: src/c_api/c_api.cc:935: `ntree_limit` is deprecated, use `iteration_range` instead.\n",
      "[15:18:08] WARNING: src/c_api/c_api.cc:935: `ntree_limit` is deprecated, use `iteration_range` instead.\n",
      "[15:18:08] WARNING: src/c_api/c_api.cc:935: `ntree_limit` is deprecated, use `iteration_range` instead.\n",
      "[15:18:08] WARNING: src/c_api/c_api.cc:935: `ntree_limit` is deprecated, use `iteration_range` instead.\n",
      "[15:18:08] WARNING: src/c_api/c_api.cc:935: `ntree_limit` is deprecated, use `iteration_range` instead.\n",
      "[15:18:08] WARNING: src/c_api/c_api.cc:935: `ntree_limit` is deprecated, use `iteration_range` instead.\n",
      "[15:18:09] WARNING: src/c_api/c_api.cc:935: `ntree_limit` is deprecated, use `iteration_range` instead.\n",
      "[15:18:09] WARNING: src/c_api/c_api.cc:935: `ntree_limit` is deprecated, use `iteration_range` instead.\n",
      "[15:18:09] WARNING: src/c_api/c_api.cc:935: `ntree_limit` is deprecated, use `iteration_range` instead.\n",
      "[15:18:09] WARNING: src/c_api/c_api.cc:935: `ntree_limit` is deprecated, use `iteration_range` instead.\n",
      "[15:18:09] WARNING: src/c_api/c_api.cc:935: `ntree_limit` is deprecated, use `iteration_range` instead.\n",
      "[15:18:09] WARNING: src/c_api/c_api.cc:935: `ntree_limit` is deprecated, use `iteration_range` instead.\n",
      "[15:18:09] WARNING: src/c_api/c_api.cc:935: `ntree_limit` is deprecated, use `iteration_range` instead.\n",
      "[15:18:09] WARNING: src/c_api/c_api.cc:935: `ntree_limit` is deprecated, use `iteration_range` instead.\n",
      "[15:18:10] WARNING: src/c_api/c_api.cc:935: `ntree_limit` is deprecated, use `iteration_range` instead.\n",
      "[15:18:10] WARNING: src/c_api/c_api.cc:935: `ntree_limit` is deprecated, use `iteration_range` instead.\n",
      "[15:18:10] WARNING: src/c_api/c_api.cc:935: `ntree_limit` is deprecated, use `iteration_range` instead.\n",
      "[15:18:10] WARNING: src/c_api/c_api.cc:935: `ntree_limit` is deprecated, use `iteration_range` instead.\n",
      "[15:18:11] WARNING: src/c_api/c_api.cc:935: `ntree_limit` is deprecated, use `iteration_range` instead.\n",
      "[15:18:11] WARNING: src/c_api/c_api.cc:935: `ntree_limit` is deprecated, use `iteration_range` instead.\n",
      "[15:18:11] WARNING: src/c_api/c_api.cc:935: `ntree_limit` is deprecated, use `iteration_range` instead.\n",
      "[15:18:11] WARNING: src/c_api/c_api.cc:935: `ntree_limit` is deprecated, use `iteration_range` instead.\n",
      "[15:18:11] WARNING: src/c_api/c_api.cc:935: `ntree_limit` is deprecated, use `iteration_range` instead.\n",
      "[15:18:11] WARNING: src/c_api/c_api.cc:935: `ntree_limit` is deprecated, use `iteration_range` instead.\n",
      "[15:18:11] WARNING: src/c_api/c_api.cc:935: `ntree_limit` is deprecated, use `iteration_range` instead.\n",
      "[15:18:11] WARNING: src/c_api/c_api.cc:935: `ntree_limit` is deprecated, use `iteration_range` instead.\n",
      "[15:18:12] WARNING: src/c_api/c_api.cc:935: `ntree_limit` is deprecated, use `iteration_range` instead.\n",
      "[15:18:12] WARNING: src/c_api/c_api.cc:935: `ntree_limit` is deprecated, use `iteration_range` instead.\n",
      "[15:18:12] WARNING: src/c_api/c_api.cc:935: `ntree_limit` is deprecated, use `iteration_range` instead.\n",
      "[15:18:12] WARNING: src/c_api/c_api.cc:935: `ntree_limit` is deprecated, use `iteration_range` instead.\n",
      "[15:18:13] WARNING: src/c_api/c_api.cc:935: `ntree_limit` is deprecated, use `iteration_range` instead.\n",
      "[15:18:13] WARNING: src/c_api/c_api.cc:935: `ntree_limit` is deprecated, use `iteration_range` instead.\n",
      "[15:18:13] WARNING: src/c_api/c_api.cc:935: `ntree_limit` is deprecated, use `iteration_range` instead.\n",
      "[15:18:13] WARNING: src/c_api/c_api.cc:935: `ntree_limit` is deprecated, use `iteration_range` instead.\n",
      "[15:18:13] WARNING: src/c_api/c_api.cc:935: `ntree_limit` is deprecated, use `iteration_range` instead.\n",
      "[15:18:13] WARNING: src/c_api/c_api.cc:935: `ntree_limit` is deprecated, use `iteration_range` instead.\n",
      "[15:18:13] WARNING: src/c_api/c_api.cc:935: `ntree_limit` is deprecated, use `iteration_range` instead.\n",
      "[15:18:13] WARNING: src/c_api/c_api.cc:935: `ntree_limit` is deprecated, use `iteration_range` instead.\n",
      "[15:18:14] WARNING: src/c_api/c_api.cc:935: `ntree_limit` is deprecated, use `iteration_range` instead.\n",
      "[15:18:14] WARNING: src/c_api/c_api.cc:935: `ntree_limit` is deprecated, use `iteration_range` instead.\n",
      "[15:18:14] WARNING: src/c_api/c_api.cc:935: `ntree_limit` is deprecated, use `iteration_range` instead.\n",
      "[15:18:14] WARNING: src/c_api/c_api.cc:935: `ntree_limit` is deprecated, use `iteration_range` instead.\n",
      "[15:18:15] WARNING: src/c_api/c_api.cc:935: `ntree_limit` is deprecated, use `iteration_range` instead.\n",
      "[15:18:15] WARNING: src/c_api/c_api.cc:935: `ntree_limit` is deprecated, use `iteration_range` instead.\n",
      "[15:18:15] WARNING: src/c_api/c_api.cc:935: `ntree_limit` is deprecated, use `iteration_range` instead.\n",
      "[15:18:15] WARNING: src/c_api/c_api.cc:935: `ntree_limit` is deprecated, use `iteration_range` instead.\n",
      "[15:18:16] WARNING: src/c_api/c_api.cc:935: `ntree_limit` is deprecated, use `iteration_range` instead.\n",
      "[15:18:16] WARNING: src/c_api/c_api.cc:935: `ntree_limit` is deprecated, use `iteration_range` instead.\n",
      "[15:18:16] WARNING: src/c_api/c_api.cc:935: `ntree_limit` is deprecated, use `iteration_range` instead.\n",
      "[15:18:16] WARNING: src/c_api/c_api.cc:935: `ntree_limit` is deprecated, use `iteration_range` instead.\n",
      "[15:18:17] WARNING: src/c_api/c_api.cc:935: `ntree_limit` is deprecated, use `iteration_range` instead.\n",
      "[15:18:17] WARNING: src/c_api/c_api.cc:935: `ntree_limit` is deprecated, use `iteration_range` instead.\n",
      "[15:18:17] WARNING: src/c_api/c_api.cc:935: `ntree_limit` is deprecated, use `iteration_range` instead.\n",
      "[15:18:17] WARNING: src/c_api/c_api.cc:935: `ntree_limit` is deprecated, use `iteration_range` instead.\n",
      "[15:18:18] WARNING: src/c_api/c_api.cc:935: `ntree_limit` is deprecated, use `iteration_range` instead.\n",
      "[15:18:18] WARNING: src/c_api/c_api.cc:935: `ntree_limit` is deprecated, use `iteration_range` instead.\n",
      "[15:18:18] WARNING: src/c_api/c_api.cc:935: `ntree_limit` is deprecated, use `iteration_range` instead.\n",
      "[15:18:18] WARNING: src/c_api/c_api.cc:935: `ntree_limit` is deprecated, use `iteration_range` instead.\n",
      "[15:18:19] WARNING: src/c_api/c_api.cc:935: `ntree_limit` is deprecated, use `iteration_range` instead.\n",
      "[15:18:19] WARNING: src/c_api/c_api.cc:935: `ntree_limit` is deprecated, use `iteration_range` instead.\n",
      "[15:18:19] WARNING: src/c_api/c_api.cc:935: `ntree_limit` is deprecated, use `iteration_range` instead.\n",
      "[15:18:19] WARNING: src/c_api/c_api.cc:935: `ntree_limit` is deprecated, use `iteration_range` instead.\n",
      "[15:18:20] WARNING: src/c_api/c_api.cc:935: `ntree_limit` is deprecated, use `iteration_range` instead.\n",
      "[15:18:20] WARNING: src/c_api/c_api.cc:935: `ntree_limit` is deprecated, use `iteration_range` instead.\n",
      "[15:18:20] WARNING: src/c_api/c_api.cc:935: `ntree_limit` is deprecated, use `iteration_range` instead.\n",
      "[15:18:20] WARNING: src/c_api/c_api.cc:935: `ntree_limit` is deprecated, use `iteration_range` instead.\n",
      "[15:18:21] WARNING: src/c_api/c_api.cc:935: `ntree_limit` is deprecated, use `iteration_range` instead.\n",
      "[15:18:21] WARNING: src/c_api/c_api.cc:935: `ntree_limit` is deprecated, use `iteration_range` instead.\n",
      "[15:18:21] WARNING: src/c_api/c_api.cc:935: `ntree_limit` is deprecated, use `iteration_range` instead.\n",
      "[15:18:21] WARNING: src/c_api/c_api.cc:935: `ntree_limit` is deprecated, use `iteration_range` instead.\n",
      "[15:18:22] WARNING: src/c_api/c_api.cc:935: `ntree_limit` is deprecated, use `iteration_range` instead.\n",
      "[15:18:22] WARNING: src/c_api/c_api.cc:935: `ntree_limit` is deprecated, use `iteration_range` instead.\n",
      "[15:18:22] WARNING: src/c_api/c_api.cc:935: `ntree_limit` is deprecated, use `iteration_range` instead.\n",
      "[15:18:22] WARNING: src/c_api/c_api.cc:935: `ntree_limit` is deprecated, use `iteration_range` instead.\n",
      "[15:18:22] WARNING: src/c_api/c_api.cc:935: `ntree_limit` is deprecated, use `iteration_range` instead.\n",
      "[15:18:22] WARNING: src/c_api/c_api.cc:935: `ntree_limit` is deprecated, use `iteration_range` instead.\n",
      "[15:18:22] WARNING: src/c_api/c_api.cc:935: `ntree_limit` is deprecated, use `iteration_range` instead.\n",
      "[15:18:22] WARNING: src/c_api/c_api.cc:935: `ntree_limit` is deprecated, use `iteration_range` instead.\n",
      "[15:18:22] WARNING: src/c_api/c_api.cc:935: `ntree_limit` is deprecated, use `iteration_range` instead.\n",
      "[15:18:22] WARNING: src/c_api/c_api.cc:935: `ntree_limit` is deprecated, use `iteration_range` instead.\n",
      "[15:18:23] WARNING: src/c_api/c_api.cc:935: `ntree_limit` is deprecated, use `iteration_range` instead.\n",
      "[15:18:23] WARNING: src/c_api/c_api.cc:935: `ntree_limit` is deprecated, use `iteration_range` instead.\n",
      "[15:18:23] WARNING: src/c_api/c_api.cc:935: `ntree_limit` is deprecated, use `iteration_range` instead.\n",
      "[15:18:23] WARNING: src/c_api/c_api.cc:935: `ntree_limit` is deprecated, use `iteration_range` instead.\n",
      "[15:18:23] WARNING: src/c_api/c_api.cc:935: `ntree_limit` is deprecated, use `iteration_range` instead.\n",
      "[15:18:23] WARNING: src/c_api/c_api.cc:935: `ntree_limit` is deprecated, use `iteration_range` instead.\n",
      "[15:18:23] WARNING: src/c_api/c_api.cc:935: `ntree_limit` is deprecated, use `iteration_range` instead.\n",
      "[15:18:23] WARNING: src/c_api/c_api.cc:935: `ntree_limit` is deprecated, use `iteration_range` instead.\n",
      "[15:18:23] WARNING: src/c_api/c_api.cc:935: `ntree_limit` is deprecated, use `iteration_range` instead.\n",
      "[15:18:23] WARNING: src/c_api/c_api.cc:935: `ntree_limit` is deprecated, use `iteration_range` instead.\n",
      "[15:18:24] WARNING: src/c_api/c_api.cc:935: `ntree_limit` is deprecated, use `iteration_range` instead.\n",
      "[15:18:24] WARNING: src/c_api/c_api.cc:935: `ntree_limit` is deprecated, use `iteration_range` instead.\n",
      "[15:18:24] WARNING: src/c_api/c_api.cc:935: `ntree_limit` is deprecated, use `iteration_range` instead.\n",
      "[15:18:24] WARNING: src/c_api/c_api.cc:935: `ntree_limit` is deprecated, use `iteration_range` instead.\n",
      "[15:18:25] WARNING: src/c_api/c_api.cc:935: `ntree_limit` is deprecated, use `iteration_range` instead.\n",
      "[15:18:25] WARNING: src/c_api/c_api.cc:935: `ntree_limit` is deprecated, use `iteration_range` instead.\n",
      "[15:18:25] WARNING: src/c_api/c_api.cc:935: `ntree_limit` is deprecated, use `iteration_range` instead.\n",
      "[15:18:25] WARNING: src/c_api/c_api.cc:935: `ntree_limit` is deprecated, use `iteration_range` instead.\n",
      "[15:18:25] WARNING: src/c_api/c_api.cc:935: `ntree_limit` is deprecated, use `iteration_range` instead.\n",
      "[15:18:25] WARNING: src/c_api/c_api.cc:935: `ntree_limit` is deprecated, use `iteration_range` instead.\n",
      "[15:18:25] WARNING: src/c_api/c_api.cc:935: `ntree_limit` is deprecated, use `iteration_range` instead.\n",
      "[15:18:25] WARNING: src/c_api/c_api.cc:935: `ntree_limit` is deprecated, use `iteration_range` instead.\n",
      "[15:18:26] WARNING: src/c_api/c_api.cc:935: `ntree_limit` is deprecated, use `iteration_range` instead.\n",
      "[15:18:26] WARNING: src/c_api/c_api.cc:935: `ntree_limit` is deprecated, use `iteration_range` instead.\n",
      "[15:18:26] WARNING: src/c_api/c_api.cc:935: `ntree_limit` is deprecated, use `iteration_range` instead.\n",
      "[15:18:26] WARNING: src/c_api/c_api.cc:935: `ntree_limit` is deprecated, use `iteration_range` instead.\n",
      "[15:18:27] WARNING: src/c_api/c_api.cc:935: `ntree_limit` is deprecated, use `iteration_range` instead.\n",
      "[15:18:27] WARNING: src/c_api/c_api.cc:935: `ntree_limit` is deprecated, use `iteration_range` instead.\n",
      "[15:18:27] WARNING: src/c_api/c_api.cc:935: `ntree_limit` is deprecated, use `iteration_range` instead.\n",
      "[15:18:27] WARNING: src/c_api/c_api.cc:935: `ntree_limit` is deprecated, use `iteration_range` instead.\n",
      "[15:18:27] WARNING: src/c_api/c_api.cc:935: `ntree_limit` is deprecated, use `iteration_range` instead.\n",
      "[15:18:27] WARNING: src/c_api/c_api.cc:935: `ntree_limit` is deprecated, use `iteration_range` instead.\n",
      "[15:18:27] WARNING: src/c_api/c_api.cc:935: `ntree_limit` is deprecated, use `iteration_range` instead.\n",
      "[15:18:27] WARNING: src/c_api/c_api.cc:935: `ntree_limit` is deprecated, use `iteration_range` instead.\n",
      "[15:18:28] WARNING: src/c_api/c_api.cc:935: `ntree_limit` is deprecated, use `iteration_range` instead.\n",
      "[15:18:28] WARNING: src/c_api/c_api.cc:935: `ntree_limit` is deprecated, use `iteration_range` instead.\n",
      "[15:18:28] WARNING: src/c_api/c_api.cc:935: `ntree_limit` is deprecated, use `iteration_range` instead.\n",
      "[15:18:28] WARNING: src/c_api/c_api.cc:935: `ntree_limit` is deprecated, use `iteration_range` instead.\n",
      "[15:18:29] WARNING: src/c_api/c_api.cc:935: `ntree_limit` is deprecated, use `iteration_range` instead.\n",
      "[15:18:29] WARNING: src/c_api/c_api.cc:935: `ntree_limit` is deprecated, use `iteration_range` instead.\n",
      "[15:18:29] WARNING: src/c_api/c_api.cc:935: `ntree_limit` is deprecated, use `iteration_range` instead.\n",
      "[15:18:29] WARNING: src/c_api/c_api.cc:935: `ntree_limit` is deprecated, use `iteration_range` instead.\n",
      "[15:18:30] WARNING: src/c_api/c_api.cc:935: `ntree_limit` is deprecated, use `iteration_range` instead.\n",
      "[15:18:30] WARNING: src/c_api/c_api.cc:935: `ntree_limit` is deprecated, use `iteration_range` instead.\n",
      "[15:18:30] WARNING: src/c_api/c_api.cc:935: `ntree_limit` is deprecated, use `iteration_range` instead.\n",
      "[15:18:30] WARNING: src/c_api/c_api.cc:935: `ntree_limit` is deprecated, use `iteration_range` instead.\n",
      "[15:18:31] WARNING: src/c_api/c_api.cc:935: `ntree_limit` is deprecated, use `iteration_range` instead.\n",
      "[15:18:31] WARNING: src/c_api/c_api.cc:935: `ntree_limit` is deprecated, use `iteration_range` instead.\n",
      "[15:18:31] WARNING: src/c_api/c_api.cc:935: `ntree_limit` is deprecated, use `iteration_range` instead.\n",
      "[15:18:31] WARNING: src/c_api/c_api.cc:935: `ntree_limit` is deprecated, use `iteration_range` instead.\n",
      "[15:18:32] WARNING: src/c_api/c_api.cc:935: `ntree_limit` is deprecated, use `iteration_range` instead.\n",
      "[15:18:32] WARNING: src/c_api/c_api.cc:935: `ntree_limit` is deprecated, use `iteration_range` instead.\n",
      "[15:18:32] WARNING: src/c_api/c_api.cc:935: `ntree_limit` is deprecated, use `iteration_range` instead.\n",
      "[15:18:32] WARNING: src/c_api/c_api.cc:935: `ntree_limit` is deprecated, use `iteration_range` instead.\n",
      "[15:18:33] WARNING: src/c_api/c_api.cc:935: `ntree_limit` is deprecated, use `iteration_range` instead.\n",
      "[15:18:33] WARNING: src/c_api/c_api.cc:935: `ntree_limit` is deprecated, use `iteration_range` instead.\n",
      "[15:18:33] WARNING: src/c_api/c_api.cc:935: `ntree_limit` is deprecated, use `iteration_range` instead.\n",
      "[15:18:33] WARNING: src/c_api/c_api.cc:935: `ntree_limit` is deprecated, use `iteration_range` instead.\n",
      "[15:18:34] WARNING: src/c_api/c_api.cc:935: `ntree_limit` is deprecated, use `iteration_range` instead.\n",
      "[15:18:34] WARNING: src/c_api/c_api.cc:935: `ntree_limit` is deprecated, use `iteration_range` instead.\n",
      "[15:18:34] WARNING: src/c_api/c_api.cc:935: `ntree_limit` is deprecated, use `iteration_range` instead.\n",
      "[15:18:34] WARNING: src/c_api/c_api.cc:935: `ntree_limit` is deprecated, use `iteration_range` instead.\n",
      "[15:18:34] WARNING: src/c_api/c_api.cc:935: `ntree_limit` is deprecated, use `iteration_range` instead.\n",
      "[15:18:34] WARNING: src/c_api/c_api.cc:935: `ntree_limit` is deprecated, use `iteration_range` instead.\n",
      "[15:18:34] WARNING: src/c_api/c_api.cc:935: `ntree_limit` is deprecated, use `iteration_range` instead.\n",
      "[15:18:34] WARNING: src/c_api/c_api.cc:935: `ntree_limit` is deprecated, use `iteration_range` instead.\n",
      "[15:18:35] WARNING: src/c_api/c_api.cc:935: `ntree_limit` is deprecated, use `iteration_range` instead.\n",
      "[15:18:35] WARNING: src/c_api/c_api.cc:935: `ntree_limit` is deprecated, use `iteration_range` instead.\n",
      "[15:18:35] WARNING: src/c_api/c_api.cc:935: `ntree_limit` is deprecated, use `iteration_range` instead.\n",
      "[15:18:35] WARNING: src/c_api/c_api.cc:935: `ntree_limit` is deprecated, use `iteration_range` instead.\n",
      "[15:18:35] WARNING: src/c_api/c_api.cc:935: `ntree_limit` is deprecated, use `iteration_range` instead.\n",
      "[15:18:35] WARNING: src/c_api/c_api.cc:935: `ntree_limit` is deprecated, use `iteration_range` instead.\n",
      "[15:18:35] WARNING: src/c_api/c_api.cc:935: `ntree_limit` is deprecated, use `iteration_range` instead.\n",
      "[15:18:35] WARNING: src/c_api/c_api.cc:935: `ntree_limit` is deprecated, use `iteration_range` instead.\n",
      "[15:18:36] WARNING: src/c_api/c_api.cc:935: `ntree_limit` is deprecated, use `iteration_range` instead.\n",
      "[15:18:36] WARNING: src/c_api/c_api.cc:935: `ntree_limit` is deprecated, use `iteration_range` instead.\n",
      "[15:18:36] WARNING: src/c_api/c_api.cc:935: `ntree_limit` is deprecated, use `iteration_range` instead.\n",
      "[15:18:36] WARNING: src/c_api/c_api.cc:935: `ntree_limit` is deprecated, use `iteration_range` instead.\n",
      "[15:18:36] WARNING: src/c_api/c_api.cc:935: `ntree_limit` is deprecated, use `iteration_range` instead.\n",
      "[15:18:36] WARNING: src/c_api/c_api.cc:935: `ntree_limit` is deprecated, use `iteration_range` instead.\n",
      "[15:18:36] WARNING: src/c_api/c_api.cc:935: `ntree_limit` is deprecated, use `iteration_range` instead.\n",
      "[15:18:36] WARNING: src/c_api/c_api.cc:935: `ntree_limit` is deprecated, use `iteration_range` instead.\n",
      "[15:18:37] WARNING: src/c_api/c_api.cc:935: `ntree_limit` is deprecated, use `iteration_range` instead.\n",
      "[15:18:37] WARNING: src/c_api/c_api.cc:935: `ntree_limit` is deprecated, use `iteration_range` instead.\n",
      "[15:18:37] WARNING: src/c_api/c_api.cc:935: `ntree_limit` is deprecated, use `iteration_range` instead.\n",
      "[15:18:37] WARNING: src/c_api/c_api.cc:935: `ntree_limit` is deprecated, use `iteration_range` instead.\n",
      "[15:18:37] WARNING: src/c_api/c_api.cc:935: `ntree_limit` is deprecated, use `iteration_range` instead.\n",
      "[15:18:37] WARNING: src/c_api/c_api.cc:935: `ntree_limit` is deprecated, use `iteration_range` instead.\n",
      "[15:18:37] WARNING: src/c_api/c_api.cc:935: `ntree_limit` is deprecated, use `iteration_range` instead.\n",
      "[15:18:37] WARNING: src/c_api/c_api.cc:935: `ntree_limit` is deprecated, use `iteration_range` instead.\n",
      "[15:18:38] WARNING: src/c_api/c_api.cc:935: `ntree_limit` is deprecated, use `iteration_range` instead.\n",
      "[15:18:38] WARNING: src/c_api/c_api.cc:935: `ntree_limit` is deprecated, use `iteration_range` instead.\n",
      "[15:18:38] WARNING: src/c_api/c_api.cc:935: `ntree_limit` is deprecated, use `iteration_range` instead.\n",
      "[15:18:38] WARNING: src/c_api/c_api.cc:935: `ntree_limit` is deprecated, use `iteration_range` instead.\n",
      "[15:18:39] WARNING: src/c_api/c_api.cc:935: `ntree_limit` is deprecated, use `iteration_range` instead.\n",
      "[15:18:39] WARNING: src/c_api/c_api.cc:935: `ntree_limit` is deprecated, use `iteration_range` instead.\n",
      "[15:18:39] WARNING: src/c_api/c_api.cc:935: `ntree_limit` is deprecated, use `iteration_range` instead.\n",
      "[15:18:39] WARNING: src/c_api/c_api.cc:935: `ntree_limit` is deprecated, use `iteration_range` instead.\n",
      "[15:18:39] WARNING: src/c_api/c_api.cc:935: `ntree_limit` is deprecated, use `iteration_range` instead.\n",
      "[15:18:39] WARNING: src/c_api/c_api.cc:935: `ntree_limit` is deprecated, use `iteration_range` instead.\n",
      "[15:18:40] WARNING: src/c_api/c_api.cc:935: `ntree_limit` is deprecated, use `iteration_range` instead.\n",
      "[15:18:40] WARNING: src/c_api/c_api.cc:935: `ntree_limit` is deprecated, use `iteration_range` instead.\n",
      "[15:18:40] WARNING: src/c_api/c_api.cc:935: `ntree_limit` is deprecated, use `iteration_range` instead.\n",
      "[15:18:40] WARNING: src/c_api/c_api.cc:935: `ntree_limit` is deprecated, use `iteration_range` instead.\n",
      "[15:18:40] WARNING: src/c_api/c_api.cc:935: `ntree_limit` is deprecated, use `iteration_range` instead.\n",
      "[15:18:40] WARNING: src/c_api/c_api.cc:935: `ntree_limit` is deprecated, use `iteration_range` instead.\n",
      "[15:18:41] WARNING: src/c_api/c_api.cc:935: `ntree_limit` is deprecated, use `iteration_range` instead.\n",
      "[15:18:41] WARNING: src/c_api/c_api.cc:935: `ntree_limit` is deprecated, use `iteration_range` instead.\n",
      "[15:18:41] WARNING: src/c_api/c_api.cc:935: `ntree_limit` is deprecated, use `iteration_range` instead.\n",
      "[15:18:41] WARNING: src/c_api/c_api.cc:935: `ntree_limit` is deprecated, use `iteration_range` instead.\n",
      "[15:18:42] WARNING: src/c_api/c_api.cc:935: `ntree_limit` is deprecated, use `iteration_range` instead.\n",
      "[15:18:42] WARNING: src/c_api/c_api.cc:935: `ntree_limit` is deprecated, use `iteration_range` instead.\n",
      "[15:18:42] WARNING: src/c_api/c_api.cc:935: `ntree_limit` is deprecated, use `iteration_range` instead.\n",
      "[15:18:42] WARNING: src/c_api/c_api.cc:935: `ntree_limit` is deprecated, use `iteration_range` instead.\n",
      "[15:18:43] WARNING: src/c_api/c_api.cc:935: `ntree_limit` is deprecated, use `iteration_range` instead.\n",
      "[15:18:43] WARNING: src/c_api/c_api.cc:935: `ntree_limit` is deprecated, use `iteration_range` instead.\n",
      "[15:18:43] WARNING: src/c_api/c_api.cc:935: `ntree_limit` is deprecated, use `iteration_range` instead.\n",
      "[15:18:43] WARNING: src/c_api/c_api.cc:935: `ntree_limit` is deprecated, use `iteration_range` instead.\n",
      "[15:18:44] WARNING: src/c_api/c_api.cc:935: `ntree_limit` is deprecated, use `iteration_range` instead.\n",
      "[15:18:44] WARNING: src/c_api/c_api.cc:935: `ntree_limit` is deprecated, use `iteration_range` instead.\n",
      "[15:18:44] WARNING: src/c_api/c_api.cc:935: `ntree_limit` is deprecated, use `iteration_range` instead.\n",
      "[15:18:44] WARNING: src/c_api/c_api.cc:935: `ntree_limit` is deprecated, use `iteration_range` instead.\n",
      "[15:18:45] WARNING: src/c_api/c_api.cc:935: `ntree_limit` is deprecated, use `iteration_range` instead.\n",
      "[15:18:45] WARNING: src/c_api/c_api.cc:935: `ntree_limit` is deprecated, use `iteration_range` instead.\n",
      "[15:18:45] WARNING: src/c_api/c_api.cc:935: `ntree_limit` is deprecated, use `iteration_range` instead.\n",
      "[15:18:45] WARNING: src/c_api/c_api.cc:935: `ntree_limit` is deprecated, use `iteration_range` instead.\n",
      "[15:18:46] WARNING: src/c_api/c_api.cc:935: `ntree_limit` is deprecated, use `iteration_range` instead.\n",
      "[15:18:46] WARNING: src/c_api/c_api.cc:935: `ntree_limit` is deprecated, use `iteration_range` instead.\n",
      "[15:18:46] WARNING: src/c_api/c_api.cc:935: `ntree_limit` is deprecated, use `iteration_range` instead.\n",
      "[15:18:46] WARNING: src/c_api/c_api.cc:935: `ntree_limit` is deprecated, use `iteration_range` instead.\n",
      "[15:18:47] WARNING: src/c_api/c_api.cc:935: `ntree_limit` is deprecated, use `iteration_range` instead.\n",
      "[15:18:47] WARNING: src/c_api/c_api.cc:935: `ntree_limit` is deprecated, use `iteration_range` instead.\n",
      "[15:18:47] WARNING: src/c_api/c_api.cc:935: `ntree_limit` is deprecated, use `iteration_range` instead.\n",
      "[15:18:47] WARNING: src/c_api/c_api.cc:935: `ntree_limit` is deprecated, use `iteration_range` instead.\n",
      "[15:18:47] WARNING: src/c_api/c_api.cc:935: `ntree_limit` is deprecated, use `iteration_range` instead.\n",
      "[15:18:47] WARNING: src/c_api/c_api.cc:935: `ntree_limit` is deprecated, use `iteration_range` instead.\n",
      "[15:18:47] WARNING: src/c_api/c_api.cc:935: `ntree_limit` is deprecated, use `iteration_range` instead.\n",
      "[15:18:47] WARNING: src/c_api/c_api.cc:935: `ntree_limit` is deprecated, use `iteration_range` instead.\n",
      "[15:18:47] WARNING: src/c_api/c_api.cc:935: `ntree_limit` is deprecated, use `iteration_range` instead.\n",
      "[15:18:47] WARNING: src/c_api/c_api.cc:935: `ntree_limit` is deprecated, use `iteration_range` instead.\n",
      "[15:18:47] WARNING: src/c_api/c_api.cc:935: `ntree_limit` is deprecated, use `iteration_range` instead.\n",
      "[15:18:47] WARNING: src/c_api/c_api.cc:935: `ntree_limit` is deprecated, use `iteration_range` instead.\n",
      "[15:18:48] WARNING: src/c_api/c_api.cc:935: `ntree_limit` is deprecated, use `iteration_range` instead.\n",
      "[15:18:48] WARNING: src/c_api/c_api.cc:935: `ntree_limit` is deprecated, use `iteration_range` instead.\n",
      "[15:18:48] WARNING: src/c_api/c_api.cc:935: `ntree_limit` is deprecated, use `iteration_range` instead.\n",
      "[15:18:48] WARNING: src/c_api/c_api.cc:935: `ntree_limit` is deprecated, use `iteration_range` instead.\n",
      "[15:18:48] WARNING: src/c_api/c_api.cc:935: `ntree_limit` is deprecated, use `iteration_range` instead.\n",
      "[15:18:48] WARNING: src/c_api/c_api.cc:935: `ntree_limit` is deprecated, use `iteration_range` instead.\n",
      "[15:18:48] WARNING: src/c_api/c_api.cc:935: `ntree_limit` is deprecated, use `iteration_range` instead.\n",
      "[15:18:48] WARNING: src/c_api/c_api.cc:935: `ntree_limit` is deprecated, use `iteration_range` instead.\n",
      "[15:18:49] WARNING: src/c_api/c_api.cc:935: `ntree_limit` is deprecated, use `iteration_range` instead.\n",
      "[15:18:49] WARNING: src/c_api/c_api.cc:935: `ntree_limit` is deprecated, use `iteration_range` instead.\n",
      "[15:18:49] WARNING: src/c_api/c_api.cc:935: `ntree_limit` is deprecated, use `iteration_range` instead.\n",
      "[15:18:49] WARNING: src/c_api/c_api.cc:935: `ntree_limit` is deprecated, use `iteration_range` instead.\n",
      "[15:18:49] WARNING: src/c_api/c_api.cc:935: `ntree_limit` is deprecated, use `iteration_range` instead.\n",
      "[15:18:49] WARNING: src/c_api/c_api.cc:935: `ntree_limit` is deprecated, use `iteration_range` instead.\n",
      "[15:18:49] WARNING: src/c_api/c_api.cc:935: `ntree_limit` is deprecated, use `iteration_range` instead.\n",
      "[15:18:49] WARNING: src/c_api/c_api.cc:935: `ntree_limit` is deprecated, use `iteration_range` instead.\n",
      "[15:18:50] WARNING: src/c_api/c_api.cc:935: `ntree_limit` is deprecated, use `iteration_range` instead.\n",
      "[15:18:50] WARNING: src/c_api/c_api.cc:935: `ntree_limit` is deprecated, use `iteration_range` instead.\n",
      "[15:18:50] WARNING: src/c_api/c_api.cc:935: `ntree_limit` is deprecated, use `iteration_range` instead.\n",
      "[15:18:50] WARNING: src/c_api/c_api.cc:935: `ntree_limit` is deprecated, use `iteration_range` instead.\n",
      "[15:18:51] WARNING: src/c_api/c_api.cc:935: `ntree_limit` is deprecated, use `iteration_range` instead.\n",
      "[15:18:51] WARNING: src/c_api/c_api.cc:935: `ntree_limit` is deprecated, use `iteration_range` instead.\n",
      "[15:18:51] WARNING: src/c_api/c_api.cc:935: `ntree_limit` is deprecated, use `iteration_range` instead.\n",
      "[15:18:51] WARNING: src/c_api/c_api.cc:935: `ntree_limit` is deprecated, use `iteration_range` instead.\n",
      "[15:18:51] WARNING: src/c_api/c_api.cc:935: `ntree_limit` is deprecated, use `iteration_range` instead.\n",
      "[15:18:51] WARNING: src/c_api/c_api.cc:935: `ntree_limit` is deprecated, use `iteration_range` instead.\n",
      "[15:18:51] WARNING: src/c_api/c_api.cc:935: `ntree_limit` is deprecated, use `iteration_range` instead.\n",
      "[15:18:51] WARNING: src/c_api/c_api.cc:935: `ntree_limit` is deprecated, use `iteration_range` instead.\n",
      "[15:18:52] WARNING: src/c_api/c_api.cc:935: `ntree_limit` is deprecated, use `iteration_range` instead.\n",
      "[15:18:52] WARNING: src/c_api/c_api.cc:935: `ntree_limit` is deprecated, use `iteration_range` instead.\n",
      "[15:18:52] WARNING: src/c_api/c_api.cc:935: `ntree_limit` is deprecated, use `iteration_range` instead.\n",
      "[15:18:52] WARNING: src/c_api/c_api.cc:935: `ntree_limit` is deprecated, use `iteration_range` instead.\n",
      "[15:18:53] WARNING: src/c_api/c_api.cc:935: `ntree_limit` is deprecated, use `iteration_range` instead.\n",
      "[15:18:53] WARNING: src/c_api/c_api.cc:935: `ntree_limit` is deprecated, use `iteration_range` instead.\n",
      "[15:18:53] WARNING: src/c_api/c_api.cc:935: `ntree_limit` is deprecated, use `iteration_range` instead.\n",
      "[15:18:53] WARNING: src/c_api/c_api.cc:935: `ntree_limit` is deprecated, use `iteration_range` instead.\n",
      "[15:18:54] WARNING: src/c_api/c_api.cc:935: `ntree_limit` is deprecated, use `iteration_range` instead.\n",
      "[15:18:54] WARNING: src/c_api/c_api.cc:935: `ntree_limit` is deprecated, use `iteration_range` instead.\n",
      "[15:18:54] WARNING: src/c_api/c_api.cc:935: `ntree_limit` is deprecated, use `iteration_range` instead.\n",
      "[15:18:54] WARNING: src/c_api/c_api.cc:935: `ntree_limit` is deprecated, use `iteration_range` instead.\n",
      "[15:18:55] WARNING: src/c_api/c_api.cc:935: `ntree_limit` is deprecated, use `iteration_range` instead.\n",
      "[15:18:55] WARNING: src/c_api/c_api.cc:935: `ntree_limit` is deprecated, use `iteration_range` instead.\n",
      "[15:18:55] WARNING: src/c_api/c_api.cc:935: `ntree_limit` is deprecated, use `iteration_range` instead.\n",
      "[15:18:55] WARNING: src/c_api/c_api.cc:935: `ntree_limit` is deprecated, use `iteration_range` instead.\n",
      "[15:18:56] WARNING: src/c_api/c_api.cc:935: `ntree_limit` is deprecated, use `iteration_range` instead.\n",
      "[15:18:56] WARNING: src/c_api/c_api.cc:935: `ntree_limit` is deprecated, use `iteration_range` instead.\n",
      "[15:18:56] WARNING: src/c_api/c_api.cc:935: `ntree_limit` is deprecated, use `iteration_range` instead.\n",
      "[15:18:56] WARNING: src/c_api/c_api.cc:935: `ntree_limit` is deprecated, use `iteration_range` instead.\n",
      "[15:18:57] WARNING: src/c_api/c_api.cc:935: `ntree_limit` is deprecated, use `iteration_range` instead.\n",
      "[15:18:57] WARNING: src/c_api/c_api.cc:935: `ntree_limit` is deprecated, use `iteration_range` instead.\n",
      "[15:18:57] WARNING: src/c_api/c_api.cc:935: `ntree_limit` is deprecated, use `iteration_range` instead.\n",
      "[15:18:57] WARNING: src/c_api/c_api.cc:935: `ntree_limit` is deprecated, use `iteration_range` instead.\n",
      "[15:18:58] WARNING: src/c_api/c_api.cc:935: `ntree_limit` is deprecated, use `iteration_range` instead.\n",
      "[15:18:58] WARNING: src/c_api/c_api.cc:935: `ntree_limit` is deprecated, use `iteration_range` instead.\n",
      "[15:18:58] WARNING: src/c_api/c_api.cc:935: `ntree_limit` is deprecated, use `iteration_range` instead.\n",
      "[15:18:58] WARNING: src/c_api/c_api.cc:935: `ntree_limit` is deprecated, use `iteration_range` instead.\n",
      "[15:18:59] WARNING: src/c_api/c_api.cc:935: `ntree_limit` is deprecated, use `iteration_range` instead.\n",
      "[15:18:59] WARNING: src/c_api/c_api.cc:935: `ntree_limit` is deprecated, use `iteration_range` instead.\n",
      "[15:18:59] WARNING: src/c_api/c_api.cc:935: `ntree_limit` is deprecated, use `iteration_range` instead.\n",
      "[15:18:59] WARNING: src/c_api/c_api.cc:935: `ntree_limit` is deprecated, use `iteration_range` instead.\n",
      "[15:19:00] WARNING: src/c_api/c_api.cc:935: `ntree_limit` is deprecated, use `iteration_range` instead.\n",
      "[15:19:00] WARNING: src/c_api/c_api.cc:935: `ntree_limit` is deprecated, use `iteration_range` instead.\n",
      "[15:19:00] WARNING: src/c_api/c_api.cc:935: `ntree_limit` is deprecated, use `iteration_range` instead.\n",
      "[15:19:00] WARNING: src/c_api/c_api.cc:935: `ntree_limit` is deprecated, use `iteration_range` instead.\n",
      "[15:19:01] WARNING: src/c_api/c_api.cc:935: `ntree_limit` is deprecated, use `iteration_range` instead.\n",
      "[15:19:01] WARNING: src/c_api/c_api.cc:935: `ntree_limit` is deprecated, use `iteration_range` instead.\n",
      "[15:19:01] WARNING: src/c_api/c_api.cc:935: `ntree_limit` is deprecated, use `iteration_range` instead.\n",
      "[15:19:01] WARNING: src/c_api/c_api.cc:935: `ntree_limit` is deprecated, use `iteration_range` instead.\n",
      "[15:19:01] WARNING: src/c_api/c_api.cc:935: `ntree_limit` is deprecated, use `iteration_range` instead.\n",
      "[15:19:01] WARNING: src/c_api/c_api.cc:935: `ntree_limit` is deprecated, use `iteration_range` instead.\n",
      "[15:19:01] WARNING: src/c_api/c_api.cc:935: `ntree_limit` is deprecated, use `iteration_range` instead.\n",
      "[15:19:01] WARNING: src/c_api/c_api.cc:935: `ntree_limit` is deprecated, use `iteration_range` instead.\n",
      "[15:19:02] WARNING: src/c_api/c_api.cc:935: `ntree_limit` is deprecated, use `iteration_range` instead.\n",
      "[15:19:02] WARNING: src/c_api/c_api.cc:935: `ntree_limit` is deprecated, use `iteration_range` instead.\n",
      "[15:19:02] WARNING: src/c_api/c_api.cc:935: `ntree_limit` is deprecated, use `iteration_range` instead.\n",
      "[15:19:02] WARNING: src/c_api/c_api.cc:935: `ntree_limit` is deprecated, use `iteration_range` instead.\n",
      "[15:19:02] WARNING: src/c_api/c_api.cc:935: `ntree_limit` is deprecated, use `iteration_range` instead.\n",
      "[15:19:02] WARNING: src/c_api/c_api.cc:935: `ntree_limit` is deprecated, use `iteration_range` instead.\n",
      "[15:19:02] WARNING: src/c_api/c_api.cc:935: `ntree_limit` is deprecated, use `iteration_range` instead.\n",
      "[15:19:02] WARNING: src/c_api/c_api.cc:935: `ntree_limit` is deprecated, use `iteration_range` instead.\n",
      "[15:19:03] WARNING: src/c_api/c_api.cc:935: `ntree_limit` is deprecated, use `iteration_range` instead.\n",
      "[15:19:03] WARNING: src/c_api/c_api.cc:935: `ntree_limit` is deprecated, use `iteration_range` instead.\n",
      "[15:19:03] WARNING: src/c_api/c_api.cc:935: `ntree_limit` is deprecated, use `iteration_range` instead.\n",
      "[15:19:03] WARNING: src/c_api/c_api.cc:935: `ntree_limit` is deprecated, use `iteration_range` instead.\n",
      "[15:19:03] WARNING: src/c_api/c_api.cc:935: `ntree_limit` is deprecated, use `iteration_range` instead.\n",
      "[15:19:03] WARNING: src/c_api/c_api.cc:935: `ntree_limit` is deprecated, use `iteration_range` instead.\n",
      "[15:19:03] WARNING: src/c_api/c_api.cc:935: `ntree_limit` is deprecated, use `iteration_range` instead.\n",
      "[15:19:03] WARNING: src/c_api/c_api.cc:935: `ntree_limit` is deprecated, use `iteration_range` instead.\n",
      "[15:19:04] WARNING: src/c_api/c_api.cc:935: `ntree_limit` is deprecated, use `iteration_range` instead.\n",
      "[15:19:04] WARNING: src/c_api/c_api.cc:935: `ntree_limit` is deprecated, use `iteration_range` instead.\n",
      "[15:19:04] WARNING: src/c_api/c_api.cc:935: `ntree_limit` is deprecated, use `iteration_range` instead.\n",
      "[15:19:04] WARNING: src/c_api/c_api.cc:935: `ntree_limit` is deprecated, use `iteration_range` instead.\n",
      "[15:19:04] WARNING: src/c_api/c_api.cc:935: `ntree_limit` is deprecated, use `iteration_range` instead.\n",
      "[15:19:04] WARNING: src/c_api/c_api.cc:935: `ntree_limit` is deprecated, use `iteration_range` instead.\n",
      "[15:19:04] WARNING: src/c_api/c_api.cc:935: `ntree_limit` is deprecated, use `iteration_range` instead.\n",
      "[15:19:04] WARNING: src/c_api/c_api.cc:935: `ntree_limit` is deprecated, use `iteration_range` instead.\n",
      "[15:19:05] WARNING: src/c_api/c_api.cc:935: `ntree_limit` is deprecated, use `iteration_range` instead.\n",
      "[15:19:05] WARNING: src/c_api/c_api.cc:935: `ntree_limit` is deprecated, use `iteration_range` instead.\n",
      "[15:19:05] WARNING: src/c_api/c_api.cc:935: `ntree_limit` is deprecated, use `iteration_range` instead.\n",
      "[15:19:05] WARNING: src/c_api/c_api.cc:935: `ntree_limit` is deprecated, use `iteration_range` instead.\n",
      "[15:19:06] WARNING: src/c_api/c_api.cc:935: `ntree_limit` is deprecated, use `iteration_range` instead.\n",
      "[15:19:06] WARNING: src/c_api/c_api.cc:935: `ntree_limit` is deprecated, use `iteration_range` instead.\n",
      "[15:19:06] WARNING: src/c_api/c_api.cc:935: `ntree_limit` is deprecated, use `iteration_range` instead.\n",
      "[15:19:06] WARNING: src/c_api/c_api.cc:935: `ntree_limit` is deprecated, use `iteration_range` instead.\n",
      "[15:19:07] WARNING: src/c_api/c_api.cc:935: `ntree_limit` is deprecated, use `iteration_range` instead.\n",
      "[15:19:07] WARNING: src/c_api/c_api.cc:935: `ntree_limit` is deprecated, use `iteration_range` instead.\n",
      "[15:19:07] WARNING: src/c_api/c_api.cc:935: `ntree_limit` is deprecated, use `iteration_range` instead.\n",
      "[15:19:07] WARNING: src/c_api/c_api.cc:935: `ntree_limit` is deprecated, use `iteration_range` instead.\n",
      "[15:19:07] WARNING: src/c_api/c_api.cc:935: `ntree_limit` is deprecated, use `iteration_range` instead.\n",
      "[15:19:07] WARNING: src/c_api/c_api.cc:935: `ntree_limit` is deprecated, use `iteration_range` instead.\n",
      "[15:19:07] WARNING: src/c_api/c_api.cc:935: `ntree_limit` is deprecated, use `iteration_range` instead.\n",
      "[15:19:07] WARNING: src/c_api/c_api.cc:935: `ntree_limit` is deprecated, use `iteration_range` instead.\n",
      "[15:19:08] WARNING: src/c_api/c_api.cc:935: `ntree_limit` is deprecated, use `iteration_range` instead.\n",
      "[15:19:08] WARNING: src/c_api/c_api.cc:935: `ntree_limit` is deprecated, use `iteration_range` instead.\n",
      "[15:19:08] WARNING: src/c_api/c_api.cc:935: `ntree_limit` is deprecated, use `iteration_range` instead.\n",
      "[15:19:08] WARNING: src/c_api/c_api.cc:935: `ntree_limit` is deprecated, use `iteration_range` instead.\n",
      "[15:19:09] WARNING: src/c_api/c_api.cc:935: `ntree_limit` is deprecated, use `iteration_range` instead.\n",
      "[15:19:09] WARNING: src/c_api/c_api.cc:935: `ntree_limit` is deprecated, use `iteration_range` instead.\n",
      "[15:19:09] WARNING: src/c_api/c_api.cc:935: `ntree_limit` is deprecated, use `iteration_range` instead.\n",
      "[15:19:09] WARNING: src/c_api/c_api.cc:935: `ntree_limit` is deprecated, use `iteration_range` instead.\n",
      "[15:19:10] WARNING: src/c_api/c_api.cc:935: `ntree_limit` is deprecated, use `iteration_range` instead.\n",
      "[15:19:10] WARNING: src/c_api/c_api.cc:935: `ntree_limit` is deprecated, use `iteration_range` instead.\n",
      "[15:19:10] WARNING: src/c_api/c_api.cc:935: `ntree_limit` is deprecated, use `iteration_range` instead.\n",
      "[15:19:10] WARNING: src/c_api/c_api.cc:935: `ntree_limit` is deprecated, use `iteration_range` instead.\n",
      "[15:19:11] WARNING: src/c_api/c_api.cc:935: `ntree_limit` is deprecated, use `iteration_range` instead.\n",
      "[15:19:11] WARNING: src/c_api/c_api.cc:935: `ntree_limit` is deprecated, use `iteration_range` instead.\n",
      "[15:19:11] WARNING: src/c_api/c_api.cc:935: `ntree_limit` is deprecated, use `iteration_range` instead.\n",
      "[15:19:11] WARNING: src/c_api/c_api.cc:935: `ntree_limit` is deprecated, use `iteration_range` instead.\n",
      "[15:19:12] WARNING: src/c_api/c_api.cc:935: `ntree_limit` is deprecated, use `iteration_range` instead.\n",
      "[15:19:12] WARNING: src/c_api/c_api.cc:935: `ntree_limit` is deprecated, use `iteration_range` instead.\n",
      "[15:19:12] WARNING: src/c_api/c_api.cc:935: `ntree_limit` is deprecated, use `iteration_range` instead.\n",
      "[15:19:12] WARNING: src/c_api/c_api.cc:935: `ntree_limit` is deprecated, use `iteration_range` instead.\n",
      "[15:19:13] WARNING: src/c_api/c_api.cc:935: `ntree_limit` is deprecated, use `iteration_range` instead.\n",
      "[15:19:13] WARNING: src/c_api/c_api.cc:935: `ntree_limit` is deprecated, use `iteration_range` instead.\n",
      "[15:19:13] WARNING: src/c_api/c_api.cc:935: `ntree_limit` is deprecated, use `iteration_range` instead.\n",
      "[15:19:13] WARNING: src/c_api/c_api.cc:935: `ntree_limit` is deprecated, use `iteration_range` instead.\n",
      "[15:19:14] WARNING: src/c_api/c_api.cc:935: `ntree_limit` is deprecated, use `iteration_range` instead.\n",
      "[15:19:14] WARNING: src/c_api/c_api.cc:935: `ntree_limit` is deprecated, use `iteration_range` instead.\n",
      "[15:19:14] WARNING: src/c_api/c_api.cc:935: `ntree_limit` is deprecated, use `iteration_range` instead.\n",
      "[15:19:14] WARNING: src/c_api/c_api.cc:935: `ntree_limit` is deprecated, use `iteration_range` instead.\n",
      "[15:19:14] WARNING: src/c_api/c_api.cc:935: `ntree_limit` is deprecated, use `iteration_range` instead.\n",
      "[15:19:14] WARNING: src/c_api/c_api.cc:935: `ntree_limit` is deprecated, use `iteration_range` instead.\n",
      "[15:19:14] WARNING: src/c_api/c_api.cc:935: `ntree_limit` is deprecated, use `iteration_range` instead.\n",
      "[15:19:14] WARNING: src/c_api/c_api.cc:935: `ntree_limit` is deprecated, use `iteration_range` instead.\n",
      "[15:19:15] WARNING: src/c_api/c_api.cc:935: `ntree_limit` is deprecated, use `iteration_range` instead.\n",
      "[15:19:15] WARNING: src/c_api/c_api.cc:935: `ntree_limit` is deprecated, use `iteration_range` instead.\n",
      "[15:19:15] WARNING: src/c_api/c_api.cc:935: `ntree_limit` is deprecated, use `iteration_range` instead.\n",
      "[15:19:15] WARNING: src/c_api/c_api.cc:935: `ntree_limit` is deprecated, use `iteration_range` instead.\n",
      "[15:19:15] WARNING: src/c_api/c_api.cc:935: `ntree_limit` is deprecated, use `iteration_range` instead.\n",
      "[15:19:15] WARNING: src/c_api/c_api.cc:935: `ntree_limit` is deprecated, use `iteration_range` instead.\n",
      "[15:19:15] WARNING: src/c_api/c_api.cc:935: `ntree_limit` is deprecated, use `iteration_range` instead.\n",
      "[15:19:15] WARNING: src/c_api/c_api.cc:935: `ntree_limit` is deprecated, use `iteration_range` instead.\n",
      "[15:19:16] WARNING: src/c_api/c_api.cc:935: `ntree_limit` is deprecated, use `iteration_range` instead.\n",
      "[15:19:16] WARNING: src/c_api/c_api.cc:935: `ntree_limit` is deprecated, use `iteration_range` instead.\n",
      "[15:19:16] WARNING: src/c_api/c_api.cc:935: `ntree_limit` is deprecated, use `iteration_range` instead.\n",
      "[15:19:16] WARNING: src/c_api/c_api.cc:935: `ntree_limit` is deprecated, use `iteration_range` instead.\n",
      "[15:19:16] WARNING: src/c_api/c_api.cc:935: `ntree_limit` is deprecated, use `iteration_range` instead.\n",
      "[15:19:16] WARNING: src/c_api/c_api.cc:935: `ntree_limit` is deprecated, use `iteration_range` instead.\n",
      "[15:19:16] WARNING: src/c_api/c_api.cc:935: `ntree_limit` is deprecated, use `iteration_range` instead.\n",
      "[15:19:16] WARNING: src/c_api/c_api.cc:935: `ntree_limit` is deprecated, use `iteration_range` instead.\n",
      "[15:19:17] WARNING: src/c_api/c_api.cc:935: `ntree_limit` is deprecated, use `iteration_range` instead.\n",
      "[15:19:17] WARNING: src/c_api/c_api.cc:935: `ntree_limit` is deprecated, use `iteration_range` instead.\n",
      "[15:19:17] WARNING: src/c_api/c_api.cc:935: `ntree_limit` is deprecated, use `iteration_range` instead.\n",
      "[15:19:17] WARNING: src/c_api/c_api.cc:935: `ntree_limit` is deprecated, use `iteration_range` instead.\n",
      "[15:19:17] WARNING: src/c_api/c_api.cc:935: `ntree_limit` is deprecated, use `iteration_range` instead.\n",
      "[15:19:17] WARNING: src/c_api/c_api.cc:935: `ntree_limit` is deprecated, use `iteration_range` instead.\n",
      "[15:19:17] WARNING: src/c_api/c_api.cc:935: `ntree_limit` is deprecated, use `iteration_range` instead.\n",
      "[15:19:17] WARNING: src/c_api/c_api.cc:935: `ntree_limit` is deprecated, use `iteration_range` instead.\n",
      "[15:19:18] WARNING: src/c_api/c_api.cc:935: `ntree_limit` is deprecated, use `iteration_range` instead.\n",
      "[15:19:18] WARNING: src/c_api/c_api.cc:935: `ntree_limit` is deprecated, use `iteration_range` instead.\n",
      "[15:19:18] WARNING: src/c_api/c_api.cc:935: `ntree_limit` is deprecated, use `iteration_range` instead.\n",
      "[15:19:18] WARNING: src/c_api/c_api.cc:935: `ntree_limit` is deprecated, use `iteration_range` instead.\n",
      "[15:19:19] WARNING: src/c_api/c_api.cc:935: `ntree_limit` is deprecated, use `iteration_range` instead.\n",
      "[15:19:19] WARNING: src/c_api/c_api.cc:935: `ntree_limit` is deprecated, use `iteration_range` instead.\n",
      "[15:19:19] WARNING: src/c_api/c_api.cc:935: `ntree_limit` is deprecated, use `iteration_range` instead.\n",
      "[15:19:19] WARNING: src/c_api/c_api.cc:935: `ntree_limit` is deprecated, use `iteration_range` instead.\n",
      "[15:19:19] WARNING: src/c_api/c_api.cc:935: `ntree_limit` is deprecated, use `iteration_range` instead.\n",
      "[15:19:19] WARNING: src/c_api/c_api.cc:935: `ntree_limit` is deprecated, use `iteration_range` instead.\n",
      "[15:19:19] WARNING: src/c_api/c_api.cc:935: `ntree_limit` is deprecated, use `iteration_range` instead.\n",
      "[15:19:19] WARNING: src/c_api/c_api.cc:935: `ntree_limit` is deprecated, use `iteration_range` instead.\n",
      "[15:19:20] WARNING: src/c_api/c_api.cc:935: `ntree_limit` is deprecated, use `iteration_range` instead.\n",
      "[15:19:20] WARNING: src/c_api/c_api.cc:935: `ntree_limit` is deprecated, use `iteration_range` instead.\n",
      "[15:19:20] WARNING: src/c_api/c_api.cc:935: `ntree_limit` is deprecated, use `iteration_range` instead.\n",
      "[15:19:20] WARNING: src/c_api/c_api.cc:935: `ntree_limit` is deprecated, use `iteration_range` instead.\n",
      "[15:19:21] WARNING: src/c_api/c_api.cc:935: `ntree_limit` is deprecated, use `iteration_range` instead.\n",
      "[15:19:21] WARNING: src/c_api/c_api.cc:935: `ntree_limit` is deprecated, use `iteration_range` instead.\n",
      "[15:19:21] WARNING: src/c_api/c_api.cc:935: `ntree_limit` is deprecated, use `iteration_range` instead.\n",
      "[15:19:21] WARNING: src/c_api/c_api.cc:935: `ntree_limit` is deprecated, use `iteration_range` instead.\n",
      "[15:19:22] WARNING: src/c_api/c_api.cc:935: `ntree_limit` is deprecated, use `iteration_range` instead.\n",
      "[15:19:22] WARNING: src/c_api/c_api.cc:935: `ntree_limit` is deprecated, use `iteration_range` instead.\n",
      "[15:19:22] WARNING: src/c_api/c_api.cc:935: `ntree_limit` is deprecated, use `iteration_range` instead.\n",
      "[15:19:22] WARNING: src/c_api/c_api.cc:935: `ntree_limit` is deprecated, use `iteration_range` instead.\n",
      "[15:19:23] WARNING: src/c_api/c_api.cc:935: `ntree_limit` is deprecated, use `iteration_range` instead.\n",
      "[15:19:23] WARNING: src/c_api/c_api.cc:935: `ntree_limit` is deprecated, use `iteration_range` instead.\n",
      "[15:19:23] WARNING: src/c_api/c_api.cc:935: `ntree_limit` is deprecated, use `iteration_range` instead.\n",
      "[15:19:23] WARNING: src/c_api/c_api.cc:935: `ntree_limit` is deprecated, use `iteration_range` instead.\n",
      "[15:19:24] WARNING: src/c_api/c_api.cc:935: `ntree_limit` is deprecated, use `iteration_range` instead.\n",
      "[15:19:24] WARNING: src/c_api/c_api.cc:935: `ntree_limit` is deprecated, use `iteration_range` instead.\n",
      "[15:19:24] WARNING: src/c_api/c_api.cc:935: `ntree_limit` is deprecated, use `iteration_range` instead.\n",
      "[15:19:24] WARNING: src/c_api/c_api.cc:935: `ntree_limit` is deprecated, use `iteration_range` instead.\n",
      "[15:19:25] WARNING: src/c_api/c_api.cc:935: `ntree_limit` is deprecated, use `iteration_range` instead.\n",
      "[15:19:25] WARNING: src/c_api/c_api.cc:935: `ntree_limit` is deprecated, use `iteration_range` instead.\n",
      "[15:19:25] WARNING: src/c_api/c_api.cc:935: `ntree_limit` is deprecated, use `iteration_range` instead.\n",
      "[15:19:25] WARNING: src/c_api/c_api.cc:935: `ntree_limit` is deprecated, use `iteration_range` instead.\n",
      "[15:19:26] WARNING: src/c_api/c_api.cc:935: `ntree_limit` is deprecated, use `iteration_range` instead.\n",
      "[15:19:26] WARNING: src/c_api/c_api.cc:935: `ntree_limit` is deprecated, use `iteration_range` instead.\n",
      "[15:19:26] WARNING: src/c_api/c_api.cc:935: `ntree_limit` is deprecated, use `iteration_range` instead.\n",
      "[15:19:26] WARNING: src/c_api/c_api.cc:935: `ntree_limit` is deprecated, use `iteration_range` instead.\n",
      "[15:19:26] WARNING: src/c_api/c_api.cc:935: `ntree_limit` is deprecated, use `iteration_range` instead.\n",
      "[15:19:26] WARNING: src/c_api/c_api.cc:935: `ntree_limit` is deprecated, use `iteration_range` instead.\n",
      "[15:19:26] WARNING: src/c_api/c_api.cc:935: `ntree_limit` is deprecated, use `iteration_range` instead.\n",
      "[15:19:26] WARNING: src/c_api/c_api.cc:935: `ntree_limit` is deprecated, use `iteration_range` instead.\n",
      "[15:19:27] WARNING: src/c_api/c_api.cc:935: `ntree_limit` is deprecated, use `iteration_range` instead.\n",
      "[15:19:27] WARNING: src/c_api/c_api.cc:935: `ntree_limit` is deprecated, use `iteration_range` instead.\n",
      "[15:19:27] WARNING: src/c_api/c_api.cc:935: `ntree_limit` is deprecated, use `iteration_range` instead.\n",
      "[15:19:27] WARNING: src/c_api/c_api.cc:935: `ntree_limit` is deprecated, use `iteration_range` instead.\n",
      "[15:19:27] WARNING: src/c_api/c_api.cc:935: `ntree_limit` is deprecated, use `iteration_range` instead.\n",
      "[15:19:27] WARNING: src/c_api/c_api.cc:935: `ntree_limit` is deprecated, use `iteration_range` instead.\n",
      "[15:19:27] WARNING: src/c_api/c_api.cc:935: `ntree_limit` is deprecated, use `iteration_range` instead.\n",
      "[15:19:27] WARNING: src/c_api/c_api.cc:935: `ntree_limit` is deprecated, use `iteration_range` instead.\n",
      "[15:19:28] WARNING: src/c_api/c_api.cc:935: `ntree_limit` is deprecated, use `iteration_range` instead.\n",
      "[15:19:28] WARNING: src/c_api/c_api.cc:935: `ntree_limit` is deprecated, use `iteration_range` instead.\n",
      "[15:19:28] WARNING: src/c_api/c_api.cc:935: `ntree_limit` is deprecated, use `iteration_range` instead.\n",
      "[15:19:28] WARNING: src/c_api/c_api.cc:935: `ntree_limit` is deprecated, use `iteration_range` instead.\n",
      "[15:19:28] WARNING: src/c_api/c_api.cc:935: `ntree_limit` is deprecated, use `iteration_range` instead.\n",
      "[15:19:28] WARNING: src/c_api/c_api.cc:935: `ntree_limit` is deprecated, use `iteration_range` instead.\n",
      "[15:19:28] WARNING: src/c_api/c_api.cc:935: `ntree_limit` is deprecated, use `iteration_range` instead.\n",
      "[15:19:28] WARNING: src/c_api/c_api.cc:935: `ntree_limit` is deprecated, use `iteration_range` instead.\n",
      "[15:19:29] WARNING: src/c_api/c_api.cc:935: `ntree_limit` is deprecated, use `iteration_range` instead.\n",
      "[15:19:29] WARNING: src/c_api/c_api.cc:935: `ntree_limit` is deprecated, use `iteration_range` instead.\n",
      "[15:19:29] WARNING: src/c_api/c_api.cc:935: `ntree_limit` is deprecated, use `iteration_range` instead.\n",
      "[15:19:29] WARNING: src/c_api/c_api.cc:935: `ntree_limit` is deprecated, use `iteration_range` instead.\n",
      "[15:19:30] WARNING: src/c_api/c_api.cc:935: `ntree_limit` is deprecated, use `iteration_range` instead.\n",
      "[15:19:30] WARNING: src/c_api/c_api.cc:935: `ntree_limit` is deprecated, use `iteration_range` instead.\n",
      "[15:19:30] WARNING: src/c_api/c_api.cc:935: `ntree_limit` is deprecated, use `iteration_range` instead.\n",
      "[15:19:30] WARNING: src/c_api/c_api.cc:935: `ntree_limit` is deprecated, use `iteration_range` instead.\n",
      "[15:19:30] WARNING: src/c_api/c_api.cc:935: `ntree_limit` is deprecated, use `iteration_range` instead.\n",
      "[15:19:30] WARNING: src/c_api/c_api.cc:935: `ntree_limit` is deprecated, use `iteration_range` instead.\n",
      "[15:19:30] WARNING: src/c_api/c_api.cc:935: `ntree_limit` is deprecated, use `iteration_range` instead.\n",
      "[15:19:30] WARNING: src/c_api/c_api.cc:935: `ntree_limit` is deprecated, use `iteration_range` instead.\n",
      "[15:19:31] WARNING: src/c_api/c_api.cc:935: `ntree_limit` is deprecated, use `iteration_range` instead.\n",
      "[15:19:31] WARNING: src/c_api/c_api.cc:935: `ntree_limit` is deprecated, use `iteration_range` instead.\n",
      "[15:19:31] WARNING: src/c_api/c_api.cc:935: `ntree_limit` is deprecated, use `iteration_range` instead.\n",
      "[15:19:31] WARNING: src/c_api/c_api.cc:935: `ntree_limit` is deprecated, use `iteration_range` instead.\n",
      "[15:19:32] WARNING: src/c_api/c_api.cc:935: `ntree_limit` is deprecated, use `iteration_range` instead.\n",
      "[15:19:32] WARNING: src/c_api/c_api.cc:935: `ntree_limit` is deprecated, use `iteration_range` instead.\n",
      "[15:19:32] WARNING: src/c_api/c_api.cc:935: `ntree_limit` is deprecated, use `iteration_range` instead.\n",
      "[15:19:32] WARNING: src/c_api/c_api.cc:935: `ntree_limit` is deprecated, use `iteration_range` instead.\n",
      "[15:19:32] WARNING: src/c_api/c_api.cc:935: `ntree_limit` is deprecated, use `iteration_range` instead.\n",
      "[15:19:32] WARNING: src/c_api/c_api.cc:935: `ntree_limit` is deprecated, use `iteration_range` instead.\n",
      "[15:19:32] WARNING: src/c_api/c_api.cc:935: `ntree_limit` is deprecated, use `iteration_range` instead.\n",
      "[15:19:32] WARNING: src/c_api/c_api.cc:935: `ntree_limit` is deprecated, use `iteration_range` instead.\n",
      "[15:19:33] WARNING: src/c_api/c_api.cc:935: `ntree_limit` is deprecated, use `iteration_range` instead.\n",
      "[15:19:33] WARNING: src/c_api/c_api.cc:935: `ntree_limit` is deprecated, use `iteration_range` instead.\n",
      "[15:19:33] WARNING: src/c_api/c_api.cc:935: `ntree_limit` is deprecated, use `iteration_range` instead.\n",
      "[15:19:33] WARNING: src/c_api/c_api.cc:935: `ntree_limit` is deprecated, use `iteration_range` instead.\n",
      "[15:19:34] WARNING: src/c_api/c_api.cc:935: `ntree_limit` is deprecated, use `iteration_range` instead.\n",
      "[15:19:34] WARNING: src/c_api/c_api.cc:935: `ntree_limit` is deprecated, use `iteration_range` instead.\n",
      "[15:19:34] WARNING: src/c_api/c_api.cc:935: `ntree_limit` is deprecated, use `iteration_range` instead.\n",
      "[15:19:34] WARNING: src/c_api/c_api.cc:935: `ntree_limit` is deprecated, use `iteration_range` instead.\n",
      "[15:19:35] WARNING: src/c_api/c_api.cc:935: `ntree_limit` is deprecated, use `iteration_range` instead.\n",
      "[15:19:35] WARNING: src/c_api/c_api.cc:935: `ntree_limit` is deprecated, use `iteration_range` instead.\n",
      "[15:19:35] WARNING: src/c_api/c_api.cc:935: `ntree_limit` is deprecated, use `iteration_range` instead.\n",
      "[15:19:35] WARNING: src/c_api/c_api.cc:935: `ntree_limit` is deprecated, use `iteration_range` instead.\n",
      "[15:19:36] WARNING: src/c_api/c_api.cc:935: `ntree_limit` is deprecated, use `iteration_range` instead.\n",
      "[15:19:36] WARNING: src/c_api/c_api.cc:935: `ntree_limit` is deprecated, use `iteration_range` instead.\n",
      "[15:19:36] WARNING: src/c_api/c_api.cc:935: `ntree_limit` is deprecated, use `iteration_range` instead.\n",
      "[15:19:36] WARNING: src/c_api/c_api.cc:935: `ntree_limit` is deprecated, use `iteration_range` instead.\n",
      "[15:19:37] WARNING: src/c_api/c_api.cc:935: `ntree_limit` is deprecated, use `iteration_range` instead.\n",
      "[15:19:37] WARNING: src/c_api/c_api.cc:935: `ntree_limit` is deprecated, use `iteration_range` instead.\n",
      "[15:19:37] WARNING: src/c_api/c_api.cc:935: `ntree_limit` is deprecated, use `iteration_range` instead.\n",
      "[15:19:37] WARNING: src/c_api/c_api.cc:935: `ntree_limit` is deprecated, use `iteration_range` instead.\n",
      "[15:19:39] WARNING: src/c_api/c_api.cc:935: `ntree_limit` is deprecated, use `iteration_range` instead.\n",
      "[15:19:39] WARNING: src/c_api/c_api.cc:935: `ntree_limit` is deprecated, use `iteration_range` instead.\n",
      "[15:19:39] WARNING: src/c_api/c_api.cc:935: `ntree_limit` is deprecated, use `iteration_range` instead.\n",
      "[15:19:39] WARNING: src/c_api/c_api.cc:935: `ntree_limit` is deprecated, use `iteration_range` instead.\n",
      "[15:19:40] WARNING: src/c_api/c_api.cc:935: `ntree_limit` is deprecated, use `iteration_range` instead.\n",
      "[15:19:40] WARNING: src/c_api/c_api.cc:935: `ntree_limit` is deprecated, use `iteration_range` instead.\n",
      "[15:19:40] WARNING: src/c_api/c_api.cc:935: `ntree_limit` is deprecated, use `iteration_range` instead.\n",
      "[15:19:40] WARNING: src/c_api/c_api.cc:935: `ntree_limit` is deprecated, use `iteration_range` instead.\n",
      "[15:19:40] WARNING: src/c_api/c_api.cc:935: `ntree_limit` is deprecated, use `iteration_range` instead.\n",
      "[15:19:40] WARNING: src/c_api/c_api.cc:935: `ntree_limit` is deprecated, use `iteration_range` instead.\n",
      "[15:19:40] WARNING: src/c_api/c_api.cc:935: `ntree_limit` is deprecated, use `iteration_range` instead.\n",
      "[15:19:40] WARNING: src/c_api/c_api.cc:935: `ntree_limit` is deprecated, use `iteration_range` instead.\n",
      "[15:19:41] WARNING: src/c_api/c_api.cc:935: `ntree_limit` is deprecated, use `iteration_range` instead.\n",
      "[15:19:41] WARNING: src/c_api/c_api.cc:935: `ntree_limit` is deprecated, use `iteration_range` instead.\n",
      "[15:19:41] WARNING: src/c_api/c_api.cc:935: `ntree_limit` is deprecated, use `iteration_range` instead.\n",
      "[15:19:41] WARNING: src/c_api/c_api.cc:935: `ntree_limit` is deprecated, use `iteration_range` instead.\n",
      "[15:19:41] WARNING: src/c_api/c_api.cc:935: `ntree_limit` is deprecated, use `iteration_range` instead.\n",
      "[15:19:41] WARNING: src/c_api/c_api.cc:935: `ntree_limit` is deprecated, use `iteration_range` instead.\n",
      "[15:19:41] WARNING: src/c_api/c_api.cc:935: `ntree_limit` is deprecated, use `iteration_range` instead.\n",
      "[15:19:41] WARNING: src/c_api/c_api.cc:935: `ntree_limit` is deprecated, use `iteration_range` instead.\n",
      "[15:19:41] WARNING: src/c_api/c_api.cc:935: `ntree_limit` is deprecated, use `iteration_range` instead.\n",
      "[15:19:41] WARNING: src/c_api/c_api.cc:935: `ntree_limit` is deprecated, use `iteration_range` instead.\n",
      "[15:19:42] WARNING: src/c_api/c_api.cc:935: `ntree_limit` is deprecated, use `iteration_range` instead.\n",
      "[15:19:42] WARNING: src/c_api/c_api.cc:935: `ntree_limit` is deprecated, use `iteration_range` instead.\n",
      "[15:19:42] WARNING: src/c_api/c_api.cc:935: `ntree_limit` is deprecated, use `iteration_range` instead.\n",
      "[15:19:42] WARNING: src/c_api/c_api.cc:935: `ntree_limit` is deprecated, use `iteration_range` instead.\n",
      "[15:19:42] WARNING: src/c_api/c_api.cc:935: `ntree_limit` is deprecated, use `iteration_range` instead.\n",
      "[15:19:42] WARNING: src/c_api/c_api.cc:935: `ntree_limit` is deprecated, use `iteration_range` instead.\n",
      "[15:19:42] WARNING: src/c_api/c_api.cc:935: `ntree_limit` is deprecated, use `iteration_range` instead.\n",
      "[15:19:42] WARNING: src/c_api/c_api.cc:935: `ntree_limit` is deprecated, use `iteration_range` instead.\n",
      "[15:19:42] WARNING: src/c_api/c_api.cc:935: `ntree_limit` is deprecated, use `iteration_range` instead.\n",
      "[15:19:42] WARNING: src/c_api/c_api.cc:935: `ntree_limit` is deprecated, use `iteration_range` instead.\n",
      "[15:19:43] WARNING: src/c_api/c_api.cc:935: `ntree_limit` is deprecated, use `iteration_range` instead.\n",
      "[15:19:43] WARNING: src/c_api/c_api.cc:935: `ntree_limit` is deprecated, use `iteration_range` instead.\n",
      "[15:19:43] WARNING: src/c_api/c_api.cc:935: `ntree_limit` is deprecated, use `iteration_range` instead.\n",
      "[15:19:43] WARNING: src/c_api/c_api.cc:935: `ntree_limit` is deprecated, use `iteration_range` instead.\n",
      "[15:19:44] WARNING: src/c_api/c_api.cc:935: `ntree_limit` is deprecated, use `iteration_range` instead.\n",
      "[15:19:44] WARNING: src/c_api/c_api.cc:935: `ntree_limit` is deprecated, use `iteration_range` instead.\n",
      "[15:19:44] WARNING: src/c_api/c_api.cc:935: `ntree_limit` is deprecated, use `iteration_range` instead.\n",
      "[15:19:44] WARNING: src/c_api/c_api.cc:935: `ntree_limit` is deprecated, use `iteration_range` instead.\n",
      "[15:19:44] WARNING: src/c_api/c_api.cc:935: `ntree_limit` is deprecated, use `iteration_range` instead.\n",
      "[15:19:44] WARNING: src/c_api/c_api.cc:935: `ntree_limit` is deprecated, use `iteration_range` instead.\n",
      "[15:19:44] WARNING: src/c_api/c_api.cc:935: `ntree_limit` is deprecated, use `iteration_range` instead.\n",
      "[15:19:44] WARNING: src/c_api/c_api.cc:935: `ntree_limit` is deprecated, use `iteration_range` instead.\n",
      "[15:19:45] WARNING: src/c_api/c_api.cc:935: `ntree_limit` is deprecated, use `iteration_range` instead.\n",
      "[15:19:45] WARNING: src/c_api/c_api.cc:935: `ntree_limit` is deprecated, use `iteration_range` instead.\n",
      "[15:19:45] WARNING: src/c_api/c_api.cc:935: `ntree_limit` is deprecated, use `iteration_range` instead.\n",
      "[15:19:45] WARNING: src/c_api/c_api.cc:935: `ntree_limit` is deprecated, use `iteration_range` instead.\n",
      "[15:19:46] WARNING: src/c_api/c_api.cc:935: `ntree_limit` is deprecated, use `iteration_range` instead.\n",
      "[15:19:46] WARNING: src/c_api/c_api.cc:935: `ntree_limit` is deprecated, use `iteration_range` instead.\n",
      "[15:19:46] WARNING: src/c_api/c_api.cc:935: `ntree_limit` is deprecated, use `iteration_range` instead.\n",
      "[15:19:46] WARNING: src/c_api/c_api.cc:935: `ntree_limit` is deprecated, use `iteration_range` instead.\n",
      "[15:19:46] WARNING: src/c_api/c_api.cc:935: `ntree_limit` is deprecated, use `iteration_range` instead.\n",
      "[15:19:46] WARNING: src/c_api/c_api.cc:935: `ntree_limit` is deprecated, use `iteration_range` instead.\n",
      "[15:19:46] WARNING: src/c_api/c_api.cc:935: `ntree_limit` is deprecated, use `iteration_range` instead.\n",
      "[15:19:46] WARNING: src/c_api/c_api.cc:935: `ntree_limit` is deprecated, use `iteration_range` instead.\n",
      "[15:19:47] WARNING: src/c_api/c_api.cc:935: `ntree_limit` is deprecated, use `iteration_range` instead.\n",
      "[15:19:47] WARNING: src/c_api/c_api.cc:935: `ntree_limit` is deprecated, use `iteration_range` instead.\n",
      "[15:19:47] WARNING: src/c_api/c_api.cc:935: `ntree_limit` is deprecated, use `iteration_range` instead.\n",
      "[15:19:47] WARNING: src/c_api/c_api.cc:935: `ntree_limit` is deprecated, use `iteration_range` instead.\n",
      "[15:19:48] WARNING: src/c_api/c_api.cc:935: `ntree_limit` is deprecated, use `iteration_range` instead.\n",
      "[15:19:48] WARNING: src/c_api/c_api.cc:935: `ntree_limit` is deprecated, use `iteration_range` instead.\n",
      "[15:19:48] WARNING: src/c_api/c_api.cc:935: `ntree_limit` is deprecated, use `iteration_range` instead.\n",
      "[15:19:48] WARNING: src/c_api/c_api.cc:935: `ntree_limit` is deprecated, use `iteration_range` instead.\n",
      "[15:19:49] WARNING: src/c_api/c_api.cc:935: `ntree_limit` is deprecated, use `iteration_range` instead.\n",
      "[15:19:49] WARNING: src/c_api/c_api.cc:935: `ntree_limit` is deprecated, use `iteration_range` instead.\n",
      "[15:19:49] WARNING: src/c_api/c_api.cc:935: `ntree_limit` is deprecated, use `iteration_range` instead.\n",
      "[15:19:49] WARNING: src/c_api/c_api.cc:935: `ntree_limit` is deprecated, use `iteration_range` instead.\n",
      "[15:19:50] WARNING: src/c_api/c_api.cc:935: `ntree_limit` is deprecated, use `iteration_range` instead.\n",
      "[15:19:50] WARNING: src/c_api/c_api.cc:935: `ntree_limit` is deprecated, use `iteration_range` instead.\n",
      "[15:19:50] WARNING: src/c_api/c_api.cc:935: `ntree_limit` is deprecated, use `iteration_range` instead.\n",
      "[15:19:50] WARNING: src/c_api/c_api.cc:935: `ntree_limit` is deprecated, use `iteration_range` instead.\n",
      "[15:19:51] WARNING: src/c_api/c_api.cc:935: `ntree_limit` is deprecated, use `iteration_range` instead.\n",
      "[15:19:51] WARNING: src/c_api/c_api.cc:935: `ntree_limit` is deprecated, use `iteration_range` instead.\n",
      "[15:19:51] WARNING: src/c_api/c_api.cc:935: `ntree_limit` is deprecated, use `iteration_range` instead.\n",
      "[15:19:51] WARNING: src/c_api/c_api.cc:935: `ntree_limit` is deprecated, use `iteration_range` instead.\n",
      "[15:19:52] WARNING: src/c_api/c_api.cc:935: `ntree_limit` is deprecated, use `iteration_range` instead.\n",
      "[15:19:52] WARNING: src/c_api/c_api.cc:935: `ntree_limit` is deprecated, use `iteration_range` instead.\n",
      "[15:19:52] WARNING: src/c_api/c_api.cc:935: `ntree_limit` is deprecated, use `iteration_range` instead.\n",
      "[15:19:52] WARNING: src/c_api/c_api.cc:935: `ntree_limit` is deprecated, use `iteration_range` instead.\n",
      "[1] \"Crossvalidation finished\"\n"
     ]
    }
   ],
   "source": [
    "library(caret)\n",
    "library(pROC)\n",
    "library(xgboost)\n",
    "\n",
    "# Combine X_train and y_train into one dataframe\n",
    "train_data <- data.frame(X_train, Churn = as.factor(y_train))\n",
    "\n",
    "# Stratified 5-fold CV setup\n",
    "train_control <- trainControl(\n",
    "  method = \"cv\", \n",
    "  number = 5,                  # 5-fold CV\n",
    "  classProbs = TRUE,           # needed for ROC\n",
    "  summaryFunction = twoClassSummary, # compute ROC, Sensitivity, Specificity\n",
    "  savePredictions = \"final\"\n",
    ")\n",
    "\n",
    "# Train XGBoost with CV\n",
    "suppressWarnings({\n",
    "\n",
    "    \n",
    "  xgb_cv <- train(\n",
    "    Churn ~ ., \n",
    "    data = train_data,\n",
    "    method = \"xgbTree\",\n",
    "    trControl = train_control,\n",
    "    metric = \"ROC\"\n",
    "  )\n",
    "})\n",
    "print('Crossvalidation finished')\n"
   ]
  },
  {
   "cell_type": "markdown",
   "id": "d21b3b3a-3dfa-468c-b333-84c585af1107",
   "metadata": {},
   "source": [
    "<h4> Evaluation after Stratified K-Fold CV </h4>"
   ]
  },
  {
   "cell_type": "code",
   "execution_count": 29,
   "id": "e699f642-e257-45f4-8ef7-5da227c21269",
   "metadata": {},
   "outputs": [
    {
     "name": "stderr",
     "output_type": "stream",
     "text": [
      "Setting levels: control = No, case = Yes\n",
      "\n",
      "Setting direction: controls < cases\n",
      "\n"
     ]
    },
    {
     "name": "stdout",
     "output_type": "stream",
     "text": [
      "[1] \"CV Accuracy: 0.808\"\n",
      "[1] \"CV Recall: 0.5271\"\n",
      "[1] \"CV ROC-AUC: 0.8519\"\n"
     ]
    }
   ],
   "source": [
    "# Print CV summary (shows ROC, Sensitivity, Specificity)\n",
    "#print(xgb_cv)\n",
    "\n",
    "# Extract predictions from all folds\n",
    "cv_preds <- xgb_cv$pred\n",
    "\n",
    "# Accuracy\n",
    "accuracy <- mean(cv_preds$pred == cv_preds$obs)\n",
    "\n",
    "# Recall (Sensitivity)\n",
    "recall <- sensitivity(cv_preds$pred, cv_preds$obs, positive = \"Yes\")\n",
    "\n",
    "# ROC-AUC\n",
    "roc_obj <- roc(response = cv_preds$obs, predictor = cv_preds$Yes)\n",
    "auc_value <- auc(roc_obj)\n",
    "\n",
    "# Print metrics\n",
    "print(paste(\"CV Accuracy:\", round(accuracy, 4)))\n",
    "print(paste(\"CV Recall:\", round(recall, 4)))\n",
    "print(paste(\"CV ROC-AUC:\", round(auc_value, 4)))"
   ]
  },
  {
   "cell_type": "markdown",
   "id": "893ebf6a-49bd-44cf-ab2c-aef2de439987",
   "metadata": {},
   "source": [
    "<p> XGBoost has an accuracy of 80%, recall of 52% and ROC-AUC 85% </p>"
   ]
  },
  {
   "cell_type": "markdown",
   "id": "cd034db8-0051-4791-b51e-98bcb07752ec",
   "metadata": {},
   "source": [
    "<h2> Interpretation </h2>"
   ]
  },
  {
   "cell_type": "markdown",
   "id": "ce1bac85-93b5-4be4-b8d8-28efdbacd29b",
   "metadata": {},
   "source": [
    "<p> \n",
    "The following are the top 5 churn drivers; <br>\n",
    "    \n",
    "- Internet Services\n",
    "- Monthly Charges\n",
    "- Total Charges\n",
    "- Multiple lines \n",
    "- TV Streaming\n",
    "\n",
    "</p>\n",
    "<h2> Retention Strategies;</h2>\n",
    "\n",
    "#### 1. **Internet Services**\n",
    "\n",
    "**Observation:** Customers may churn if their internet service is slow, unreliable, or not meeting their needs.\n",
    "\n",
    "**Retention Strategies:**\n",
    "\n",
    "* Offer **higher-speed or fiber-optic plans** to customers at risk of churning.\n",
    "* Implement a **service quality guarantee** (e.g., credits if downtime occurs).\n",
    "* Provide **personalized upgrade offers** based on usage.\n",
    "* Educate customers on **bundle benefits** if they combine internet with TV or phone services.\n",
    "\n",
    "#### 2. **Monthly Charges**\n",
    "\n",
    "**Observation:** High monthly charges are often a reason for churn.\n",
    "\n",
    "**Retention Strategies:**\n",
    "\n",
    "* Offer **discounts or loyalty pricing** for long-term subscribers.\n",
    "* Create **flexible plans** that allow customers to pay for what they actually use.\n",
    "* Provide **transparent billing** and highlight savings opportunities.\n",
    "\n",
    "#### 3. **Total Charges**\n",
    "\n",
    "**Observation:** High cumulative costs might make customers feel they’re paying too much over time.\n",
    "\n",
    "**Retention Strategies:**\n",
    "\n",
    "* Launch **annual review programs** to highlight unused services and reduce unnecessary costs.\n",
    "* Offer **bundled packages with discounts** for total cost savings.\n",
    "* Send **proactive notifications** about billing milestones with recommendations to reduce total charges.\n",
    "* \n",
    "#### 4. **Multiple Lines**\n",
    "\n",
    "**Observation:** Customers with multiple lines may feel complicated billing or lack incentives.\n",
    "\n",
    "**Retention Strategies:**\n",
    "\n",
    "* Offer **family or multi-line discounts**.\n",
    "* Simplify **account management** for multiple lines.\n",
    "* Introduce **loyalty rewards** for multi-line households.\n",
    "* Provide **cross-product incentives** (e.g., free streaming or internet upgrades for additional lines).\n",
    "\n",
    "#### 5. **TV Streaming**\n",
    "\n",
    "**Observation:** Lack of desired TV content or poor streaming experience drives churn.\n",
    "\n",
    "**Retention Strategies:**\n",
    "\n",
    "* Offer **customizable streaming packages** based on customer preferences.\n",
    "* Introduce **trial periods for premium channels** to increase engagement.\n",
    "* Ensure **reliable streaming quality**, including app support and offline features.\n",
    "* Bundle streaming with **internet or mobile services** to create perceived value.\n",
    "\n"
   ]
  },
  {
   "cell_type": "markdown",
   "id": "4c857135-754d-4aa1-b967-5c28c3cd5281",
   "metadata": {},
   "source": [
    "<h2> END OF ASSIGNMENT </h2>"
   ]
  },
  {
   "cell_type": "code",
   "execution_count": null,
   "id": "b78fd78e-f3d9-4460-bfad-46fad119adad",
   "metadata": {},
   "outputs": [],
   "source": []
  }
 ],
 "metadata": {
  "kernelspec": {
   "display_name": "R 4.5 ",
   "language": "R",
   "name": "r-4.5"
  },
  "language_info": {
   "codemirror_mode": "r",
   "file_extension": ".r",
   "mimetype": "text/x-r-source",
   "name": "R",
   "pygments_lexer": "r",
   "version": "4.5.1"
  }
 },
 "nbformat": 4,
 "nbformat_minor": 5
}
